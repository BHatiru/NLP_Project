{
  "cells": [
    {
      "cell_type": "code",
      "execution_count": 1,
      "metadata": {
        "id": "YXfJ10EsVseC"
      },
      "outputs": [
        {
          "name": "stderr",
          "output_type": "stream",
          "text": [
            "d:\\AI_Dev_Vault\\Anaconda\\Lib\\site-packages\\transformers\\utils\\generic.py:260: UserWarning: torch.utils._pytree._register_pytree_node is deprecated. Please use torch.utils._pytree.register_pytree_node instead.\n",
            "  torch.utils._pytree._register_pytree_node(\n",
            "d:\\AI_Dev_Vault\\Anaconda\\Lib\\site-packages\\transformers\\utils\\generic.py:260: UserWarning: torch.utils._pytree._register_pytree_node is deprecated. Please use torch.utils._pytree.register_pytree_node instead.\n",
            "  torch.utils._pytree._register_pytree_node(\n"
          ]
        }
      ],
      "source": [
        "import pandas as pd\n",
        "import glob\n",
        "import torch, os\n",
        "from transformers import pipeline, BertForSequenceClassification, BertTokenizerFast, TrainingArguments, Trainer, DistilBertForSequenceClassification, DistilBertTokenizerFast\n",
        "from torch.utils.data import Dataset\n",
        "from sklearn.metrics import accuracy_score, precision_recall_fscore_support"
      ]
    },
    {
      "cell_type": "code",
      "execution_count": 2,
      "metadata": {
        "colab": {
          "base_uri": "https://localhost:8080/"
        },
        "id": "hMPsihmGt5vi",
        "outputId": "4d8c570c-e766-4281-80ed-9293c00b06d3"
      },
      "outputs": [
        {
          "name": "stdout",
          "output_type": "stream",
          "text": [
            "GPU\n"
          ]
        }
      ],
      "source": [
        "if torch.cuda.is_available():\n",
        "    device = torch.device(\"cuda\")\n",
        "    print('GPU')\n",
        "else:\n",
        "    device = torch.device(\"cpu\")\n",
        "    print('CPU')"
      ]
    },
    {
      "cell_type": "code",
      "execution_count": 3,
      "metadata": {
        "id": "y1Fld25-kpot"
      },
      "outputs": [],
      "source": [
        "train_paths = ['./content/train/california_wildfires_2018_train.tsv',\n",
        "               './content/train/canada_wildfires_2016_train.tsv',\n",
        "               './content/train/cyclone_idai_2019_train.tsv',\n",
        "               './content/train/ecuador_earthquake_2016_train.tsv',\n",
        "               './content/train/greece_wildfires_2018_train.tsv',\n",
        "               './content/train/hurricane_dorian_2019_train.tsv',\n",
        "               './content/train/hurricane_florence_2018_train.tsv',\n",
        "               './content/train/hurricane_harvey_2017_train.tsv',\n",
        "               './content/train/hurricane_irma_2017_train.tsv',\n",
        "               './content/train/hurricane_maria_2017_train.tsv',\n",
        "               './content/train/hurricane_matthew_2016_train.tsv',\n",
        "               './content/train/italy_earthquake_aug_2016_train.tsv',\n",
        "               './content/train/kaikoura_earthquake_2016_train.tsv',\n",
        "               './content/train/kerala_floods_2018_train.tsv',\n",
        "               './content/train/maryland_floods_2018_train.tsv',\n",
        "               './content/train/midwestern_us_floods_2019_train.tsv',\n",
        "               './content/train/pakistan_earthquake_2019_train.tsv',\n",
        "               './content/train/puebla_mexico_earthquake_2017_train.tsv',\n",
        "               './content/train/srilanka_floods_2017_train.tsv']\n",
        "\n",
        "val_paths = ['./content/dev/california_wildfires_2018_dev.tsv',\n",
        "             './content/dev/canada_wildfires_2016_dev.tsv',\n",
        "             './content/dev/cyclone_idai_2019_dev.tsv',\n",
        "             './content/dev/ecuador_earthquake_2016_dev.tsv',\n",
        "             './content/dev/greece_wildfires_2018_dev.tsv',\n",
        "             './content/dev/hurricane_dorian_2019_dev.tsv',\n",
        "             './content/dev/hurricane_florence_2018_dev.tsv',\n",
        "             './content/dev/hurricane_harvey_2017_dev.tsv',\n",
        "             './content/dev/hurricane_irma_2017_dev.tsv',\n",
        "             './content/dev/hurricane_maria_2017_dev.tsv',\n",
        "             './content/dev/hurricane_matthew_2016_dev.tsv',\n",
        "             './content/dev/italy_earthquake_aug_2016_dev.tsv',\n",
        "             './content/dev/kaikoura_earthquake_2016_dev.tsv',\n",
        "             './content/dev/kerala_floods_2018_dev.tsv',\n",
        "             './content/dev/maryland_floods_2018_dev.tsv',\n",
        "             './content/dev/midwestern_us_floods_2019_dev.tsv',\n",
        "             './content/dev/pakistan_earthquake_2019_dev.tsv',\n",
        "             './content/dev/puebla_mexico_earthquake_2017_dev.tsv',\n",
        "             './content/dev/srilanka_floods_2017_dev.tsv']\n",
        "\n",
        "test_paths = ['./content/test/california_wildfires_2018_test.tsv',\n",
        "              './content/test/canada_wildfires_2016_test.tsv',\n",
        "              './content/test/cyclone_idai_2019_test.tsv',\n",
        "              './content/test/ecuador_earthquake_2016_test.tsv',\n",
        "              './content/test/greece_wildfires_2018_test.tsv',\n",
        "              './content/test/hurricane_dorian_2019_test.tsv',\n",
        "              './content/test/hurricane_florence_2018_test.tsv',\n",
        "              './content/test/hurricane_harvey_2017_test.tsv',\n",
        "              './content/test/hurricane_irma_2017_test.tsv',\n",
        "              './content/test/hurricane_maria_2017_test.tsv',\n",
        "              './content/test/hurricane_matthew_2016_test.tsv',\n",
        "              './content/test/italy_earthquake_aug_2016_test.tsv',\n",
        "              './content/test/kaikoura_earthquake_2016_test.tsv',\n",
        "              './content/test/kerala_floods_2018_test.tsv',\n",
        "              './content/test/maryland_floods_2018_test.tsv',\n",
        "              './content/test/midwestern_us_floods_2019_test.tsv',\n",
        "              './content/test/pakistan_earthquake_2019_test.tsv',\n",
        "              './content/test/puebla_mexico_earthquake_2017_test.tsv',\n",
        "              './content/test/srilanka_floods_2017_test.tsv']\n",
        "\n",
        "train_file_paths = []\n",
        "\n",
        "for path in train_paths:\n",
        "    files = glob.glob(path)\n",
        "    train_file_paths.extend(files)\n",
        "\n",
        "val_file_paths = []\n",
        "\n",
        "for path in val_paths:\n",
        "    files = glob.glob(path)\n",
        "    val_file_paths.extend(files)\n",
        "\n",
        "test_file_paths = []\n",
        "\n",
        "for path in test_paths:\n",
        "    files = glob.glob(path)\n",
        "    test_file_paths.extend(files)"
      ]
    },
    {
      "cell_type": "code",
      "execution_count": 4,
      "metadata": {
        "colab": {
          "base_uri": "https://localhost:8080/",
          "height": 356
        },
        "id": "fH8nhW9qkrhF",
        "outputId": "0ad78e95-080a-4a13-efca-8ceaef1d3368"
      },
      "outputs": [],
      "source": [
        "train_dfs = []\n",
        "\n",
        "for file in train_file_paths:\n",
        "    df = pd.read_csv(file, sep='\\t')\n",
        "    df = df.iloc[:, 1:] # removing tweet ids\n",
        "    df = df[df['class_label'] != 'missing_or_found_people']\n",
        "    train_dfs.append(df)\n",
        "\n",
        "train_df = pd.concat(train_dfs, ignore_index=True)\n",
        "\n",
        "val_dfs = [] # dataframes\n",
        "\n",
        "for file in val_file_paths:\n",
        "    df = pd.read_csv(file, sep='\\t')\n",
        "    df = df.iloc[:, 1:] # removing tweet ids\n",
        "    df = df[df['class_label'] != 'missing_or_found_people']\n",
        "    val_dfs.append(df)\n",
        "\n",
        "val_df = pd.concat(val_dfs, ignore_index=True)\n",
        "\n",
        "test_dfs = [] # dataframes\n",
        "\n",
        "for file in test_file_paths:\n",
        "    df = pd.read_csv(file, sep='\\t')\n",
        "    df = df.iloc[:, 1:] # removing tweet ids\n",
        "    df = df[df['class_label'] != 'missing_or_found_people']\n",
        "    test_dfs.append(df)\n",
        "\n",
        "test_df = pd.concat(test_dfs, ignore_index=True)"
      ]
    },
    {
      "cell_type": "code",
      "execution_count": 5,
      "metadata": {},
      "outputs": [
        {
          "data": {
            "text/plain": [
              "class_label\n",
              "rescue_volunteering_or_donation_effort    14891\n",
              "other_relevant_information                 8501\n",
              "sympathy_and_support                       6250\n",
              "infrastructure_and_utility_damage          5715\n",
              "injured_or_dead_people                     5110\n",
              "not_humanitarian                           4407\n",
              "caution_and_advice                         3774\n",
              "displaced_people_and_evacuations           2800\n",
              "requests_or_urgent_needs                   1833\n",
              "Name: count, dtype: int64"
            ]
          },
          "execution_count": 5,
          "metadata": {},
          "output_type": "execute_result"
        }
      ],
      "source": [
        "class_labels = train_df['class_label'].unique().tolist()\n",
        "class_counts = train_df['class_label'].value_counts()\n",
        "class_counts"
      ]
    },
    {
      "cell_type": "markdown",
      "metadata": {},
      "source": [
        "Brute force Balance"
      ]
    },
    {
      "cell_type": "code",
      "execution_count": 6,
      "metadata": {
        "id": "JzpRB2jw8KRq"
      },
      "outputs": [],
      "source": [
        "# brute force balance\n",
        "class_labels = train_df['class_label'].unique().tolist()\n",
        "class_counts = train_df['class_label'].value_counts()\n",
        "# Minimum class size\n",
        "min_class_size = 3000 #min(class_counts)\n",
        "\n",
        "balanced_dfs = []  # List to hold balanced DataFrames for each class\n",
        "for class_label in class_labels:\n",
        "    class_df = train_df[train_df['class_label'] == class_label]\n",
        "    # Sample the minimum class size, if sample size is greater than the class size, then sample with replacement\n",
        "    sampled_df = class_df.sample(min_class_size, replace=min_class_size > class_df.shape[0])\n",
        "    balanced_dfs.append(sampled_df)\n",
        "\n",
        "train_df = pd.concat(balanced_dfs, ignore_index=True)\n",
        "# Optional: Shuffle the balanced DataFrame\n",
        "train_df = train_df.sample(frac=1, random_state=42).reset_index(drop=True)\n",
        "\n",
        "class_labels = [s.strip() for s in class_labels]"
      ]
    },
    {
      "cell_type": "code",
      "execution_count": 7,
      "metadata": {},
      "outputs": [
        {
          "data": {
            "text/plain": [
              "class_label\n",
              "other_relevant_information                3000\n",
              "displaced_people_and_evacuations          3000\n",
              "sympathy_and_support                      3000\n",
              "infrastructure_and_utility_damage         3000\n",
              "not_humanitarian                          3000\n",
              "caution_and_advice                        3000\n",
              "requests_or_urgent_needs                  3000\n",
              "rescue_volunteering_or_donation_effort    3000\n",
              "injured_or_dead_people                    3000\n",
              "Name: count, dtype: int64"
            ]
          },
          "execution_count": 7,
          "metadata": {},
          "output_type": "execute_result"
        }
      ],
      "source": [
        "class_labels = train_df['class_label'].unique().tolist()\n",
        "class_counts = train_df['class_label'].value_counts()\n",
        "class_counts"
      ]
    },
    {
      "cell_type": "code",
      "execution_count": 8,
      "metadata": {
        "id": "O_UF9J1Bnqn1"
      },
      "outputs": [],
      "source": [
        "id2label = {id:label for id, label in enumerate(class_labels)}\n",
        "label2id = {label:id for id, label in enumerate(class_labels)}"
      ]
    },
    {
      "cell_type": "code",
      "execution_count": 9,
      "metadata": {},
      "outputs": [],
      "source": [
        "from sklearn.preprocessing import LabelEncoder\n",
        "\n",
        "label_encoder = LabelEncoder()\n",
        "train_df['class_label_num'] = label_encoder.fit_transform(train_df['class_label'])\n",
        "val_df['class_label_num'] = label_encoder.transform(val_df['class_label'])\n",
        "test_df['class_label_num'] = label_encoder.transform(test_df['class_label'])"
      ]
    },
    {
      "cell_type": "code",
      "execution_count": 10,
      "metadata": {},
      "outputs": [
        {
          "data": {
            "text/html": [
              "<div>\n",
              "<style scoped>\n",
              "    .dataframe tbody tr th:only-of-type {\n",
              "        vertical-align: middle;\n",
              "    }\n",
              "\n",
              "    .dataframe tbody tr th {\n",
              "        vertical-align: top;\n",
              "    }\n",
              "\n",
              "    .dataframe thead th {\n",
              "        text-align: right;\n",
              "    }\n",
              "</style>\n",
              "<table border=\"1\" class=\"dataframe\">\n",
              "  <thead>\n",
              "    <tr style=\"text-align: right;\">\n",
              "      <th></th>\n",
              "      <th>tweet_text</th>\n",
              "      <th>class_label</th>\n",
              "      <th>class_label_num</th>\n",
              "    </tr>\n",
              "  </thead>\n",
              "  <tbody>\n",
              "    <tr>\n",
              "      <th>0</th>\n",
              "      <td>The almighty Typhoon Haiyan struck the phillip...</td>\n",
              "      <td>other_relevant_information</td>\n",
              "      <td>5</td>\n",
              "    </tr>\n",
              "    <tr>\n",
              "      <th>1</th>\n",
              "      <td>When it comes to hurricanes, preparation is ke...</td>\n",
              "      <td>displaced_people_and_evacuations</td>\n",
              "      <td>1</td>\n",
              "    </tr>\n",
              "    <tr>\n",
              "      <th>2</th>\n",
              "      <td>#earthquake Pray for safety of people plz</td>\n",
              "      <td>sympathy_and_support</td>\n",
              "      <td>8</td>\n",
              "    </tr>\n",
              "    <tr>\n",
              "      <th>3</th>\n",
              "      <td>Mother Nature is not to be trifled with -- wed...</td>\n",
              "      <td>infrastructure_and_utility_damage</td>\n",
              "      <td>2</td>\n",
              "    </tr>\n",
              "    <tr>\n",
              "      <th>4</th>\n",
              "      <td>And if u ever saw what I wrote here today I as...</td>\n",
              "      <td>not_humanitarian</td>\n",
              "      <td>4</td>\n",
              "    </tr>\n",
              "  </tbody>\n",
              "</table>\n",
              "</div>"
            ],
            "text/plain": [
              "                                          tweet_text  \\\n",
              "0  The almighty Typhoon Haiyan struck the phillip...   \n",
              "1  When it comes to hurricanes, preparation is ke...   \n",
              "2          #earthquake Pray for safety of people plz   \n",
              "3  Mother Nature is not to be trifled with -- wed...   \n",
              "4  And if u ever saw what I wrote here today I as...   \n",
              "\n",
              "                         class_label  class_label_num  \n",
              "0         other_relevant_information                5  \n",
              "1   displaced_people_and_evacuations                1  \n",
              "2               sympathy_and_support                8  \n",
              "3  infrastructure_and_utility_damage                2  \n",
              "4                   not_humanitarian                4  "
            ]
          },
          "execution_count": 10,
          "metadata": {},
          "output_type": "execute_result"
        }
      ],
      "source": [
        "train_df.head()"
      ]
    },
    {
      "cell_type": "code",
      "execution_count": 11,
      "metadata": {},
      "outputs": [],
      "source": [
        "train_tweets = list(train_df.tweet_text)\n",
        "train_labels = list(train_df.class_label_num)\n",
        "\n",
        "val_tweets = list(val_df.tweet_text)\n",
        "val_labels = list(val_df.class_label_num)\n",
        "\n",
        "test_tweets = list(test_df.tweet_text)\n",
        "test_labels = list(test_df.class_label_num)"
      ]
    },
    {
      "cell_type": "code",
      "execution_count": 12,
      "metadata": {},
      "outputs": [],
      "source": [
        "model_name = 'bert-base-uncased'\n",
        "tokenizer = BertTokenizerFast.from_pretrained(model_name)"
      ]
    },
    {
      "cell_type": "code",
      "execution_count": 13,
      "metadata": {},
      "outputs": [],
      "source": [
        "train_encodings = tokenizer(train_tweets, truncation=True, padding=True, max_length=512)\n",
        "val_encodings = tokenizer(val_tweets, truncation=True, padding=True, max_length=512)\n",
        "test_encodings = tokenizer(test_tweets, truncation=True, padding=True, max_length=512)"
      ]
    },
    {
      "cell_type": "code",
      "execution_count": 14,
      "metadata": {},
      "outputs": [],
      "source": [
        "class TweetDataset(Dataset):\n",
        "    def __init__(self, encodings, labels):\n",
        "        self.encodings = encodings\n",
        "        self.labels = labels\n",
        "\n",
        "    def __getitem__(self, idx):\n",
        "        item = {key: torch.tensor(val[idx]) for key, val in self.encodings.items()}\n",
        "        item['labels'] = torch.tensor(self.labels[idx], dtype=torch.long)\n",
        "        return item\n",
        "\n",
        "    def __len__(self):\n",
        "        return len(self.labels)\n"
      ]
    },
    {
      "cell_type": "code",
      "execution_count": 15,
      "metadata": {},
      "outputs": [],
      "source": [
        "train_dataset = TweetDataset(train_encodings, train_labels)  # Use resampled labels\n",
        "val_dataset = TweetDataset(val_encodings, val_labels)\n",
        "test_dataset = TweetDataset(test_encodings, test_labels)"
      ]
    },
    {
      "cell_type": "code",
      "execution_count": 16,
      "metadata": {},
      "outputs": [
        {
          "name": "stderr",
          "output_type": "stream",
          "text": [
            "Some weights of BertForSequenceClassification were not initialized from the model checkpoint at bert-base-uncased and are newly initialized: ['classifier.bias', 'classifier.weight']\n",
            "You should probably TRAIN this model on a down-stream task to be able to use it for predictions and inference.\n"
          ]
        },
        {
          "data": {
            "text/plain": [
              "BertForSequenceClassification(\n",
              "  (bert): BertModel(\n",
              "    (embeddings): BertEmbeddings(\n",
              "      (word_embeddings): Embedding(30522, 768, padding_idx=0)\n",
              "      (position_embeddings): Embedding(512, 768)\n",
              "      (token_type_embeddings): Embedding(2, 768)\n",
              "      (LayerNorm): LayerNorm((768,), eps=1e-12, elementwise_affine=True)\n",
              "      (dropout): Dropout(p=0.1, inplace=False)\n",
              "    )\n",
              "    (encoder): BertEncoder(\n",
              "      (layer): ModuleList(\n",
              "        (0-11): 12 x BertLayer(\n",
              "          (attention): BertAttention(\n",
              "            (self): BertSelfAttention(\n",
              "              (query): Linear(in_features=768, out_features=768, bias=True)\n",
              "              (key): Linear(in_features=768, out_features=768, bias=True)\n",
              "              (value): Linear(in_features=768, out_features=768, bias=True)\n",
              "              (dropout): Dropout(p=0.1, inplace=False)\n",
              "            )\n",
              "            (output): BertSelfOutput(\n",
              "              (dense): Linear(in_features=768, out_features=768, bias=True)\n",
              "              (LayerNorm): LayerNorm((768,), eps=1e-12, elementwise_affine=True)\n",
              "              (dropout): Dropout(p=0.1, inplace=False)\n",
              "            )\n",
              "          )\n",
              "          (intermediate): BertIntermediate(\n",
              "            (dense): Linear(in_features=768, out_features=3072, bias=True)\n",
              "            (intermediate_act_fn): GELUActivation()\n",
              "          )\n",
              "          (output): BertOutput(\n",
              "            (dense): Linear(in_features=3072, out_features=768, bias=True)\n",
              "            (LayerNorm): LayerNorm((768,), eps=1e-12, elementwise_affine=True)\n",
              "            (dropout): Dropout(p=0.1, inplace=False)\n",
              "          )\n",
              "        )\n",
              "      )\n",
              "    )\n",
              "    (pooler): BertPooler(\n",
              "      (dense): Linear(in_features=768, out_features=768, bias=True)\n",
              "      (activation): Tanh()\n",
              "    )\n",
              "  )\n",
              "  (dropout): Dropout(p=0.1, inplace=False)\n",
              "  (classifier): Linear(in_features=768, out_features=9, bias=True)\n",
              ")"
            ]
          },
          "execution_count": 16,
          "metadata": {},
          "output_type": "execute_result"
        }
      ],
      "source": [
        "model = BertForSequenceClassification.from_pretrained(model_name, num_labels=len(class_labels))\n",
        "model.to(device)"
      ]
    },
    {
      "cell_type": "code",
      "execution_count": 17,
      "metadata": {},
      "outputs": [
        {
          "name": "stderr",
          "output_type": "stream",
          "text": [
            "d:\\AI_Dev_Vault\\Anaconda\\Lib\\site-packages\\accelerate\\accelerator.py:436: FutureWarning: Passing the following arguments to `Accelerator` is deprecated and will be removed in version 1.0 of Accelerate: dict_keys(['dispatch_batches']). Please pass an `accelerate.DataLoaderConfiguration` instead: \n",
            "dataloader_config = DataLoaderConfiguration(dispatch_batches=None)\n",
            "  warnings.warn(\n"
          ]
        }
      ],
      "source": [
        "training_args = TrainingArguments(\n",
        "    output_dir='./content/bert_model_output',\n",
        "    do_train=True,\n",
        "    do_eval=True,\n",
        "    num_train_epochs=3,\n",
        "    per_device_train_batch_size=16,\n",
        "    per_device_eval_batch_size=16,\n",
        "    fp16=True,\n",
        "    warmup_steps=200,\n",
        "    weight_decay=0.01,\n",
        "    logging_strategy='steps',\n",
        "    logging_dir='./content/logs',\n",
        "    logging_steps=100,\n",
        "    evaluation_strategy=\"steps\",\n",
        "    eval_steps=100,\n",
        "    save_strategy=\"steps\",\n",
        "    save_steps=500,\n",
        "    load_best_model_at_end=True,\n",
        ")\n",
        "\n",
        "def compute_metrics(pred):\n",
        "    labels = pred.label_ids\n",
        "    preds = pred.predictions.argmax(-1)\n",
        "    precision, recall, f1, _ = precision_recall_fscore_support(labels, preds, average='weighted')\n",
        "    acc = accuracy_score(labels, preds)\n",
        "    return {\n",
        "        'accuracy': acc,\n",
        "        'f1': f1,\n",
        "        'precision': precision,\n",
        "        'recall': recall\n",
        "    }\n",
        "\n",
        "trainer = Trainer(\n",
        "    model=model,\n",
        "    args=training_args,\n",
        "    train_dataset=train_dataset,\n",
        "    eval_dataset=val_dataset,\n",
        "    compute_metrics=compute_metrics\n",
        ")"
      ]
    },
    {
      "cell_type": "code",
      "execution_count": 18,
      "metadata": {},
      "outputs": [
        {
          "data": {
            "application/vnd.jupyter.widget-view+json": {
              "model_id": "b23268e29f814f8db07f61e98e396e73",
              "version_major": 2,
              "version_minor": 0
            },
            "text/plain": [
              "  0%|          | 0/5064 [00:00<?, ?it/s]"
            ]
          },
          "metadata": {},
          "output_type": "display_data"
        },
        {
          "name": "stdout",
          "output_type": "stream",
          "text": [
            "{'loss': 2.1388, 'learning_rate': 2.425e-05, 'epoch': 0.06}\n"
          ]
        },
        {
          "data": {
            "application/vnd.jupyter.widget-view+json": {
              "model_id": "ec90553f42334959838ef15a44b576b3",
              "version_major": 2,
              "version_minor": 0
            },
            "text/plain": [
              "  0%|          | 0/485 [00:00<?, ?it/s]"
            ]
          },
          "metadata": {},
          "output_type": "display_data"
        },
        {
          "name": "stdout",
          "output_type": "stream",
          "text": [
            "{'eval_loss': 1.9613018035888672, 'eval_accuracy': 0.2351424519788578, 'eval_f1': 0.17561170333514334, 'eval_precision': 0.43537709271347547, 'eval_recall': 0.2351424519788578, 'eval_runtime': 23.9275, 'eval_samples_per_second': 324.188, 'eval_steps_per_second': 20.27, 'epoch': 0.06}\n",
            "{'loss': 1.4228, 'learning_rate': 4.9250000000000004e-05, 'epoch': 0.12}\n"
          ]
        },
        {
          "data": {
            "application/vnd.jupyter.widget-view+json": {
              "model_id": "0a2381a2a40c494f9201d18e9a41536d",
              "version_major": 2,
              "version_minor": 0
            },
            "text/plain": [
              "  0%|          | 0/485 [00:00<?, ?it/s]"
            ]
          },
          "metadata": {},
          "output_type": "display_data"
        },
        {
          "name": "stdout",
          "output_type": "stream",
          "text": [
            "{'eval_loss': 0.9819027781486511, 'eval_accuracy': 0.683769498517468, 'eval_f1': 0.6709650985681015, 'eval_precision': 0.7056729362607053, 'eval_recall': 0.683769498517468, 'eval_runtime': 24.8604, 'eval_samples_per_second': 312.022, 'eval_steps_per_second': 19.509, 'epoch': 0.12}\n",
            "{'loss': 0.8705, 'learning_rate': 4.9002878289473684e-05, 'epoch': 0.18}\n"
          ]
        },
        {
          "data": {
            "application/vnd.jupyter.widget-view+json": {
              "model_id": "0134f7bacf744dd3a1e7af0183e206ff",
              "version_major": 2,
              "version_minor": 0
            },
            "text/plain": [
              "  0%|          | 0/485 [00:00<?, ?it/s]"
            ]
          },
          "metadata": {},
          "output_type": "display_data"
        },
        {
          "name": "stdout",
          "output_type": "stream",
          "text": [
            "{'eval_loss': 0.899543046951294, 'eval_accuracy': 0.6927936057754287, 'eval_f1': 0.6761589078478173, 'eval_precision': 0.7061710922839609, 'eval_recall': 0.6927936057754287, 'eval_runtime': 24.1875, 'eval_samples_per_second': 320.702, 'eval_steps_per_second': 20.052, 'epoch': 0.18}\n",
            "{'loss': 0.7742, 'learning_rate': 4.7974917763157895e-05, 'epoch': 0.24}\n"
          ]
        },
        {
          "data": {
            "application/vnd.jupyter.widget-view+json": {
              "model_id": "fb522e1f788b4530b246f0280d6ca070",
              "version_major": 2,
              "version_minor": 0
            },
            "text/plain": [
              "  0%|          | 0/485 [00:00<?, ?it/s]"
            ]
          },
          "metadata": {},
          "output_type": "display_data"
        },
        {
          "name": "stdout",
          "output_type": "stream",
          "text": [
            "{'eval_loss': 0.8965387344360352, 'eval_accuracy': 0.6912466159597782, 'eval_f1': 0.7011200048508109, 'eval_precision': 0.7455872016026324, 'eval_recall': 0.6912466159597782, 'eval_runtime': 24.6634, 'eval_samples_per_second': 314.515, 'eval_steps_per_second': 19.665, 'epoch': 0.24}\n",
            "{'loss': 0.8003, 'learning_rate': 4.6946957236842107e-05, 'epoch': 0.3}\n"
          ]
        },
        {
          "data": {
            "application/vnd.jupyter.widget-view+json": {
              "model_id": "fda3fa8bda884a1491df022c7abbf3fb",
              "version_major": 2,
              "version_minor": 0
            },
            "text/plain": [
              "  0%|          | 0/485 [00:00<?, ?it/s]"
            ]
          },
          "metadata": {},
          "output_type": "display_data"
        },
        {
          "name": "stdout",
          "output_type": "stream",
          "text": [
            "{'eval_loss': 0.9283761978149414, 'eval_accuracy': 0.6845429934252932, 'eval_f1': 0.6820980313371671, 'eval_precision': 0.7198746392364037, 'eval_recall': 0.6845429934252932, 'eval_runtime': 24.9093, 'eval_samples_per_second': 311.41, 'eval_steps_per_second': 19.471, 'epoch': 0.3}\n",
            "{'loss': 0.7822, 'learning_rate': 4.591899671052632e-05, 'epoch': 0.36}\n"
          ]
        },
        {
          "data": {
            "application/vnd.jupyter.widget-view+json": {
              "model_id": "5a70b68b078a441fac00197ebd725a70",
              "version_major": 2,
              "version_minor": 0
            },
            "text/plain": [
              "  0%|          | 0/485 [00:00<?, ?it/s]"
            ]
          },
          "metadata": {},
          "output_type": "display_data"
        },
        {
          "name": "stdout",
          "output_type": "stream",
          "text": [
            "{'eval_loss': 0.7796012759208679, 'eval_accuracy': 0.7364960680675519, 'eval_f1': 0.722276894926144, 'eval_precision': 0.7301788898207838, 'eval_recall': 0.7364960680675519, 'eval_runtime': 24.9095, 'eval_samples_per_second': 311.408, 'eval_steps_per_second': 19.471, 'epoch': 0.36}\n",
            "{'loss': 0.732, 'learning_rate': 4.489103618421053e-05, 'epoch': 0.41}\n"
          ]
        },
        {
          "data": {
            "application/vnd.jupyter.widget-view+json": {
              "model_id": "bbf4517f159342799556923f8a2a93ba",
              "version_major": 2,
              "version_minor": 0
            },
            "text/plain": [
              "  0%|          | 0/485 [00:00<?, ?it/s]"
            ]
          },
          "metadata": {},
          "output_type": "display_data"
        },
        {
          "name": "stdout",
          "output_type": "stream",
          "text": [
            "{'eval_loss': 0.7662121653556824, 'eval_accuracy': 0.7389454686089983, 'eval_f1': 0.7283649681701223, 'eval_precision': 0.7472150307731832, 'eval_recall': 0.7389454686089983, 'eval_runtime': 24.2333, 'eval_samples_per_second': 320.097, 'eval_steps_per_second': 20.014, 'epoch': 0.41}\n",
            "{'loss': 0.7381, 'learning_rate': 4.3863075657894734e-05, 'epoch': 0.47}\n"
          ]
        },
        {
          "data": {
            "application/vnd.jupyter.widget-view+json": {
              "model_id": "9c477e57cd3f4a68809a5e0f57095881",
              "version_major": 2,
              "version_minor": 0
            },
            "text/plain": [
              "  0%|          | 0/485 [00:00<?, ?it/s]"
            ]
          },
          "metadata": {},
          "output_type": "display_data"
        },
        {
          "name": "stdout",
          "output_type": "stream",
          "text": [
            "{'eval_loss': 0.8440464735031128, 'eval_accuracy': 0.7138068841046796, 'eval_f1': 0.7089575837642882, 'eval_precision': 0.7342117502436788, 'eval_recall': 0.7138068841046796, 'eval_runtime': 25.0127, 'eval_samples_per_second': 310.122, 'eval_steps_per_second': 19.39, 'epoch': 0.47}\n",
            "{'loss': 0.6805, 'learning_rate': 4.283511513157895e-05, 'epoch': 0.53}\n"
          ]
        },
        {
          "data": {
            "application/vnd.jupyter.widget-view+json": {
              "model_id": "b68c71c32f6f440d97d1553fa4389aaf",
              "version_major": 2,
              "version_minor": 0
            },
            "text/plain": [
              "  0%|          | 0/485 [00:00<?, ?it/s]"
            ]
          },
          "metadata": {},
          "output_type": "display_data"
        },
        {
          "name": "stdout",
          "output_type": "stream",
          "text": [
            "{'eval_loss': 0.7758824825286865, 'eval_accuracy': 0.7319840144385716, 'eval_f1': 0.7356251247455862, 'eval_precision': 0.7506800003796024, 'eval_recall': 0.7319840144385716, 'eval_runtime': 24.8712, 'eval_samples_per_second': 311.887, 'eval_steps_per_second': 19.5, 'epoch': 0.53}\n",
            "{'loss': 0.7092, 'learning_rate': 4.1807154605263163e-05, 'epoch': 0.59}\n"
          ]
        },
        {
          "data": {
            "application/vnd.jupyter.widget-view+json": {
              "model_id": "dd8d28c272a74c168f646e4a703fc0ed",
              "version_major": 2,
              "version_minor": 0
            },
            "text/plain": [
              "  0%|          | 0/485 [00:00<?, ?it/s]"
            ]
          },
          "metadata": {},
          "output_type": "display_data"
        },
        {
          "name": "stdout",
          "output_type": "stream",
          "text": [
            "{'eval_loss': 0.7744946479797363, 'eval_accuracy': 0.7385587211550857, 'eval_f1': 0.7379416233778328, 'eval_precision': 0.7505403578693205, 'eval_recall': 0.7385587211550857, 'eval_runtime': 24.8372, 'eval_samples_per_second': 312.314, 'eval_steps_per_second': 19.527, 'epoch': 0.59}\n",
            "{'loss': 0.7007, 'learning_rate': 4.077919407894737e-05, 'epoch': 0.65}\n"
          ]
        },
        {
          "data": {
            "application/vnd.jupyter.widget-view+json": {
              "model_id": "d29ae1b510f14ced9f9e22dad9bc999f",
              "version_major": 2,
              "version_minor": 0
            },
            "text/plain": [
              "  0%|          | 0/485 [00:00<?, ?it/s]"
            ]
          },
          "metadata": {},
          "output_type": "display_data"
        },
        {
          "name": "stdout",
          "output_type": "stream",
          "text": [
            "{'eval_loss': 0.8264136910438538, 'eval_accuracy': 0.7206394224571355, 'eval_f1': 0.7103802571238108, 'eval_precision': 0.7424387120224722, 'eval_recall': 0.7206394224571355, 'eval_runtime': 24.7406, 'eval_samples_per_second': 313.533, 'eval_steps_per_second': 19.603, 'epoch': 0.65}\n",
            "{'loss': 0.7082, 'learning_rate': 3.975123355263158e-05, 'epoch': 0.71}\n"
          ]
        },
        {
          "data": {
            "application/vnd.jupyter.widget-view+json": {
              "model_id": "fb840fd382134b428e92c0e2829c49bd",
              "version_major": 2,
              "version_minor": 0
            },
            "text/plain": [
              "  0%|          | 0/485 [00:00<?, ?it/s]"
            ]
          },
          "metadata": {},
          "output_type": "display_data"
        },
        {
          "name": "stdout",
          "output_type": "stream",
          "text": [
            "{'eval_loss': 0.7330374717712402, 'eval_accuracy': 0.743973185509862, 'eval_f1': 0.7407326519489287, 'eval_precision': 0.7503357783250844, 'eval_recall': 0.743973185509862, 'eval_runtime': 23.8802, 'eval_samples_per_second': 324.83, 'eval_steps_per_second': 20.31, 'epoch': 0.71}\n",
            "{'loss': 0.7414, 'learning_rate': 3.872327302631579e-05, 'epoch': 0.77}\n"
          ]
        },
        {
          "data": {
            "application/vnd.jupyter.widget-view+json": {
              "model_id": "3424213abf4441cc886163d1c0f5a0a1",
              "version_major": 2,
              "version_minor": 0
            },
            "text/plain": [
              "  0%|          | 0/485 [00:00<?, ?it/s]"
            ]
          },
          "metadata": {},
          "output_type": "display_data"
        },
        {
          "name": "stdout",
          "output_type": "stream",
          "text": [
            "{'eval_loss': 0.7130571007728577, 'eval_accuracy': 0.7493876498646383, 'eval_f1': 0.7428880943387189, 'eval_precision': 0.7498394746250502, 'eval_recall': 0.7493876498646383, 'eval_runtime': 23.6286, 'eval_samples_per_second': 328.288, 'eval_steps_per_second': 20.526, 'epoch': 0.77}\n",
            "{'loss': 0.6939, 'learning_rate': 3.76953125e-05, 'epoch': 0.83}\n"
          ]
        },
        {
          "data": {
            "application/vnd.jupyter.widget-view+json": {
              "model_id": "209f30a2c6b140aea430da60ffe5324e",
              "version_major": 2,
              "version_minor": 0
            },
            "text/plain": [
              "  0%|          | 0/485 [00:00<?, ?it/s]"
            ]
          },
          "metadata": {},
          "output_type": "display_data"
        },
        {
          "name": "stdout",
          "output_type": "stream",
          "text": [
            "{'eval_loss': 0.7565488219261169, 'eval_accuracy': 0.7361093206136393, 'eval_f1': 0.7280167931772894, 'eval_precision': 0.7465703625651221, 'eval_recall': 0.7361093206136393, 'eval_runtime': 23.5501, 'eval_samples_per_second': 329.383, 'eval_steps_per_second': 20.594, 'epoch': 0.83}\n",
            "{'loss': 0.6858, 'learning_rate': 3.6667351973684214e-05, 'epoch': 0.89}\n"
          ]
        },
        {
          "data": {
            "application/vnd.jupyter.widget-view+json": {
              "model_id": "5ec618e4a13542e894fa3dfb300a3a78",
              "version_major": 2,
              "version_minor": 0
            },
            "text/plain": [
              "  0%|          | 0/485 [00:00<?, ?it/s]"
            ]
          },
          "metadata": {},
          "output_type": "display_data"
        },
        {
          "name": "stdout",
          "output_type": "stream",
          "text": [
            "{'eval_loss': 0.7785608768463135, 'eval_accuracy': 0.7273430449916205, 'eval_f1': 0.7197136163941744, 'eval_precision': 0.7486749676497336, 'eval_recall': 0.7273430449916205, 'eval_runtime': 24.9684, 'eval_samples_per_second': 310.672, 'eval_steps_per_second': 19.425, 'epoch': 0.89}\n",
            "{'loss': 0.6623, 'learning_rate': 3.5639391447368425e-05, 'epoch': 0.95}\n"
          ]
        },
        {
          "data": {
            "application/vnd.jupyter.widget-view+json": {
              "model_id": "581ee51c0ce94314a1452e3faded80c4",
              "version_major": 2,
              "version_minor": 0
            },
            "text/plain": [
              "  0%|          | 0/485 [00:00<?, ?it/s]"
            ]
          },
          "metadata": {},
          "output_type": "display_data"
        },
        {
          "name": "stdout",
          "output_type": "stream",
          "text": [
            "{'eval_loss': 0.8018583059310913, 'eval_accuracy': 0.7126466417429419, 'eval_f1': 0.7064557527519492, 'eval_precision': 0.7350072028950623, 'eval_recall': 0.7126466417429419, 'eval_runtime': 25.2948, 'eval_samples_per_second': 306.664, 'eval_steps_per_second': 19.174, 'epoch': 0.95}\n",
            "{'loss': 0.6458, 'learning_rate': 3.4611430921052636e-05, 'epoch': 1.01}\n"
          ]
        },
        {
          "data": {
            "application/vnd.jupyter.widget-view+json": {
              "model_id": "a519760227874a2bb5f630efb189fe55",
              "version_major": 2,
              "version_minor": 0
            },
            "text/plain": [
              "  0%|          | 0/485 [00:00<?, ?it/s]"
            ]
          },
          "metadata": {},
          "output_type": "display_data"
        },
        {
          "name": "stdout",
          "output_type": "stream",
          "text": [
            "{'eval_loss': 0.7576695680618286, 'eval_accuracy': 0.7385587211550857, 'eval_f1': 0.7340170347716795, 'eval_precision': 0.7555948863158217, 'eval_recall': 0.7385587211550857, 'eval_runtime': 23.5579, 'eval_samples_per_second': 329.274, 'eval_steps_per_second': 20.588, 'epoch': 1.01}\n",
            "{'loss': 0.4686, 'learning_rate': 3.358347039473684e-05, 'epoch': 1.07}\n"
          ]
        },
        {
          "data": {
            "application/vnd.jupyter.widget-view+json": {
              "model_id": "b35a616c4b714b04826c538b55c55cf4",
              "version_major": 2,
              "version_minor": 0
            },
            "text/plain": [
              "  0%|          | 0/485 [00:00<?, ?it/s]"
            ]
          },
          "metadata": {},
          "output_type": "display_data"
        },
        {
          "name": "stdout",
          "output_type": "stream",
          "text": [
            "{'eval_loss': 0.7607273459434509, 'eval_accuracy': 0.7465515018692793, 'eval_f1': 0.7392754935639518, 'eval_precision': 0.7536522777689992, 'eval_recall': 0.7465515018692793, 'eval_runtime': 23.2848, 'eval_samples_per_second': 333.135, 'eval_steps_per_second': 20.829, 'epoch': 1.07}\n",
            "{'loss': 0.4924, 'learning_rate': 3.255550986842105e-05, 'epoch': 1.13}\n"
          ]
        },
        {
          "data": {
            "application/vnd.jupyter.widget-view+json": {
              "model_id": "fa4aef1fa6fa4fc5ae4e890dda0b528f",
              "version_major": 2,
              "version_minor": 0
            },
            "text/plain": [
              "  0%|          | 0/485 [00:00<?, ?it/s]"
            ]
          },
          "metadata": {},
          "output_type": "display_data"
        },
        {
          "name": "stdout",
          "output_type": "stream",
          "text": [
            "{'eval_loss': 0.804895281791687, 'eval_accuracy': 0.7328864251643676, 'eval_f1': 0.7329518399744394, 'eval_precision': 0.7517646755946042, 'eval_recall': 0.7328864251643676, 'eval_runtime': 23.3582, 'eval_samples_per_second': 332.089, 'eval_steps_per_second': 20.764, 'epoch': 1.13}\n",
            "{'loss': 0.5052, 'learning_rate': 3.1527549342105264e-05, 'epoch': 1.18}\n"
          ]
        },
        {
          "data": {
            "application/vnd.jupyter.widget-view+json": {
              "model_id": "070804d40a1540aeb60930baf2c7e1e3",
              "version_major": 2,
              "version_minor": 0
            },
            "text/plain": [
              "  0%|          | 0/485 [00:00<?, ?it/s]"
            ]
          },
          "metadata": {},
          "output_type": "display_data"
        },
        {
          "name": "stdout",
          "output_type": "stream",
          "text": [
            "{'eval_loss': 0.7603083848953247, 'eval_accuracy': 0.7401057109707361, 'eval_f1': 0.7370255430736722, 'eval_precision': 0.7565895522905857, 'eval_recall': 0.7401057109707361, 'eval_runtime': 23.3299, 'eval_samples_per_second': 332.491, 'eval_steps_per_second': 20.789, 'epoch': 1.18}\n",
            "{'loss': 0.4902, 'learning_rate': 3.0499588815789475e-05, 'epoch': 1.24}\n"
          ]
        },
        {
          "data": {
            "application/vnd.jupyter.widget-view+json": {
              "model_id": "1468a7f367cb42e0927ca3cdebe8192a",
              "version_major": 2,
              "version_minor": 0
            },
            "text/plain": [
              "  0%|          | 0/485 [00:00<?, ?it/s]"
            ]
          },
          "metadata": {},
          "output_type": "display_data"
        },
        {
          "name": "stdout",
          "output_type": "stream",
          "text": [
            "{'eval_loss': 0.825619101524353, 'eval_accuracy': 0.7269562975377079, 'eval_f1': 0.7284071838886658, 'eval_precision': 0.7564747265021021, 'eval_recall': 0.7269562975377079, 'eval_runtime': 23.2288, 'eval_samples_per_second': 333.939, 'eval_steps_per_second': 20.879, 'epoch': 1.24}\n",
            "{'loss': 0.4506, 'learning_rate': 2.9471628289473687e-05, 'epoch': 1.3}\n"
          ]
        },
        {
          "data": {
            "application/vnd.jupyter.widget-view+json": {
              "model_id": "a2cd948a7abb49dda8739db1e258bf90",
              "version_major": 2,
              "version_minor": 0
            },
            "text/plain": [
              "  0%|          | 0/485 [00:00<?, ?it/s]"
            ]
          },
          "metadata": {},
          "output_type": "display_data"
        },
        {
          "name": "stdout",
          "output_type": "stream",
          "text": [
            "{'eval_loss': 0.7735508680343628, 'eval_accuracy': 0.7465515018692793, 'eval_f1': 0.7461990412428903, 'eval_precision': 0.760228556550721, 'eval_recall': 0.7465515018692793, 'eval_runtime': 23.6812, 'eval_samples_per_second': 327.56, 'eval_steps_per_second': 20.48, 'epoch': 1.3}\n",
            "{'loss': 0.4309, 'learning_rate': 2.8443667763157895e-05, 'epoch': 1.36}\n"
          ]
        },
        {
          "data": {
            "application/vnd.jupyter.widget-view+json": {
              "model_id": "a802705bccd145969f40b016f83d9f82",
              "version_major": 2,
              "version_minor": 0
            },
            "text/plain": [
              "  0%|          | 0/485 [00:00<?, ?it/s]"
            ]
          },
          "metadata": {},
          "output_type": "display_data"
        },
        {
          "name": "stdout",
          "output_type": "stream",
          "text": [
            "{'eval_loss': 0.7969691753387451, 'eval_accuracy': 0.747840660048988, 'eval_f1': 0.741291106050488, 'eval_precision': 0.7529818189718069, 'eval_recall': 0.747840660048988, 'eval_runtime': 23.6163, 'eval_samples_per_second': 328.46, 'eval_steps_per_second': 20.537, 'epoch': 1.36}\n",
            "{'loss': 0.4599, 'learning_rate': 2.741570723684211e-05, 'epoch': 1.42}\n"
          ]
        },
        {
          "data": {
            "application/vnd.jupyter.widget-view+json": {
              "model_id": "7d6348c79adb40039c0e118e716b71a1",
              "version_major": 2,
              "version_minor": 0
            },
            "text/plain": [
              "  0%|          | 0/485 [00:00<?, ?it/s]"
            ]
          },
          "metadata": {},
          "output_type": "display_data"
        },
        {
          "name": "stdout",
          "output_type": "stream",
          "text": [
            "{'eval_loss': 0.7411457300186157, 'eval_accuracy': 0.7606033260281037, 'eval_f1': 0.7547242775881314, 'eval_precision': 0.7596980457602515, 'eval_recall': 0.7606033260281037, 'eval_runtime': 23.8888, 'eval_samples_per_second': 324.713, 'eval_steps_per_second': 20.302, 'epoch': 1.42}\n",
            "{'loss': 0.4465, 'learning_rate': 2.6387746710526318e-05, 'epoch': 1.48}\n"
          ]
        },
        {
          "data": {
            "application/vnd.jupyter.widget-view+json": {
              "model_id": "ac82200bf4ca4d5eaab3ae80ae228179",
              "version_major": 2,
              "version_minor": 0
            },
            "text/plain": [
              "  0%|          | 0/485 [00:00<?, ?it/s]"
            ]
          },
          "metadata": {},
          "output_type": "display_data"
        },
        {
          "name": "stdout",
          "output_type": "stream",
          "text": [
            "{'eval_loss': 0.8121508955955505, 'eval_accuracy': 0.7466804176872502, 'eval_f1': 0.7381231037881751, 'eval_precision': 0.7546704165283991, 'eval_recall': 0.7466804176872502, 'eval_runtime': 23.7041, 'eval_samples_per_second': 327.243, 'eval_steps_per_second': 20.461, 'epoch': 1.48}\n",
            "{'loss': 0.4449, 'learning_rate': 2.5359786184210526e-05, 'epoch': 1.54}\n"
          ]
        },
        {
          "data": {
            "application/vnd.jupyter.widget-view+json": {
              "model_id": "e57b434cc46f4493b43d60c158090180",
              "version_major": 2,
              "version_minor": 0
            },
            "text/plain": [
              "  0%|          | 0/485 [00:00<?, ?it/s]"
            ]
          },
          "metadata": {},
          "output_type": "display_data"
        },
        {
          "name": "stdout",
          "output_type": "stream",
          "text": [
            "{'eval_loss': 0.7466075420379639, 'eval_accuracy': 0.7559623565811525, 'eval_f1': 0.750613960519202, 'eval_precision': 0.7596874321798003, 'eval_recall': 0.7559623565811525, 'eval_runtime': 24.0757, 'eval_samples_per_second': 322.191, 'eval_steps_per_second': 20.145, 'epoch': 1.54}\n",
            "{'loss': 0.4201, 'learning_rate': 2.4331825657894737e-05, 'epoch': 1.6}\n"
          ]
        },
        {
          "data": {
            "application/vnd.jupyter.widget-view+json": {
              "model_id": "65386e3d28124a0793ec954a7085ed21",
              "version_major": 2,
              "version_minor": 0
            },
            "text/plain": [
              "  0%|          | 0/485 [00:00<?, ?it/s]"
            ]
          },
          "metadata": {},
          "output_type": "display_data"
        },
        {
          "name": "stdout",
          "output_type": "stream",
          "text": [
            "{'eval_loss': 0.755074143409729, 'eval_accuracy': 0.7550599458553564, 'eval_f1': 0.757149503859975, 'eval_precision': 0.7675458301989507, 'eval_recall': 0.7550599458553564, 'eval_runtime': 24.7379, 'eval_samples_per_second': 313.567, 'eval_steps_per_second': 19.606, 'epoch': 1.6}\n",
            "{'loss': 0.4406, 'learning_rate': 2.330386513157895e-05, 'epoch': 1.66}\n"
          ]
        },
        {
          "data": {
            "application/vnd.jupyter.widget-view+json": {
              "model_id": "28c6e229b5d34e328de56c4322b3bd3e",
              "version_major": 2,
              "version_minor": 0
            },
            "text/plain": [
              "  0%|          | 0/485 [00:00<?, ?it/s]"
            ]
          },
          "metadata": {},
          "output_type": "display_data"
        },
        {
          "name": "stdout",
          "output_type": "stream",
          "text": [
            "{'eval_loss': 0.770708441734314, 'eval_accuracy': 0.7429418589660951, 'eval_f1': 0.7396704318280701, 'eval_precision': 0.7567436446565737, 'eval_recall': 0.7429418589660951, 'eval_runtime': 24.3113, 'eval_samples_per_second': 319.07, 'eval_steps_per_second': 19.95, 'epoch': 1.66}\n",
            "{'loss': 0.4834, 'learning_rate': 2.227590460526316e-05, 'epoch': 1.72}\n"
          ]
        },
        {
          "data": {
            "application/vnd.jupyter.widget-view+json": {
              "model_id": "7d04ac51407348b093ec6022b97e67f7",
              "version_major": 2,
              "version_minor": 0
            },
            "text/plain": [
              "  0%|          | 0/485 [00:00<?, ?it/s]"
            ]
          },
          "metadata": {},
          "output_type": "display_data"
        },
        {
          "name": "stdout",
          "output_type": "stream",
          "text": [
            "{'eval_loss': 0.7307701706886292, 'eval_accuracy': 0.7560912723991233, 'eval_f1': 0.750338107157692, 'eval_precision': 0.7566171864251497, 'eval_recall': 0.7560912723991233, 'eval_runtime': 23.9942, 'eval_samples_per_second': 323.287, 'eval_steps_per_second': 20.213, 'epoch': 1.72}\n",
            "{'loss': 0.3964, 'learning_rate': 2.1247944078947368e-05, 'epoch': 1.78}\n"
          ]
        },
        {
          "data": {
            "application/vnd.jupyter.widget-view+json": {
              "model_id": "3b638d20f8684f8d8e91b53daa8301d6",
              "version_major": 2,
              "version_minor": 0
            },
            "text/plain": [
              "  0%|          | 0/485 [00:00<?, ?it/s]"
            ]
          },
          "metadata": {},
          "output_type": "display_data"
        },
        {
          "name": "stdout",
          "output_type": "stream",
          "text": [
            "{'eval_loss': 0.7685049772262573, 'eval_accuracy': 0.7487430707747841, 'eval_f1': 0.7440946903158471, 'eval_precision': 0.756848669143101, 'eval_recall': 0.7487430707747841, 'eval_runtime': 24.1124, 'eval_samples_per_second': 321.702, 'eval_steps_per_second': 20.114, 'epoch': 1.78}\n",
            "{'loss': 0.4173, 'learning_rate': 2.021998355263158e-05, 'epoch': 1.84}\n"
          ]
        },
        {
          "data": {
            "application/vnd.jupyter.widget-view+json": {
              "model_id": "460df90108404682a0acf61bf769c986",
              "version_major": 2,
              "version_minor": 0
            },
            "text/plain": [
              "  0%|          | 0/485 [00:00<?, ?it/s]"
            ]
          },
          "metadata": {},
          "output_type": "display_data"
        },
        {
          "name": "stdout",
          "output_type": "stream",
          "text": [
            "{'eval_loss': 0.7316918969154358, 'eval_accuracy': 0.7567358514889777, 'eval_f1': 0.7538831206789541, 'eval_precision': 0.7639325275749203, 'eval_recall': 0.7567358514889777, 'eval_runtime': 23.9175, 'eval_samples_per_second': 324.324, 'eval_steps_per_second': 20.278, 'epoch': 1.84}\n",
            "{'loss': 0.4296, 'learning_rate': 1.919202302631579e-05, 'epoch': 1.9}\n"
          ]
        },
        {
          "data": {
            "application/vnd.jupyter.widget-view+json": {
              "model_id": "2c54bd148e374ab9a36e811ddb89741b",
              "version_major": 2,
              "version_minor": 0
            },
            "text/plain": [
              "  0%|          | 0/485 [00:00<?, ?it/s]"
            ]
          },
          "metadata": {},
          "output_type": "display_data"
        },
        {
          "name": "stdout",
          "output_type": "stream",
          "text": [
            "{'eval_loss': 0.7335436940193176, 'eval_accuracy': 0.7548021142194147, 'eval_f1': 0.7531262016463234, 'eval_precision': 0.7635593112496809, 'eval_recall': 0.7548021142194147, 'eval_runtime': 24.7611, 'eval_samples_per_second': 313.273, 'eval_steps_per_second': 19.587, 'epoch': 1.9}\n",
            "{'loss': 0.4222, 'learning_rate': 1.8164062500000002e-05, 'epoch': 1.95}\n"
          ]
        },
        {
          "data": {
            "application/vnd.jupyter.widget-view+json": {
              "model_id": "c00d7baccb99426f9ebb4cc5b12673d2",
              "version_major": 2,
              "version_minor": 0
            },
            "text/plain": [
              "  0%|          | 0/485 [00:00<?, ?it/s]"
            ]
          },
          "metadata": {},
          "output_type": "display_data"
        },
        {
          "name": "stdout",
          "output_type": "stream",
          "text": [
            "{'eval_loss': 0.7167178988456726, 'eval_accuracy': 0.7611189892999871, 'eval_f1': 0.757629336243296, 'eval_precision': 0.7618639234344838, 'eval_recall': 0.7611189892999871, 'eval_runtime': 23.9788, 'eval_samples_per_second': 323.494, 'eval_steps_per_second': 20.226, 'epoch': 1.95}\n",
            "{'loss': 0.3703, 'learning_rate': 1.714638157894737e-05, 'epoch': 2.01}\n"
          ]
        },
        {
          "data": {
            "application/vnd.jupyter.widget-view+json": {
              "model_id": "3e96add58b81441ebb5f7c9d0e606f89",
              "version_major": 2,
              "version_minor": 0
            },
            "text/plain": [
              "  0%|          | 0/485 [00:00<?, ?it/s]"
            ]
          },
          "metadata": {},
          "output_type": "display_data"
        },
        {
          "name": "stdout",
          "output_type": "stream",
          "text": [
            "{'eval_loss': 0.8357546329498291, 'eval_accuracy': 0.7370117313394353, 'eval_f1': 0.7353611744892272, 'eval_precision': 0.756923179275088, 'eval_recall': 0.7370117313394353, 'eval_runtime': 24.1536, 'eval_samples_per_second': 321.153, 'eval_steps_per_second': 20.08, 'epoch': 2.01}\n",
            "{'loss': 0.2542, 'learning_rate': 1.611842105263158e-05, 'epoch': 2.07}\n"
          ]
        },
        {
          "data": {
            "application/vnd.jupyter.widget-view+json": {
              "model_id": "cda2289913da446ea53571cf2db091aa",
              "version_major": 2,
              "version_minor": 0
            },
            "text/plain": [
              "  0%|          | 0/485 [00:00<?, ?it/s]"
            ]
          },
          "metadata": {},
          "output_type": "display_data"
        },
        {
          "name": "stdout",
          "output_type": "stream",
          "text": [
            "{'eval_loss': 0.7981708645820618, 'eval_accuracy': 0.7540286193115895, 'eval_f1': 0.7541956785766519, 'eval_precision': 0.7623108823625716, 'eval_recall': 0.7540286193115895, 'eval_runtime': 24.3324, 'eval_samples_per_second': 318.793, 'eval_steps_per_second': 19.932, 'epoch': 2.07}\n",
            "{'loss': 0.2191, 'learning_rate': 1.5090460526315788e-05, 'epoch': 2.13}\n"
          ]
        },
        {
          "data": {
            "application/vnd.jupyter.widget-view+json": {
              "model_id": "aa790b6601814d6cbc829fa95453f82b",
              "version_major": 2,
              "version_minor": 0
            },
            "text/plain": [
              "  0%|          | 0/485 [00:00<?, ?it/s]"
            ]
          },
          "metadata": {},
          "output_type": "display_data"
        },
        {
          "name": "stdout",
          "output_type": "stream",
          "text": [
            "{'eval_loss': 0.8092733025550842, 'eval_accuracy': 0.7582828413046281, 'eval_f1': 0.7588496539971398, 'eval_precision': 0.7625126669416972, 'eval_recall': 0.7582828413046281, 'eval_runtime': 24.3788, 'eval_samples_per_second': 318.187, 'eval_steps_per_second': 19.894, 'epoch': 2.13}\n",
            "{'loss': 0.2398, 'learning_rate': 1.4062500000000001e-05, 'epoch': 2.19}\n"
          ]
        },
        {
          "data": {
            "application/vnd.jupyter.widget-view+json": {
              "model_id": "f785b0fb3f9c46bd85cdf8d7349b3140",
              "version_major": 2,
              "version_minor": 0
            },
            "text/plain": [
              "  0%|          | 0/485 [00:00<?, ?it/s]"
            ]
          },
          "metadata": {},
          "output_type": "display_data"
        },
        {
          "name": "stdout",
          "output_type": "stream",
          "text": [
            "{'eval_loss': 0.8349934220314026, 'eval_accuracy': 0.7568647673069485, 'eval_f1': 0.7560057663977741, 'eval_precision': 0.764413584901392, 'eval_recall': 0.7568647673069485, 'eval_runtime': 24.3797, 'eval_samples_per_second': 318.175, 'eval_steps_per_second': 19.894, 'epoch': 2.19}\n",
            "{'loss': 0.2441, 'learning_rate': 1.3034539473684213e-05, 'epoch': 2.25}\n"
          ]
        },
        {
          "data": {
            "application/vnd.jupyter.widget-view+json": {
              "model_id": "228385b043fd4e9dbfd893873fbf20dc",
              "version_major": 2,
              "version_minor": 0
            },
            "text/plain": [
              "  0%|          | 0/485 [00:00<?, ?it/s]"
            ]
          },
          "metadata": {},
          "output_type": "display_data"
        },
        {
          "name": "stdout",
          "output_type": "stream",
          "text": [
            "{'eval_loss': 0.8383969664573669, 'eval_accuracy': 0.7594430836663658, 'eval_f1': 0.7565629992384117, 'eval_precision': 0.760709530498502, 'eval_recall': 0.7594430836663658, 'eval_runtime': 24.4885, 'eval_samples_per_second': 316.761, 'eval_steps_per_second': 19.805, 'epoch': 2.25}\n",
            "{'loss': 0.2185, 'learning_rate': 1.200657894736842e-05, 'epoch': 2.31}\n"
          ]
        },
        {
          "data": {
            "application/vnd.jupyter.widget-view+json": {
              "model_id": "a1d32f731d044c59a019fdef0d6f9e2f",
              "version_major": 2,
              "version_minor": 0
            },
            "text/plain": [
              "  0%|          | 0/485 [00:00<?, ?it/s]"
            ]
          },
          "metadata": {},
          "output_type": "display_data"
        },
        {
          "name": "stdout",
          "output_type": "stream",
          "text": [
            "{'eval_loss': 0.9093047976493835, 'eval_accuracy': 0.7484852391388424, 'eval_f1': 0.7462761810380385, 'eval_precision': 0.7588494016560525, 'eval_recall': 0.7484852391388424, 'eval_runtime': 24.3007, 'eval_samples_per_second': 319.209, 'eval_steps_per_second': 19.958, 'epoch': 2.31}\n",
            "{'loss': 0.2201, 'learning_rate': 1.0978618421052632e-05, 'epoch': 2.37}\n"
          ]
        },
        {
          "data": {
            "application/vnd.jupyter.widget-view+json": {
              "model_id": "c6df12817fd64070a4d86bfe33fbb2c1",
              "version_major": 2,
              "version_minor": 0
            },
            "text/plain": [
              "  0%|          | 0/485 [00:00<?, ?it/s]"
            ]
          },
          "metadata": {},
          "output_type": "display_data"
        },
        {
          "name": "stdout",
          "output_type": "stream",
          "text": [
            "{'eval_loss': 0.8529410362243652, 'eval_accuracy': 0.7633105582054918, 'eval_f1': 0.7596892686913869, 'eval_precision': 0.760808617792133, 'eval_recall': 0.7633105582054918, 'eval_runtime': 24.0943, 'eval_samples_per_second': 321.943, 'eval_steps_per_second': 20.129, 'epoch': 2.37}\n",
            "{'loss': 0.2391, 'learning_rate': 9.950657894736842e-06, 'epoch': 2.43}\n"
          ]
        },
        {
          "data": {
            "application/vnd.jupyter.widget-view+json": {
              "model_id": "b96e8bc259df43889a422b5019e0e030",
              "version_major": 2,
              "version_minor": 0
            },
            "text/plain": [
              "  0%|          | 0/485 [00:00<?, ?it/s]"
            ]
          },
          "metadata": {},
          "output_type": "display_data"
        },
        {
          "name": "stdout",
          "output_type": "stream",
          "text": [
            "{'eval_loss': 0.8692417144775391, 'eval_accuracy': 0.7577671780327446, 'eval_f1': 0.7557921536535376, 'eval_precision': 0.7596548798834499, 'eval_recall': 0.7577671780327446, 'eval_runtime': 24.2585, 'eval_samples_per_second': 319.764, 'eval_steps_per_second': 19.993, 'epoch': 2.43}\n",
            "{'loss': 0.2491, 'learning_rate': 8.922697368421053e-06, 'epoch': 2.49}\n"
          ]
        },
        {
          "data": {
            "application/vnd.jupyter.widget-view+json": {
              "model_id": "16c13b5a115842adba40850fd30c30ea",
              "version_major": 2,
              "version_minor": 0
            },
            "text/plain": [
              "  0%|          | 0/485 [00:00<?, ?it/s]"
            ]
          },
          "metadata": {},
          "output_type": "display_data"
        },
        {
          "name": "stdout",
          "output_type": "stream",
          "text": [
            "{'eval_loss': 0.8953176736831665, 'eval_accuracy': 0.7462936702333376, 'eval_f1': 0.7441710614353529, 'eval_precision': 0.7552333873257262, 'eval_recall': 0.7462936702333376, 'eval_runtime': 24.0819, 'eval_samples_per_second': 322.109, 'eval_steps_per_second': 20.14, 'epoch': 2.49}\n",
            "{'loss': 0.2074, 'learning_rate': 7.894736842105263e-06, 'epoch': 2.55}\n"
          ]
        },
        {
          "data": {
            "application/vnd.jupyter.widget-view+json": {
              "model_id": "ada2fdedac554433afa2f1927977d8ac",
              "version_major": 2,
              "version_minor": 0
            },
            "text/plain": [
              "  0%|          | 0/485 [00:00<?, ?it/s]"
            ]
          },
          "metadata": {},
          "output_type": "display_data"
        },
        {
          "name": "stdout",
          "output_type": "stream",
          "text": [
            "{'eval_loss': 0.8768405914306641, 'eval_accuracy': 0.7532551244037643, 'eval_f1': 0.7508448151233592, 'eval_precision': 0.7551323333983814, 'eval_recall': 0.7532551244037643, 'eval_runtime': 25.1484, 'eval_samples_per_second': 308.449, 'eval_steps_per_second': 19.286, 'epoch': 2.55}\n",
            "{'loss': 0.2326, 'learning_rate': 6.8667763157894735e-06, 'epoch': 2.61}\n"
          ]
        },
        {
          "data": {
            "application/vnd.jupyter.widget-view+json": {
              "model_id": "75763ce31b1d48719a20ed11d6d89148",
              "version_major": 2,
              "version_minor": 0
            },
            "text/plain": [
              "  0%|          | 0/485 [00:00<?, ?it/s]"
            ]
          },
          "metadata": {},
          "output_type": "display_data"
        },
        {
          "name": "stdout",
          "output_type": "stream",
          "text": [
            "{'eval_loss': 0.8770220279693604, 'eval_accuracy': 0.7558334407631816, 'eval_f1': 0.7540232283188598, 'eval_precision': 0.7582470523769911, 'eval_recall': 0.7558334407631816, 'eval_runtime': 26.6011, 'eval_samples_per_second': 291.604, 'eval_steps_per_second': 18.232, 'epoch': 2.61}\n",
            "{'loss': 0.197, 'learning_rate': 5.838815789473685e-06, 'epoch': 2.67}\n"
          ]
        },
        {
          "data": {
            "application/vnd.jupyter.widget-view+json": {
              "model_id": "ec818dde349f4275a4dcfad59092e1dd",
              "version_major": 2,
              "version_minor": 0
            },
            "text/plain": [
              "  0%|          | 0/485 [00:00<?, ?it/s]"
            ]
          },
          "metadata": {},
          "output_type": "display_data"
        },
        {
          "name": "stdout",
          "output_type": "stream",
          "text": [
            "{'eval_loss': 0.9430109262466431, 'eval_accuracy': 0.7424261956942116, 'eval_f1': 0.7411920152841047, 'eval_precision': 0.7560716052306107, 'eval_recall': 0.7424261956942116, 'eval_runtime': 26.6072, 'eval_samples_per_second': 291.538, 'eval_steps_per_second': 18.228, 'epoch': 2.67}\n",
            "{'loss': 0.2569, 'learning_rate': 4.810855263157895e-06, 'epoch': 2.73}\n"
          ]
        },
        {
          "data": {
            "application/vnd.jupyter.widget-view+json": {
              "model_id": "dc283e858e1a4c468cd7748ccc379aed",
              "version_major": 2,
              "version_minor": 0
            },
            "text/plain": [
              "  0%|          | 0/485 [00:00<?, ?it/s]"
            ]
          },
          "metadata": {},
          "output_type": "display_data"
        },
        {
          "name": "stdout",
          "output_type": "stream",
          "text": [
            "{'eval_loss': 0.9028953313827515, 'eval_accuracy': 0.7499033131365218, 'eval_f1': 0.7472670205159356, 'eval_precision': 0.7566771025385328, 'eval_recall': 0.7499033131365218, 'eval_runtime': 26.6029, 'eval_samples_per_second': 291.585, 'eval_steps_per_second': 18.231, 'epoch': 2.73}\n",
            "{'loss': 0.1844, 'learning_rate': 3.7828947368421055e-06, 'epoch': 2.78}\n"
          ]
        },
        {
          "data": {
            "application/vnd.jupyter.widget-view+json": {
              "model_id": "464927f4f0d748eb9ac28fe04faf9861",
              "version_major": 2,
              "version_minor": 0
            },
            "text/plain": [
              "  0%|          | 0/485 [00:00<?, ?it/s]"
            ]
          },
          "metadata": {},
          "output_type": "display_data"
        },
        {
          "name": "stdout",
          "output_type": "stream",
          "text": [
            "{'eval_loss': 0.8994812965393066, 'eval_accuracy': 0.7541575351295604, 'eval_f1': 0.7556437247818125, 'eval_precision': 0.7640591374286768, 'eval_recall': 0.7541575351295604, 'eval_runtime': 26.5739, 'eval_samples_per_second': 291.903, 'eval_steps_per_second': 18.251, 'epoch': 2.78}\n",
            "{'loss': 0.2343, 'learning_rate': 2.7549342105263157e-06, 'epoch': 2.84}\n"
          ]
        },
        {
          "data": {
            "application/vnd.jupyter.widget-view+json": {
              "model_id": "805e08d811a54ee5a999bdd63566881b",
              "version_major": 2,
              "version_minor": 0
            },
            "text/plain": [
              "  0%|          | 0/485 [00:00<?, ?it/s]"
            ]
          },
          "metadata": {},
          "output_type": "display_data"
        },
        {
          "name": "stdout",
          "output_type": "stream",
          "text": [
            "{'eval_loss': 0.8941711783409119, 'eval_accuracy': 0.756478019853036, 'eval_f1': 0.7551635088423485, 'eval_precision': 0.7610148501062574, 'eval_recall': 0.756478019853036, 'eval_runtime': 24.7287, 'eval_samples_per_second': 313.683, 'eval_steps_per_second': 19.613, 'epoch': 2.84}\n",
            "{'loss': 0.2328, 'learning_rate': 1.7269736842105266e-06, 'epoch': 2.9}\n"
          ]
        },
        {
          "data": {
            "application/vnd.jupyter.widget-view+json": {
              "model_id": "2bcb277cc9c84862b6f7684df8589d55",
              "version_major": 2,
              "version_minor": 0
            },
            "text/plain": [
              "  0%|          | 0/485 [00:00<?, ?it/s]"
            ]
          },
          "metadata": {},
          "output_type": "display_data"
        },
        {
          "name": "stdout",
          "output_type": "stream",
          "text": [
            "{'eval_loss': 0.9001975655555725, 'eval_accuracy': 0.754544282583473, 'eval_f1': 0.7541927395568432, 'eval_precision': 0.7615503003319412, 'eval_recall': 0.754544282583473, 'eval_runtime': 24.6439, 'eval_samples_per_second': 314.763, 'eval_steps_per_second': 19.68, 'epoch': 2.9}\n",
            "{'loss': 0.239, 'learning_rate': 6.990131578947369e-07, 'epoch': 2.96}\n"
          ]
        },
        {
          "data": {
            "application/vnd.jupyter.widget-view+json": {
              "model_id": "1eeb48e8ac734f5f9120b446c5e8f11a",
              "version_major": 2,
              "version_minor": 0
            },
            "text/plain": [
              "  0%|          | 0/485 [00:00<?, ?it/s]"
            ]
          },
          "metadata": {},
          "output_type": "display_data"
        },
        {
          "name": "stdout",
          "output_type": "stream",
          "text": [
            "{'eval_loss': 0.8927129507064819, 'eval_accuracy': 0.7577671780327446, 'eval_f1': 0.7566188111542367, 'eval_precision': 0.7627854759109136, 'eval_recall': 0.7577671780327446, 'eval_runtime': 26.6062, 'eval_samples_per_second': 291.549, 'eval_steps_per_second': 18.229, 'epoch': 2.96}\n",
            "{'train_runtime': 2420.6782, 'train_samples_per_second': 33.462, 'train_steps_per_second': 2.092, 'train_loss': 0.5103363904154508, 'epoch': 3.0}\n"
          ]
        },
        {
          "data": {
            "text/plain": [
              "TrainOutput(global_step=5064, training_loss=0.5103363904154508, metrics={'train_runtime': 2420.6782, 'train_samples_per_second': 33.462, 'train_steps_per_second': 2.092, 'train_loss': 0.5103363904154508, 'epoch': 3.0})"
            ]
          },
          "execution_count": 18,
          "metadata": {},
          "output_type": "execute_result"
        }
      ],
      "source": [
        "# Train the model\n",
        "trainer.train()"
      ]
    },
    {
      "cell_type": "code",
      "execution_count": 19,
      "metadata": {},
      "outputs": [
        {
          "data": {
            "application/vnd.jupyter.widget-view+json": {
              "model_id": "bc57569c7cd54171abb780b0c04b14cd",
              "version_major": 2,
              "version_minor": 0
            },
            "text/plain": [
              "  0%|          | 0/943 [00:00<?, ?it/s]"
            ]
          },
          "metadata": {},
          "output_type": "display_data"
        },
        {
          "name": "stdout",
          "output_type": "stream",
          "text": [
            "                                        precision    recall  f1-score   support\n",
            "\n",
            "            other_relevant_information       0.56      0.81      0.66      1070\n",
            "      displaced_people_and_evacuations       0.85      0.92      0.88       790\n",
            "                  sympathy_and_support       0.83      0.78      0.80      1617\n",
            "     infrastructure_and_utility_damage       0.92      0.93      0.93      1447\n",
            "                      not_humanitarian       0.55      0.68      0.61      1245\n",
            "                    caution_and_advice       0.64      0.37      0.47      2407\n",
            "              requests_or_urgent_needs       0.39      0.78      0.52       521\n",
            "rescue_volunteering_or_donation_effort       0.86      0.82      0.84      4219\n",
            "                injured_or_dead_people       0.84      0.81      0.82      1772\n",
            "\n",
            "                              accuracy                           0.75     15088\n",
            "                             macro avg       0.72      0.77      0.73     15088\n",
            "                          weighted avg       0.76      0.75      0.74     15088\n",
            "\n"
          ]
        }
      ],
      "source": [
        "from sklearn.metrics import classification_report\n",
        "predictions = trainer.predict(test_dataset)\n",
        "labels = predictions.label_ids\n",
        "preds = predictions.predictions.argmax(-1)\n",
        "\n",
        "print(classification_report(labels, preds, target_names=class_labels))"
      ]
    },
    {
      "cell_type": "code",
      "execution_count": 20,
      "metadata": {},
      "outputs": [
        {
          "data": {
            "application/vnd.jupyter.widget-view+json": {
              "model_id": "bb29a86c5cc04f289cab7fe46dfeeadd",
              "version_major": 2,
              "version_minor": 0
            },
            "text/plain": [
              "Downloading tokenizer_config.json:   0%|          | 0.00/28.0 [00:00<?, ?B/s]"
            ]
          },
          "metadata": {},
          "output_type": "display_data"
        },
        {
          "name": "stderr",
          "output_type": "stream",
          "text": [
            "d:\\AI_Dev_Vault\\Anaconda\\Lib\\site-packages\\huggingface_hub\\file_download.py:133: UserWarning: `huggingface_hub` cache-system uses symlinks by default to efficiently store duplicated files but your machine does not support them in C:\\Users\\Dastan\\.cache\\huggingface\\hub. Caching files will still work but in a degraded version that might require more space on your disk. This warning can be disabled by setting the `HF_HUB_DISABLE_SYMLINKS_WARNING` environment variable. For more details, see https://huggingface.co/docs/huggingface_hub/how-to-cache#limitations.\n",
            "To support symlinks on Windows, you either need to activate Developer Mode or to run Python as an administrator. In order to see activate developer mode, see this article: https://docs.microsoft.com/en-us/windows/apps/get-started/enable-your-device-for-development\n",
            "  warnings.warn(message)\n"
          ]
        },
        {
          "data": {
            "application/vnd.jupyter.widget-view+json": {
              "model_id": "e8c2ff3009b7456a9f6f940c0b109510",
              "version_major": 2,
              "version_minor": 0
            },
            "text/plain": [
              "Downloading vocab.txt:   0%|          | 0.00/232k [00:00<?, ?B/s]"
            ]
          },
          "metadata": {},
          "output_type": "display_data"
        },
        {
          "data": {
            "application/vnd.jupyter.widget-view+json": {
              "model_id": "34b1b6b9eaac499b904ca0f2fcb4ac0e",
              "version_major": 2,
              "version_minor": 0
            },
            "text/plain": [
              "Downloading tokenizer.json:   0%|          | 0.00/466k [00:00<?, ?B/s]"
            ]
          },
          "metadata": {},
          "output_type": "display_data"
        },
        {
          "data": {
            "application/vnd.jupyter.widget-view+json": {
              "model_id": "73a1fe8cf4944f4c80881e8b74ea0de0",
              "version_major": 2,
              "version_minor": 0
            },
            "text/plain": [
              "Downloading config.json:   0%|          | 0.00/483 [00:00<?, ?B/s]"
            ]
          },
          "metadata": {},
          "output_type": "display_data"
        },
        {
          "data": {
            "application/vnd.jupyter.widget-view+json": {
              "model_id": "f2bdd652a2dc4c25acbd4b85fff5058e",
              "version_major": 2,
              "version_minor": 0
            },
            "text/plain": [
              "Downloading model.safetensors:   0%|          | 0.00/268M [00:00<?, ?B/s]"
            ]
          },
          "metadata": {},
          "output_type": "display_data"
        },
        {
          "name": "stderr",
          "output_type": "stream",
          "text": [
            "Some weights of DistilBertForSequenceClassification were not initialized from the model checkpoint at distilbert-base-uncased and are newly initialized: ['classifier.bias', 'classifier.weight', 'pre_classifier.weight', 'pre_classifier.bias']\n",
            "You should probably TRAIN this model on a down-stream task to be able to use it for predictions and inference.\n"
          ]
        },
        {
          "data": {
            "text/plain": [
              "DistilBertForSequenceClassification(\n",
              "  (distilbert): DistilBertModel(\n",
              "    (embeddings): Embeddings(\n",
              "      (word_embeddings): Embedding(30522, 768, padding_idx=0)\n",
              "      (position_embeddings): Embedding(512, 768)\n",
              "      (LayerNorm): LayerNorm((768,), eps=1e-12, elementwise_affine=True)\n",
              "      (dropout): Dropout(p=0.1, inplace=False)\n",
              "    )\n",
              "    (transformer): Transformer(\n",
              "      (layer): ModuleList(\n",
              "        (0-5): 6 x TransformerBlock(\n",
              "          (attention): MultiHeadSelfAttention(\n",
              "            (dropout): Dropout(p=0.1, inplace=False)\n",
              "            (q_lin): Linear(in_features=768, out_features=768, bias=True)\n",
              "            (k_lin): Linear(in_features=768, out_features=768, bias=True)\n",
              "            (v_lin): Linear(in_features=768, out_features=768, bias=True)\n",
              "            (out_lin): Linear(in_features=768, out_features=768, bias=True)\n",
              "          )\n",
              "          (sa_layer_norm): LayerNorm((768,), eps=1e-12, elementwise_affine=True)\n",
              "          (ffn): FFN(\n",
              "            (dropout): Dropout(p=0.1, inplace=False)\n",
              "            (lin1): Linear(in_features=768, out_features=3072, bias=True)\n",
              "            (lin2): Linear(in_features=3072, out_features=768, bias=True)\n",
              "            (activation): GELUActivation()\n",
              "          )\n",
              "          (output_layer_norm): LayerNorm((768,), eps=1e-12, elementwise_affine=True)\n",
              "        )\n",
              "      )\n",
              "    )\n",
              "  )\n",
              "  (pre_classifier): Linear(in_features=768, out_features=768, bias=True)\n",
              "  (classifier): Linear(in_features=768, out_features=9, bias=True)\n",
              "  (dropout): Dropout(p=0.2, inplace=False)\n",
              ")"
            ]
          },
          "execution_count": 20,
          "metadata": {},
          "output_type": "execute_result"
        }
      ],
      "source": [
        "model_name = 'distilbert-base-uncased'\n",
        "tokenizer = DistilBertTokenizerFast.from_pretrained(model_name)\n",
        "\n",
        "train_encodings = tokenizer(train_tweets, truncation=True, padding=True, max_length=512)\n",
        "val_encodings = tokenizer(val_tweets, truncation=True, padding=True, max_length=512)\n",
        "test_encodings = tokenizer(test_tweets, truncation=True, padding=True, max_length=512)\n",
        "\n",
        "train_dataset = TweetDataset(train_encodings, train_labels)  # Use resampled labels\n",
        "val_dataset = TweetDataset(val_encodings, val_labels)\n",
        "test_dataset = TweetDataset(test_encodings, test_labels)\n",
        "\n",
        "model = DistilBertForSequenceClassification.from_pretrained(model_name, num_labels=len(class_labels))\n",
        "model.to(device)"
      ]
    },
    {
      "cell_type": "code",
      "execution_count": 21,
      "metadata": {},
      "outputs": [
        {
          "name": "stderr",
          "output_type": "stream",
          "text": [
            "d:\\AI_Dev_Vault\\Anaconda\\Lib\\site-packages\\accelerate\\accelerator.py:436: FutureWarning: Passing the following arguments to `Accelerator` is deprecated and will be removed in version 1.0 of Accelerate: dict_keys(['dispatch_batches']). Please pass an `accelerate.DataLoaderConfiguration` instead: \n",
            "dataloader_config = DataLoaderConfiguration(dispatch_batches=None)\n",
            "  warnings.warn(\n"
          ]
        },
        {
          "data": {
            "application/vnd.jupyter.widget-view+json": {
              "model_id": "92f0fb2500a34ad595486983c4d0f98e",
              "version_major": 2,
              "version_minor": 0
            },
            "text/plain": [
              "  0%|          | 0/5064 [00:00<?, ?it/s]"
            ]
          },
          "metadata": {},
          "output_type": "display_data"
        },
        {
          "name": "stdout",
          "output_type": "stream",
          "text": [
            "{'loss': 2.1419, 'learning_rate': 2.5e-05, 'epoch': 0.06}\n"
          ]
        },
        {
          "data": {
            "application/vnd.jupyter.widget-view+json": {
              "model_id": "784cedbfed9f4c069633c646a161177d",
              "version_major": 2,
              "version_minor": 0
            },
            "text/plain": [
              "  0%|          | 0/485 [00:00<?, ?it/s]"
            ]
          },
          "metadata": {},
          "output_type": "display_data"
        },
        {
          "name": "stderr",
          "output_type": "stream",
          "text": [
            "d:\\AI_Dev_Vault\\Anaconda\\Lib\\site-packages\\sklearn\\metrics\\_classification.py:1469: UndefinedMetricWarning: Precision and F-score are ill-defined and being set to 0.0 in labels with no predicted samples. Use `zero_division` parameter to control this behavior.\n",
            "  _warn_prf(average, modifier, msg_start, len(result))\n"
          ]
        },
        {
          "name": "stdout",
          "output_type": "stream",
          "text": [
            "{'eval_loss': 1.9131654500961304, 'eval_accuracy': 0.35632332087147095, 'eval_f1': 0.3015517081734118, 'eval_precision': 0.5202917884999859, 'eval_recall': 0.35632332087147095, 'eval_runtime': 13.3391, 'eval_samples_per_second': 581.523, 'eval_steps_per_second': 36.359, 'epoch': 0.06}\n",
            "{'loss': 1.288, 'learning_rate': 4.975e-05, 'epoch': 0.12}\n"
          ]
        },
        {
          "data": {
            "application/vnd.jupyter.widget-view+json": {
              "model_id": "1923ed52c026416e866a341fba3e1add",
              "version_major": 2,
              "version_minor": 0
            },
            "text/plain": [
              "  0%|          | 0/485 [00:00<?, ?it/s]"
            ]
          },
          "metadata": {},
          "output_type": "display_data"
        },
        {
          "name": "stdout",
          "output_type": "stream",
          "text": [
            "{'eval_loss': 0.9364122748374939, 'eval_accuracy': 0.7007863864896223, 'eval_f1': 0.6904193448164562, 'eval_precision': 0.7105824186038844, 'eval_recall': 0.7007863864896223, 'eval_runtime': 13.0385, 'eval_samples_per_second': 594.932, 'eval_steps_per_second': 37.198, 'epoch': 0.12}\n",
            "{'loss': 0.9252, 'learning_rate': 4.898231907894737e-05, 'epoch': 0.18}\n"
          ]
        },
        {
          "data": {
            "application/vnd.jupyter.widget-view+json": {
              "model_id": "75f9132037d442d0a8cf0c509c8f3bc5",
              "version_major": 2,
              "version_minor": 0
            },
            "text/plain": [
              "  0%|          | 0/485 [00:00<?, ?it/s]"
            ]
          },
          "metadata": {},
          "output_type": "display_data"
        },
        {
          "name": "stdout",
          "output_type": "stream",
          "text": [
            "{'eval_loss': 0.8912947177886963, 'eval_accuracy': 0.7033647028490396, 'eval_f1': 0.6962402713682452, 'eval_precision': 0.7153265625766249, 'eval_recall': 0.7033647028490396, 'eval_runtime': 13.0937, 'eval_samples_per_second': 592.421, 'eval_steps_per_second': 37.041, 'epoch': 0.18}\n",
            "{'loss': 0.7781, 'learning_rate': 4.795435855263158e-05, 'epoch': 0.24}\n"
          ]
        },
        {
          "data": {
            "application/vnd.jupyter.widget-view+json": {
              "model_id": "a932bfcce8c04003901b05cfbe9da5c4",
              "version_major": 2,
              "version_minor": 0
            },
            "text/plain": [
              "  0%|          | 0/485 [00:00<?, ?it/s]"
            ]
          },
          "metadata": {},
          "output_type": "display_data"
        },
        {
          "name": "stdout",
          "output_type": "stream",
          "text": [
            "{'eval_loss': 0.9506560564041138, 'eval_accuracy': 0.6899574577800696, 'eval_f1': 0.6950076346493601, 'eval_precision': 0.7307416475341719, 'eval_recall': 0.6899574577800696, 'eval_runtime': 13.0122, 'eval_samples_per_second': 596.133, 'eval_steps_per_second': 37.273, 'epoch': 0.24}\n",
            "{'loss': 0.8103, 'learning_rate': 4.6926398026315795e-05, 'epoch': 0.3}\n"
          ]
        },
        {
          "data": {
            "application/vnd.jupyter.widget-view+json": {
              "model_id": "107ae86378304eb6a880930844339b0a",
              "version_major": 2,
              "version_minor": 0
            },
            "text/plain": [
              "  0%|          | 0/485 [00:00<?, ?it/s]"
            ]
          },
          "metadata": {},
          "output_type": "display_data"
        },
        {
          "name": "stdout",
          "output_type": "stream",
          "text": [
            "{'eval_loss': 0.8809457421302795, 'eval_accuracy': 0.70491169266469, 'eval_f1': 0.7095836074588076, 'eval_precision': 0.7377961123619305, 'eval_recall': 0.70491169266469, 'eval_runtime': 12.6706, 'eval_samples_per_second': 612.206, 'eval_steps_per_second': 38.278, 'epoch': 0.3}\n",
            "{'loss': 0.78, 'learning_rate': 4.58984375e-05, 'epoch': 0.36}\n"
          ]
        },
        {
          "data": {
            "application/vnd.jupyter.widget-view+json": {
              "model_id": "b4f1c31fa41049269de6e9654be20b25",
              "version_major": 2,
              "version_minor": 0
            },
            "text/plain": [
              "  0%|          | 0/485 [00:00<?, ?it/s]"
            ]
          },
          "metadata": {},
          "output_type": "display_data"
        },
        {
          "name": "stdout",
          "output_type": "stream",
          "text": [
            "{'eval_loss': 0.7902679443359375, 'eval_accuracy': 0.7336599200721928, 'eval_f1': 0.7241894031399231, 'eval_precision': 0.730452141047995, 'eval_recall': 0.7336599200721928, 'eval_runtime': 12.8466, 'eval_samples_per_second': 603.82, 'eval_steps_per_second': 37.753, 'epoch': 0.36}\n",
            "{'loss': 0.7411, 'learning_rate': 4.487047697368421e-05, 'epoch': 0.41}\n"
          ]
        },
        {
          "data": {
            "application/vnd.jupyter.widget-view+json": {
              "model_id": "c1176c9c3d0d47fdb7b15e21872b6ef0",
              "version_major": 2,
              "version_minor": 0
            },
            "text/plain": [
              "  0%|          | 0/485 [00:00<?, ?it/s]"
            ]
          },
          "metadata": {},
          "output_type": "display_data"
        },
        {
          "name": "stdout",
          "output_type": "stream",
          "text": [
            "{'eval_loss': 0.7969747185707092, 'eval_accuracy': 0.7286322031713292, 'eval_f1': 0.7247663481602811, 'eval_precision': 0.7477564582566343, 'eval_recall': 0.7286322031713292, 'eval_runtime': 12.649, 'eval_samples_per_second': 613.252, 'eval_steps_per_second': 38.343, 'epoch': 0.41}\n",
            "{'loss': 0.7734, 'learning_rate': 4.384251644736842e-05, 'epoch': 0.47}\n"
          ]
        },
        {
          "data": {
            "application/vnd.jupyter.widget-view+json": {
              "model_id": "15256a718f5541d49a79177c2b77cddc",
              "version_major": 2,
              "version_minor": 0
            },
            "text/plain": [
              "  0%|          | 0/485 [00:00<?, ?it/s]"
            ]
          },
          "metadata": {},
          "output_type": "display_data"
        },
        {
          "name": "stdout",
          "output_type": "stream",
          "text": [
            "{'eval_loss': 0.8417895436286926, 'eval_accuracy': 0.707747840660049, 'eval_f1': 0.7025951067576471, 'eval_precision': 0.7305990870183083, 'eval_recall': 0.707747840660049, 'eval_runtime': 12.4041, 'eval_samples_per_second': 625.357, 'eval_steps_per_second': 39.1, 'epoch': 0.47}\n",
            "{'loss': 0.6953, 'learning_rate': 4.2814555921052634e-05, 'epoch': 0.53}\n"
          ]
        },
        {
          "data": {
            "application/vnd.jupyter.widget-view+json": {
              "model_id": "a51d947a49e24971875b6d6737a13f12",
              "version_major": 2,
              "version_minor": 0
            },
            "text/plain": [
              "  0%|          | 0/485 [00:00<?, ?it/s]"
            ]
          },
          "metadata": {},
          "output_type": "display_data"
        },
        {
          "name": "stdout",
          "output_type": "stream",
          "text": [
            "{'eval_loss': 0.8312391042709351, 'eval_accuracy': 0.7101972412014954, 'eval_f1': 0.7167889584761664, 'eval_precision': 0.7449696230050482, 'eval_recall': 0.7101972412014954, 'eval_runtime': 12.5147, 'eval_samples_per_second': 619.833, 'eval_steps_per_second': 38.755, 'epoch': 0.53}\n",
            "{'loss': 0.695, 'learning_rate': 4.1786595394736846e-05, 'epoch': 0.59}\n"
          ]
        },
        {
          "data": {
            "application/vnd.jupyter.widget-view+json": {
              "model_id": "9a0ea7c2c6af4e69ae0cee33ef11c868",
              "version_major": 2,
              "version_minor": 0
            },
            "text/plain": [
              "  0%|          | 0/485 [00:00<?, ?it/s]"
            ]
          },
          "metadata": {},
          "output_type": "display_data"
        },
        {
          "name": "stdout",
          "output_type": "stream",
          "text": [
            "{'eval_loss': 0.7669773101806641, 'eval_accuracy': 0.737269562975377, 'eval_f1': 0.7355745179302609, 'eval_precision': 0.7489052302407762, 'eval_recall': 0.737269562975377, 'eval_runtime': 12.3823, 'eval_samples_per_second': 626.461, 'eval_steps_per_second': 39.169, 'epoch': 0.59}\n",
            "{'loss': 0.6834, 'learning_rate': 4.075863486842105e-05, 'epoch': 0.65}\n"
          ]
        },
        {
          "data": {
            "application/vnd.jupyter.widget-view+json": {
              "model_id": "8173e13cad4b441185d2864aef0520ea",
              "version_major": 2,
              "version_minor": 0
            },
            "text/plain": [
              "  0%|          | 0/485 [00:00<?, ?it/s]"
            ]
          },
          "metadata": {},
          "output_type": "display_data"
        },
        {
          "name": "stdout",
          "output_type": "stream",
          "text": [
            "{'eval_loss': 0.8113236427307129, 'eval_accuracy': 0.7169008637359804, 'eval_f1': 0.7084835214892135, 'eval_precision': 0.735033037839787, 'eval_recall': 0.7169008637359804, 'eval_runtime': 12.6862, 'eval_samples_per_second': 611.453, 'eval_steps_per_second': 38.231, 'epoch': 0.65}\n",
            "{'loss': 0.7133, 'learning_rate': 3.973067434210527e-05, 'epoch': 0.71}\n"
          ]
        },
        {
          "data": {
            "application/vnd.jupyter.widget-view+json": {
              "model_id": "1bf056ae7a664e36907cd7b1bf89d84b",
              "version_major": 2,
              "version_minor": 0
            },
            "text/plain": [
              "  0%|          | 0/485 [00:00<?, ?it/s]"
            ]
          },
          "metadata": {},
          "output_type": "display_data"
        },
        {
          "name": "stdout",
          "output_type": "stream",
          "text": [
            "{'eval_loss': 0.7460393905639648, 'eval_accuracy': 0.7359804047956684, 'eval_f1': 0.7361709734573462, 'eval_precision': 0.7496300722141201, 'eval_recall': 0.7359804047956684, 'eval_runtime': 12.7948, 'eval_samples_per_second': 606.263, 'eval_steps_per_second': 37.906, 'epoch': 0.71}\n",
            "{'loss': 0.7383, 'learning_rate': 3.870271381578947e-05, 'epoch': 0.77}\n"
          ]
        },
        {
          "data": {
            "application/vnd.jupyter.widget-view+json": {
              "model_id": "fc5f8b64be424e03832024cdaddb5e9c",
              "version_major": 2,
              "version_minor": 0
            },
            "text/plain": [
              "  0%|          | 0/485 [00:00<?, ?it/s]"
            ]
          },
          "metadata": {},
          "output_type": "display_data"
        },
        {
          "name": "stdout",
          "output_type": "stream",
          "text": [
            "{'eval_loss': 0.706682026386261, 'eval_accuracy': 0.7509346396802887, 'eval_f1': 0.7411404783158535, 'eval_precision': 0.7530663092027522, 'eval_recall': 0.7509346396802887, 'eval_runtime': 12.7922, 'eval_samples_per_second': 606.387, 'eval_steps_per_second': 37.914, 'epoch': 0.77}\n",
            "{'loss': 0.6896, 'learning_rate': 3.7674753289473685e-05, 'epoch': 0.83}\n"
          ]
        },
        {
          "data": {
            "application/vnd.jupyter.widget-view+json": {
              "model_id": "e505496c0059410ba29286b411850f61",
              "version_major": 2,
              "version_minor": 0
            },
            "text/plain": [
              "  0%|          | 0/485 [00:00<?, ?it/s]"
            ]
          },
          "metadata": {},
          "output_type": "display_data"
        },
        {
          "name": "stdout",
          "output_type": "stream",
          "text": [
            "{'eval_loss': 0.7636823654174805, 'eval_accuracy': 0.7336599200721928, 'eval_f1': 0.7289351484864164, 'eval_precision': 0.7481006820160768, 'eval_recall': 0.7336599200721928, 'eval_runtime': 12.4722, 'eval_samples_per_second': 621.944, 'eval_steps_per_second': 38.887, 'epoch': 0.83}\n",
            "{'loss': 0.6917, 'learning_rate': 3.6646792763157896e-05, 'epoch': 0.89}\n"
          ]
        },
        {
          "data": {
            "application/vnd.jupyter.widget-view+json": {
              "model_id": "ff25e4f7ff284cd783117b63c37b154c",
              "version_major": 2,
              "version_minor": 0
            },
            "text/plain": [
              "  0%|          | 0/485 [00:00<?, ?it/s]"
            ]
          },
          "metadata": {},
          "output_type": "display_data"
        },
        {
          "name": "stdout",
          "output_type": "stream",
          "text": [
            "{'eval_loss': 0.7748085856437683, 'eval_accuracy': 0.7261828026298827, 'eval_f1': 0.7220705061998156, 'eval_precision': 0.7486405063802911, 'eval_recall': 0.7261828026298827, 'eval_runtime': 12.6583, 'eval_samples_per_second': 612.8, 'eval_steps_per_second': 38.315, 'epoch': 0.89}\n",
            "{'loss': 0.6538, 'learning_rate': 3.561883223684211e-05, 'epoch': 0.95}\n"
          ]
        },
        {
          "data": {
            "application/vnd.jupyter.widget-view+json": {
              "model_id": "dda2c61924ea434489ed8d2c4aa06a7a",
              "version_major": 2,
              "version_minor": 0
            },
            "text/plain": [
              "  0%|          | 0/485 [00:00<?, ?it/s]"
            ]
          },
          "metadata": {},
          "output_type": "display_data"
        },
        {
          "name": "stdout",
          "output_type": "stream",
          "text": [
            "{'eval_loss': 0.7636112570762634, 'eval_accuracy': 0.7303081088049503, 'eval_f1': 0.7248142633891055, 'eval_precision': 0.7459500496934476, 'eval_recall': 0.7303081088049503, 'eval_runtime': 12.6443, 'eval_samples_per_second': 613.476, 'eval_steps_per_second': 38.357, 'epoch': 0.95}\n",
            "{'loss': 0.645, 'learning_rate': 3.459087171052632e-05, 'epoch': 1.01}\n"
          ]
        },
        {
          "data": {
            "application/vnd.jupyter.widget-view+json": {
              "model_id": "5b2aee4497834f94bb634de11ed59ee6",
              "version_major": 2,
              "version_minor": 0
            },
            "text/plain": [
              "  0%|          | 0/485 [00:00<?, ?it/s]"
            ]
          },
          "metadata": {},
          "output_type": "display_data"
        },
        {
          "name": "stdout",
          "output_type": "stream",
          "text": [
            "{'eval_loss': 0.729108989238739, 'eval_accuracy': 0.7462936702333376, 'eval_f1': 0.7397683981676452, 'eval_precision': 0.759934265512884, 'eval_recall': 0.7462936702333376, 'eval_runtime': 12.9903, 'eval_samples_per_second': 597.14, 'eval_steps_per_second': 37.336, 'epoch': 1.01}\n",
            "{'loss': 0.4808, 'learning_rate': 3.356291118421053e-05, 'epoch': 1.07}\n"
          ]
        },
        {
          "data": {
            "application/vnd.jupyter.widget-view+json": {
              "model_id": "132c732ef503482ebac1d56c2fffacc2",
              "version_major": 2,
              "version_minor": 0
            },
            "text/plain": [
              "  0%|          | 0/485 [00:00<?, ?it/s]"
            ]
          },
          "metadata": {},
          "output_type": "display_data"
        },
        {
          "name": "stdout",
          "output_type": "stream",
          "text": [
            "{'eval_loss': 0.8013255000114441, 'eval_accuracy': 0.7349490782519015, 'eval_f1': 0.7311247909940749, 'eval_precision': 0.7522971125073361, 'eval_recall': 0.7349490782519015, 'eval_runtime': 12.982, 'eval_samples_per_second': 597.518, 'eval_steps_per_second': 37.359, 'epoch': 1.07}\n",
            "{'loss': 0.5143, 'learning_rate': 3.2534950657894735e-05, 'epoch': 1.13}\n"
          ]
        },
        {
          "data": {
            "application/vnd.jupyter.widget-view+json": {
              "model_id": "f3b5981ec43b4ac4b23db6a8440e38c9",
              "version_major": 2,
              "version_minor": 0
            },
            "text/plain": [
              "  0%|          | 0/485 [00:00<?, ?it/s]"
            ]
          },
          "metadata": {},
          "output_type": "display_data"
        },
        {
          "name": "stdout",
          "output_type": "stream",
          "text": [
            "{'eval_loss': 0.7633956670761108, 'eval_accuracy': 0.7461647544153668, 'eval_f1': 0.7447752487401544, 'eval_precision': 0.7543370639861077, 'eval_recall': 0.7461647544153668, 'eval_runtime': 13.1144, 'eval_samples_per_second': 591.487, 'eval_steps_per_second': 36.982, 'epoch': 1.13}\n",
            "{'loss': 0.5056, 'learning_rate': 3.150699013157895e-05, 'epoch': 1.18}\n"
          ]
        },
        {
          "data": {
            "application/vnd.jupyter.widget-view+json": {
              "model_id": "bd654caeb703403ba3e4146a81a17ef4",
              "version_major": 2,
              "version_minor": 0
            },
            "text/plain": [
              "  0%|          | 0/485 [00:00<?, ?it/s]"
            ]
          },
          "metadata": {},
          "output_type": "display_data"
        },
        {
          "name": "stdout",
          "output_type": "stream",
          "text": [
            "{'eval_loss': 0.7702411413192749, 'eval_accuracy': 0.7442310171458038, 'eval_f1': 0.7440081725670555, 'eval_precision': 0.7609343862974124, 'eval_recall': 0.7442310171458038, 'eval_runtime': 12.9232, 'eval_samples_per_second': 600.237, 'eval_steps_per_second': 37.529, 'epoch': 1.18}\n",
            "{'loss': 0.5167, 'learning_rate': 3.047902960526316e-05, 'epoch': 1.24}\n"
          ]
        },
        {
          "data": {
            "application/vnd.jupyter.widget-view+json": {
              "model_id": "a2a6b62254cb40d198a0e75163cbfd2f",
              "version_major": 2,
              "version_minor": 0
            },
            "text/plain": [
              "  0%|          | 0/485 [00:00<?, ?it/s]"
            ]
          },
          "metadata": {},
          "output_type": "display_data"
        },
        {
          "name": "stdout",
          "output_type": "stream",
          "text": [
            "{'eval_loss': 0.7821760773658752, 'eval_accuracy': 0.7375273946113188, 'eval_f1': 0.7376685527839122, 'eval_precision': 0.7572541135474696, 'eval_recall': 0.7375273946113188, 'eval_runtime': 12.9412, 'eval_samples_per_second': 599.403, 'eval_steps_per_second': 37.477, 'epoch': 1.24}\n",
            "{'loss': 0.4526, 'learning_rate': 2.945106907894737e-05, 'epoch': 1.3}\n"
          ]
        },
        {
          "data": {
            "application/vnd.jupyter.widget-view+json": {
              "model_id": "cb51c12936714dd1b3ed095cd11f0a9d",
              "version_major": 2,
              "version_minor": 0
            },
            "text/plain": [
              "  0%|          | 0/485 [00:00<?, ?it/s]"
            ]
          },
          "metadata": {},
          "output_type": "display_data"
        },
        {
          "name": "stdout",
          "output_type": "stream",
          "text": [
            "{'eval_loss': 0.7773452401161194, 'eval_accuracy': 0.737398478793348, 'eval_f1': 0.7403696355647867, 'eval_precision': 0.7580766277451305, 'eval_recall': 0.737398478793348, 'eval_runtime': 12.9818, 'eval_samples_per_second': 597.528, 'eval_steps_per_second': 37.36, 'epoch': 1.3}\n",
            "{'loss': 0.4385, 'learning_rate': 2.8443667763157895e-05, 'epoch': 1.36}\n"
          ]
        },
        {
          "data": {
            "application/vnd.jupyter.widget-view+json": {
              "model_id": "a7f4dab5530c4fa6a4805db4afa416b3",
              "version_major": 2,
              "version_minor": 0
            },
            "text/plain": [
              "  0%|          | 0/485 [00:00<?, ?it/s]"
            ]
          },
          "metadata": {},
          "output_type": "display_data"
        },
        {
          "name": "stdout",
          "output_type": "stream",
          "text": [
            "{'eval_loss': 0.7570482492446899, 'eval_accuracy': 0.7537707876756478, 'eval_f1': 0.7482035257935071, 'eval_precision': 0.7534513898509602, 'eval_recall': 0.7537707876756478, 'eval_runtime': 13.0276, 'eval_samples_per_second': 595.427, 'eval_steps_per_second': 37.229, 'epoch': 1.36}\n",
            "{'loss': 0.4869, 'learning_rate': 2.741570723684211e-05, 'epoch': 1.42}\n"
          ]
        },
        {
          "data": {
            "application/vnd.jupyter.widget-view+json": {
              "model_id": "f18ecf1000ce40ad948f0edbf8f1d742",
              "version_major": 2,
              "version_minor": 0
            },
            "text/plain": [
              "  0%|          | 0/485 [00:00<?, ?it/s]"
            ]
          },
          "metadata": {},
          "output_type": "display_data"
        },
        {
          "name": "stdout",
          "output_type": "stream",
          "text": [
            "{'eval_loss': 0.7178180813789368, 'eval_accuracy': 0.7617635683898414, 'eval_f1': 0.7591468232039045, 'eval_precision': 0.7628213945026088, 'eval_recall': 0.7617635683898414, 'eval_runtime': 13.1341, 'eval_samples_per_second': 590.599, 'eval_steps_per_second': 36.927, 'epoch': 1.42}\n",
            "{'loss': 0.4615, 'learning_rate': 2.6387746710526318e-05, 'epoch': 1.48}\n"
          ]
        },
        {
          "data": {
            "application/vnd.jupyter.widget-view+json": {
              "model_id": "a634a77e88fd435892cc6abeb6ee68f9",
              "version_major": 2,
              "version_minor": 0
            },
            "text/plain": [
              "  0%|          | 0/485 [00:00<?, ?it/s]"
            ]
          },
          "metadata": {},
          "output_type": "display_data"
        },
        {
          "name": "stdout",
          "output_type": "stream",
          "text": [
            "{'eval_loss': 0.7831714749336243, 'eval_accuracy': 0.7426840273301534, 'eval_f1': 0.7388926935392288, 'eval_precision': 0.7526822923895383, 'eval_recall': 0.7426840273301534, 'eval_runtime': 13.1628, 'eval_samples_per_second': 589.313, 'eval_steps_per_second': 36.846, 'epoch': 1.48}\n",
            "{'loss': 0.4401, 'learning_rate': 2.5359786184210526e-05, 'epoch': 1.54}\n"
          ]
        },
        {
          "data": {
            "application/vnd.jupyter.widget-view+json": {
              "model_id": "a46339cb9d6640f49d97bac94cee3f90",
              "version_major": 2,
              "version_minor": 0
            },
            "text/plain": [
              "  0%|          | 0/485 [00:00<?, ?it/s]"
            ]
          },
          "metadata": {},
          "output_type": "display_data"
        },
        {
          "name": "stdout",
          "output_type": "stream",
          "text": [
            "{'eval_loss': 0.7372922301292419, 'eval_accuracy': 0.7557045249452108, 'eval_f1': 0.7537190964791115, 'eval_precision': 0.7593282285475111, 'eval_recall': 0.7557045249452108, 'eval_runtime': 13.103, 'eval_samples_per_second': 592.0, 'eval_steps_per_second': 37.014, 'epoch': 1.54}\n",
            "{'loss': 0.4427, 'learning_rate': 2.4331825657894737e-05, 'epoch': 1.6}\n"
          ]
        },
        {
          "data": {
            "application/vnd.jupyter.widget-view+json": {
              "model_id": "dbbec7edb1f34159ba86e17a1c5bc4ca",
              "version_major": 2,
              "version_minor": 0
            },
            "text/plain": [
              "  0%|          | 0/485 [00:00<?, ?it/s]"
            ]
          },
          "metadata": {},
          "output_type": "display_data"
        },
        {
          "name": "stdout",
          "output_type": "stream",
          "text": [
            "{'eval_loss': 0.7510848045349121, 'eval_accuracy': 0.7522237978599974, 'eval_f1': 0.7520708815441424, 'eval_precision': 0.7596503256850423, 'eval_recall': 0.7522237978599974, 'eval_runtime': 13.5921, 'eval_samples_per_second': 570.701, 'eval_steps_per_second': 35.683, 'epoch': 1.6}\n",
            "{'loss': 0.4572, 'learning_rate': 2.330386513157895e-05, 'epoch': 1.66}\n"
          ]
        },
        {
          "data": {
            "application/vnd.jupyter.widget-view+json": {
              "model_id": "39da961d5de94a5baf3dc76c455d0c0f",
              "version_major": 2,
              "version_minor": 0
            },
            "text/plain": [
              "  0%|          | 0/485 [00:00<?, ?it/s]"
            ]
          },
          "metadata": {},
          "output_type": "display_data"
        },
        {
          "name": "stdout",
          "output_type": "stream",
          "text": [
            "{'eval_loss': 0.759259045124054, 'eval_accuracy': 0.7426840273301534, 'eval_f1': 0.7390927748277205, 'eval_precision': 0.7549339470146514, 'eval_recall': 0.7426840273301534, 'eval_runtime': 12.4847, 'eval_samples_per_second': 621.319, 'eval_steps_per_second': 38.847, 'epoch': 1.66}\n",
            "{'loss': 0.5048, 'learning_rate': 2.227590460526316e-05, 'epoch': 1.72}\n"
          ]
        },
        {
          "data": {
            "application/vnd.jupyter.widget-view+json": {
              "model_id": "fa741ad05121469b86770d1acd099c8e",
              "version_major": 2,
              "version_minor": 0
            },
            "text/plain": [
              "  0%|          | 0/485 [00:00<?, ?it/s]"
            ]
          },
          "metadata": {},
          "output_type": "display_data"
        },
        {
          "name": "stdout",
          "output_type": "stream",
          "text": [
            "{'eval_loss': 0.7471117377281189, 'eval_accuracy': 0.746809333505221, 'eval_f1': 0.7476448840504191, 'eval_precision': 0.7558483534572801, 'eval_recall': 0.746809333505221, 'eval_runtime': 12.6135, 'eval_samples_per_second': 614.977, 'eval_steps_per_second': 38.451, 'epoch': 1.72}\n",
            "{'loss': 0.4205, 'learning_rate': 2.1247944078947368e-05, 'epoch': 1.78}\n"
          ]
        },
        {
          "data": {
            "application/vnd.jupyter.widget-view+json": {
              "model_id": "0b25f9c523e644c298c9c4bddf473a3e",
              "version_major": 2,
              "version_minor": 0
            },
            "text/plain": [
              "  0%|          | 0/485 [00:00<?, ?it/s]"
            ]
          },
          "metadata": {},
          "output_type": "display_data"
        },
        {
          "name": "stdout",
          "output_type": "stream",
          "text": [
            "{'eval_loss': 0.7381922602653503, 'eval_accuracy': 0.753512956039706, 'eval_f1': 0.7495926575697672, 'eval_precision': 0.7542828927743684, 'eval_recall': 0.753512956039706, 'eval_runtime': 12.6572, 'eval_samples_per_second': 612.853, 'eval_steps_per_second': 38.318, 'epoch': 1.78}\n",
            "{'loss': 0.4378, 'learning_rate': 2.021998355263158e-05, 'epoch': 1.84}\n"
          ]
        },
        {
          "data": {
            "application/vnd.jupyter.widget-view+json": {
              "model_id": "78a3f246295b46509f8460391e0cb812",
              "version_major": 2,
              "version_minor": 0
            },
            "text/plain": [
              "  0%|          | 0/485 [00:00<?, ?it/s]"
            ]
          },
          "metadata": {},
          "output_type": "display_data"
        },
        {
          "name": "stdout",
          "output_type": "stream",
          "text": [
            "{'eval_loss': 0.7581716775894165, 'eval_accuracy': 0.749774397318551, 'eval_f1': 0.748103491636849, 'eval_precision': 0.7578016849961453, 'eval_recall': 0.749774397318551, 'eval_runtime': 12.5923, 'eval_samples_per_second': 616.013, 'eval_steps_per_second': 38.516, 'epoch': 1.84}\n",
            "{'loss': 0.4279, 'learning_rate': 1.919202302631579e-05, 'epoch': 1.9}\n"
          ]
        },
        {
          "data": {
            "application/vnd.jupyter.widget-view+json": {
              "model_id": "be739e4a8b3141a0b484c2d21a02965b",
              "version_major": 2,
              "version_minor": 0
            },
            "text/plain": [
              "  0%|          | 0/485 [00:00<?, ?it/s]"
            ]
          },
          "metadata": {},
          "output_type": "display_data"
        },
        {
          "name": "stdout",
          "output_type": "stream",
          "text": [
            "{'eval_loss': 0.7848740816116333, 'eval_accuracy': 0.7425551115121826, 'eval_f1': 0.7407254012409111, 'eval_precision': 0.754804863213075, 'eval_recall': 0.7425551115121826, 'eval_runtime': 12.6152, 'eval_samples_per_second': 614.894, 'eval_steps_per_second': 38.446, 'epoch': 1.9}\n",
            "{'loss': 0.4429, 'learning_rate': 1.8164062500000002e-05, 'epoch': 1.95}\n"
          ]
        },
        {
          "data": {
            "application/vnd.jupyter.widget-view+json": {
              "model_id": "0726f7babc5345c888e525e70f707059",
              "version_major": 2,
              "version_minor": 0
            },
            "text/plain": [
              "  0%|          | 0/485 [00:00<?, ?it/s]"
            ]
          },
          "metadata": {},
          "output_type": "display_data"
        },
        {
          "name": "stdout",
          "output_type": "stream",
          "text": [
            "{'eval_loss': 0.7355758547782898, 'eval_accuracy': 0.7522237978599974, 'eval_f1': 0.7477127132567268, 'eval_precision': 0.7502370185253144, 'eval_recall': 0.7522237978599974, 'eval_runtime': 12.4854, 'eval_samples_per_second': 621.287, 'eval_steps_per_second': 38.845, 'epoch': 1.95}\n",
            "{'loss': 0.3741, 'learning_rate': 1.7136101973684213e-05, 'epoch': 2.01}\n"
          ]
        },
        {
          "data": {
            "application/vnd.jupyter.widget-view+json": {
              "model_id": "9a0fd8d7e5394bbc8c1b558d0279d961",
              "version_major": 2,
              "version_minor": 0
            },
            "text/plain": [
              "  0%|          | 0/485 [00:00<?, ?it/s]"
            ]
          },
          "metadata": {},
          "output_type": "display_data"
        },
        {
          "name": "stdout",
          "output_type": "stream",
          "text": [
            "{'eval_loss': 0.7974388003349304, 'eval_accuracy': 0.7434575222379786, 'eval_f1': 0.7406971413311083, 'eval_precision': 0.7546049949466774, 'eval_recall': 0.7434575222379786, 'eval_runtime': 12.4931, 'eval_samples_per_second': 620.903, 'eval_steps_per_second': 38.821, 'epoch': 2.01}\n",
            "{'loss': 0.2856, 'learning_rate': 1.610814144736842e-05, 'epoch': 2.07}\n"
          ]
        },
        {
          "data": {
            "application/vnd.jupyter.widget-view+json": {
              "model_id": "f5847e06218f4f3c97a2554fa8fef81f",
              "version_major": 2,
              "version_minor": 0
            },
            "text/plain": [
              "  0%|          | 0/485 [00:00<?, ?it/s]"
            ]
          },
          "metadata": {},
          "output_type": "display_data"
        },
        {
          "name": "stdout",
          "output_type": "stream",
          "text": [
            "{'eval_loss': 0.8066421747207642, 'eval_accuracy': 0.7482274075029006, 'eval_f1': 0.7474551285581336, 'eval_precision': 0.7542530338615103, 'eval_recall': 0.7482274075029006, 'eval_runtime': 12.6074, 'eval_samples_per_second': 615.272, 'eval_steps_per_second': 38.469, 'epoch': 2.07}\n",
            "{'loss': 0.2337, 'learning_rate': 1.5080180921052633e-05, 'epoch': 2.13}\n"
          ]
        },
        {
          "data": {
            "application/vnd.jupyter.widget-view+json": {
              "model_id": "f47725590d364003a9e1f43583afa4cc",
              "version_major": 2,
              "version_minor": 0
            },
            "text/plain": [
              "  0%|          | 0/485 [00:00<?, ?it/s]"
            ]
          },
          "metadata": {},
          "output_type": "display_data"
        },
        {
          "name": "stdout",
          "output_type": "stream",
          "text": [
            "{'eval_loss': 0.8196850419044495, 'eval_accuracy': 0.7538997034936187, 'eval_f1': 0.7531076287158235, 'eval_precision': 0.7565679698795539, 'eval_recall': 0.7538997034936187, 'eval_runtime': 12.6529, 'eval_samples_per_second': 613.06, 'eval_steps_per_second': 38.331, 'epoch': 2.13}\n",
            "{'loss': 0.2718, 'learning_rate': 1.4052220394736842e-05, 'epoch': 2.19}\n"
          ]
        },
        {
          "data": {
            "application/vnd.jupyter.widget-view+json": {
              "model_id": "18d7c3ea19c844b296e0ff34aba8196d",
              "version_major": 2,
              "version_minor": 0
            },
            "text/plain": [
              "  0%|          | 0/485 [00:00<?, ?it/s]"
            ]
          },
          "metadata": {},
          "output_type": "display_data"
        },
        {
          "name": "stdout",
          "output_type": "stream",
          "text": [
            "{'eval_loss': 0.8673403263092041, 'eval_accuracy': 0.7431996906020368, 'eval_f1': 0.74191867119257, 'eval_precision': 0.7535128345459882, 'eval_recall': 0.7431996906020368, 'eval_runtime': 12.5482, 'eval_samples_per_second': 618.176, 'eval_steps_per_second': 38.651, 'epoch': 2.19}\n",
            "{'loss': 0.2914, 'learning_rate': 1.3024259868421054e-05, 'epoch': 2.25}\n"
          ]
        },
        {
          "data": {
            "application/vnd.jupyter.widget-view+json": {
              "model_id": "d1f89a9bfd584d8c842f83de864ca54f",
              "version_major": 2,
              "version_minor": 0
            },
            "text/plain": [
              "  0%|          | 0/485 [00:00<?, ?it/s]"
            ]
          },
          "metadata": {},
          "output_type": "display_data"
        },
        {
          "name": "stdout",
          "output_type": "stream",
          "text": [
            "{'eval_loss': 0.8684523701667786, 'eval_accuracy': 0.7451334278715999, 'eval_f1': 0.7454872970672863, 'eval_precision': 0.7543948402031057, 'eval_recall': 0.7451334278715999, 'eval_runtime': 13.2038, 'eval_samples_per_second': 587.481, 'eval_steps_per_second': 36.732, 'epoch': 2.25}\n",
            "{'loss': 0.2673, 'learning_rate': 1.1996299342105264e-05, 'epoch': 2.31}\n"
          ]
        },
        {
          "data": {
            "application/vnd.jupyter.widget-view+json": {
              "model_id": "1b77c25b003b4016a9e451b595c4dae9",
              "version_major": 2,
              "version_minor": 0
            },
            "text/plain": [
              "  0%|          | 0/485 [00:00<?, ?it/s]"
            ]
          },
          "metadata": {},
          "output_type": "display_data"
        },
        {
          "name": "stdout",
          "output_type": "stream",
          "text": [
            "{'eval_loss': 0.8973827362060547, 'eval_accuracy': 0.7395900476988526, 'eval_f1': 0.7385817334915146, 'eval_precision': 0.7510792058098857, 'eval_recall': 0.7395900476988526, 'eval_runtime': 12.9024, 'eval_samples_per_second': 601.207, 'eval_steps_per_second': 37.59, 'epoch': 2.31}\n",
            "{'loss': 0.2683, 'learning_rate': 1.0968338815789473e-05, 'epoch': 2.37}\n"
          ]
        },
        {
          "data": {
            "application/vnd.jupyter.widget-view+json": {
              "model_id": "3a2272d46cd743fca1405c2323d2eb94",
              "version_major": 2,
              "version_minor": 0
            },
            "text/plain": [
              "  0%|          | 0/485 [00:00<?, ?it/s]"
            ]
          },
          "metadata": {},
          "output_type": "display_data"
        },
        {
          "name": "stdout",
          "output_type": "stream",
          "text": [
            "{'eval_loss': 0.863448441028595, 'eval_accuracy': 0.7518370504060848, 'eval_f1': 0.7456531330016367, 'eval_precision': 0.7492501782616173, 'eval_recall': 0.7518370504060848, 'eval_runtime': 13.0291, 'eval_samples_per_second': 595.36, 'eval_steps_per_second': 37.224, 'epoch': 2.37}\n",
            "{'loss': 0.2665, 'learning_rate': 9.940378289473685e-06, 'epoch': 2.43}\n"
          ]
        },
        {
          "data": {
            "application/vnd.jupyter.widget-view+json": {
              "model_id": "c32dd09beb2b4d4b942b3fb34bbca52b",
              "version_major": 2,
              "version_minor": 0
            },
            "text/plain": [
              "  0%|          | 0/485 [00:00<?, ?it/s]"
            ]
          },
          "metadata": {},
          "output_type": "display_data"
        },
        {
          "name": "stdout",
          "output_type": "stream",
          "text": [
            "{'eval_loss': 0.8835780024528503, 'eval_accuracy': 0.7431996906020368, 'eval_f1': 0.7447844229188976, 'eval_precision': 0.7543101882205093, 'eval_recall': 0.7431996906020368, 'eval_runtime': 13.2879, 'eval_samples_per_second': 583.765, 'eval_steps_per_second': 36.499, 'epoch': 2.43}\n",
            "{'loss': 0.2827, 'learning_rate': 8.912417763157894e-06, 'epoch': 2.49}\n"
          ]
        },
        {
          "data": {
            "application/vnd.jupyter.widget-view+json": {
              "model_id": "e86371c1c05747078f192ee2d2da87dd",
              "version_major": 2,
              "version_minor": 0
            },
            "text/plain": [
              "  0%|          | 0/485 [00:00<?, ?it/s]"
            ]
          },
          "metadata": {},
          "output_type": "display_data"
        },
        {
          "name": "stdout",
          "output_type": "stream",
          "text": [
            "{'eval_loss': 0.8548880815505981, 'eval_accuracy': 0.7465515018692793, 'eval_f1': 0.7451989340404944, 'eval_precision': 0.7500988147282833, 'eval_recall': 0.7465515018692793, 'eval_runtime': 13.5576, 'eval_samples_per_second': 572.151, 'eval_steps_per_second': 35.773, 'epoch': 2.49}\n",
            "{'loss': 0.2402, 'learning_rate': 7.884457236842106e-06, 'epoch': 2.55}\n"
          ]
        },
        {
          "data": {
            "application/vnd.jupyter.widget-view+json": {
              "model_id": "07137846b336413cb169564036662e0a",
              "version_major": 2,
              "version_minor": 0
            },
            "text/plain": [
              "  0%|          | 0/485 [00:00<?, ?it/s]"
            ]
          },
          "metadata": {},
          "output_type": "display_data"
        },
        {
          "name": "stdout",
          "output_type": "stream",
          "text": [
            "{'eval_loss': 0.8738114833831787, 'eval_accuracy': 0.7450045120536289, 'eval_f1': 0.7439392021783975, 'eval_precision': 0.7502141683424601, 'eval_recall': 0.7450045120536289, 'eval_runtime': 13.5059, 'eval_samples_per_second': 574.343, 'eval_steps_per_second': 35.91, 'epoch': 2.55}\n",
            "{'loss': 0.2451, 'learning_rate': 6.856496710526317e-06, 'epoch': 2.61}\n"
          ]
        },
        {
          "data": {
            "application/vnd.jupyter.widget-view+json": {
              "model_id": "a07de282c59d4d86b61f7de0056016b7",
              "version_major": 2,
              "version_minor": 0
            },
            "text/plain": [
              "  0%|          | 0/485 [00:00<?, ?it/s]"
            ]
          },
          "metadata": {},
          "output_type": "display_data"
        },
        {
          "name": "stdout",
          "output_type": "stream",
          "text": [
            "{'eval_loss': 0.8666008710861206, 'eval_accuracy': 0.7473249967771045, 'eval_f1': 0.7457022415056196, 'eval_precision': 0.7502982681432623, 'eval_recall': 0.7473249967771045, 'eval_runtime': 13.4071, 'eval_samples_per_second': 578.573, 'eval_steps_per_second': 36.175, 'epoch': 2.61}\n",
            "{'loss': 0.2306, 'learning_rate': 5.828536184210527e-06, 'epoch': 2.67}\n"
          ]
        },
        {
          "data": {
            "application/vnd.jupyter.widget-view+json": {
              "model_id": "98a4a456dfbb4536be52037f3682d8e3",
              "version_major": 2,
              "version_minor": 0
            },
            "text/plain": [
              "  0%|          | 0/485 [00:00<?, ?it/s]"
            ]
          },
          "metadata": {},
          "output_type": "display_data"
        },
        {
          "name": "stdout",
          "output_type": "stream",
          "text": [
            "{'eval_loss': 0.912369966506958, 'eval_accuracy': 0.7404924584246487, 'eval_f1': 0.7379659022670713, 'eval_precision': 0.7483462720439309, 'eval_recall': 0.7404924584246487, 'eval_runtime': 14.0178, 'eval_samples_per_second': 553.367, 'eval_steps_per_second': 34.599, 'epoch': 2.67}\n",
            "{'loss': 0.2709, 'learning_rate': 4.8005756578947365e-06, 'epoch': 2.73}\n"
          ]
        },
        {
          "data": {
            "application/vnd.jupyter.widget-view+json": {
              "model_id": "b042f826c9434665b27504cf24916c58",
              "version_major": 2,
              "version_minor": 0
            },
            "text/plain": [
              "  0%|          | 0/485 [00:00<?, ?it/s]"
            ]
          },
          "metadata": {},
          "output_type": "display_data"
        },
        {
          "name": "stdout",
          "output_type": "stream",
          "text": [
            "{'eval_loss': 0.8849219679832458, 'eval_accuracy': 0.7450045120536289, 'eval_f1': 0.7439181874963987, 'eval_precision': 0.7503744690362306, 'eval_recall': 0.7450045120536289, 'eval_runtime': 13.6408, 'eval_samples_per_second': 568.662, 'eval_steps_per_second': 35.555, 'epoch': 2.73}\n",
            "{'loss': 0.2284, 'learning_rate': 3.772615131578947e-06, 'epoch': 2.78}\n"
          ]
        },
        {
          "data": {
            "application/vnd.jupyter.widget-view+json": {
              "model_id": "0498644d670549d5b1e74c05f653befe",
              "version_major": 2,
              "version_minor": 0
            },
            "text/plain": [
              "  0%|          | 0/485 [00:00<?, ?it/s]"
            ]
          },
          "metadata": {},
          "output_type": "display_data"
        },
        {
          "name": "stdout",
          "output_type": "stream",
          "text": [
            "{'eval_loss': 0.8945534825325012, 'eval_accuracy': 0.7457780069614541, 'eval_f1': 0.7470246941997027, 'eval_precision': 0.7551329043901039, 'eval_recall': 0.7457780069614541, 'eval_runtime': 13.3253, 'eval_samples_per_second': 582.124, 'eval_steps_per_second': 36.397, 'epoch': 2.78}\n",
            "{'loss': 0.2543, 'learning_rate': 2.744654605263158e-06, 'epoch': 2.84}\n"
          ]
        },
        {
          "data": {
            "application/vnd.jupyter.widget-view+json": {
              "model_id": "1b5c70542cf8499089e20b671dda8350",
              "version_major": 2,
              "version_minor": 0
            },
            "text/plain": [
              "  0%|          | 0/485 [00:00<?, ?it/s]"
            ]
          },
          "metadata": {},
          "output_type": "display_data"
        },
        {
          "name": "stdout",
          "output_type": "stream",
          "text": [
            "{'eval_loss': 0.8829323649406433, 'eval_accuracy': 0.7479695758669589, 'eval_f1': 0.7465020356814143, 'eval_precision': 0.7514727025601909, 'eval_recall': 0.7479695758669589, 'eval_runtime': 13.0847, 'eval_samples_per_second': 592.83, 'eval_steps_per_second': 37.066, 'epoch': 2.84}\n",
            "{'loss': 0.2379, 'learning_rate': 1.7166940789473684e-06, 'epoch': 2.9}\n"
          ]
        },
        {
          "data": {
            "application/vnd.jupyter.widget-view+json": {
              "model_id": "dce556aba27c4acf8fee36569db1863f",
              "version_major": 2,
              "version_minor": 0
            },
            "text/plain": [
              "  0%|          | 0/485 [00:00<?, ?it/s]"
            ]
          },
          "metadata": {},
          "output_type": "display_data"
        },
        {
          "name": "stdout",
          "output_type": "stream",
          "text": [
            "{'eval_loss': 0.8854002356529236, 'eval_accuracy': 0.7487430707747841, 'eval_f1': 0.749469282906591, 'eval_precision': 0.7556845279348615, 'eval_recall': 0.7487430707747841, 'eval_runtime': 13.1889, 'eval_samples_per_second': 588.147, 'eval_steps_per_second': 36.773, 'epoch': 2.9}\n",
            "{'loss': 0.2657, 'learning_rate': 6.887335526315789e-07, 'epoch': 2.96}\n"
          ]
        },
        {
          "data": {
            "application/vnd.jupyter.widget-view+json": {
              "model_id": "b93aa4fa56b4418ba6f846a5d83219e2",
              "version_major": 2,
              "version_minor": 0
            },
            "text/plain": [
              "  0%|          | 0/485 [00:00<?, ?it/s]"
            ]
          },
          "metadata": {},
          "output_type": "display_data"
        },
        {
          "name": "stdout",
          "output_type": "stream",
          "text": [
            "{'eval_loss': 0.8810961842536926, 'eval_accuracy': 0.7490009024107258, 'eval_f1': 0.7490307792430112, 'eval_precision': 0.7542143741854624, 'eval_recall': 0.7490009024107258, 'eval_runtime': 13.2827, 'eval_samples_per_second': 583.991, 'eval_steps_per_second': 36.514, 'epoch': 2.96}\n",
            "{'train_runtime': 1235.8153, 'train_samples_per_second': 65.544, 'train_steps_per_second': 4.098, 'train_loss': 0.5237516046135346, 'epoch': 3.0}\n"
          ]
        },
        {
          "data": {
            "text/plain": [
              "TrainOutput(global_step=5064, training_loss=0.5237516046135346, metrics={'train_runtime': 1235.8153, 'train_samples_per_second': 65.544, 'train_steps_per_second': 4.098, 'train_loss': 0.5237516046135346, 'epoch': 3.0})"
            ]
          },
          "execution_count": 21,
          "metadata": {},
          "output_type": "execute_result"
        }
      ],
      "source": [
        "training_args = TrainingArguments(\n",
        "    output_dir='./content/bert_model_output',\n",
        "    do_train=True,\n",
        "    do_eval=True,\n",
        "    num_train_epochs=3,\n",
        "    per_device_train_batch_size=16,\n",
        "    per_device_eval_batch_size=16,\n",
        "    fp16=True,\n",
        "    warmup_steps=200,\n",
        "    weight_decay=0.01,\n",
        "    logging_strategy='steps',\n",
        "    logging_dir='./content/logs',\n",
        "    logging_steps=100,\n",
        "    evaluation_strategy=\"steps\",\n",
        "    eval_steps=100,\n",
        "    save_strategy=\"steps\",\n",
        "    save_steps=2000,\n",
        "    load_best_model_at_end=True,\n",
        ")\n",
        "\n",
        "def compute_metrics(pred):\n",
        "    labels = pred.label_ids\n",
        "    preds = pred.predictions.argmax(-1)\n",
        "    precision, recall, f1, _ = precision_recall_fscore_support(labels, preds, average='weighted')\n",
        "    acc = accuracy_score(labels, preds)\n",
        "    return {\n",
        "        'accuracy': acc,\n",
        "        'f1': f1,\n",
        "        'precision': precision,\n",
        "        'recall': recall\n",
        "    }\n",
        "\n",
        "trainer = Trainer(\n",
        "    model=model,\n",
        "    args=training_args,\n",
        "    train_dataset=train_dataset,\n",
        "    eval_dataset=val_dataset,\n",
        "    compute_metrics=compute_metrics\n",
        ")\n",
        "\n",
        "trainer.train()"
      ]
    },
    {
      "cell_type": "code",
      "execution_count": 22,
      "metadata": {},
      "outputs": [
        {
          "data": {
            "application/vnd.jupyter.widget-view+json": {
              "model_id": "4921fd6d98804eedbf7ff67a7b8cac83",
              "version_major": 2,
              "version_minor": 0
            },
            "text/plain": [
              "  0%|          | 0/943 [00:00<?, ?it/s]"
            ]
          },
          "metadata": {},
          "output_type": "display_data"
        },
        {
          "name": "stdout",
          "output_type": "stream",
          "text": [
            "                                        precision    recall  f1-score   support\n",
            "\n",
            "            other_relevant_information       0.62      0.78      0.69      1070\n",
            "      displaced_people_and_evacuations       0.82      0.93      0.88       790\n",
            "                  sympathy_and_support       0.82      0.80      0.81      1617\n",
            "     infrastructure_and_utility_damage       0.93      0.93      0.93      1447\n",
            "                      not_humanitarian       0.53      0.70      0.61      1245\n",
            "                    caution_and_advice       0.61      0.42      0.50      2407\n",
            "              requests_or_urgent_needs       0.39      0.76      0.51       521\n",
            "rescue_volunteering_or_donation_effort       0.88      0.78      0.83      4219\n",
            "                injured_or_dead_people       0.82      0.83      0.82      1772\n",
            "\n",
            "                              accuracy                           0.75     15088\n",
            "                             macro avg       0.71      0.77      0.73     15088\n",
            "                          weighted avg       0.76      0.75      0.75     15088\n",
            "\n"
          ]
        }
      ],
      "source": [
        "from sklearn.metrics import classification_report\n",
        "predictions = trainer.predict(test_dataset)\n",
        "labels = predictions.label_ids\n",
        "preds = predictions.predictions.argmax(-1)\n",
        "\n",
        "print(classification_report(labels, preds, target_names=class_labels))"
      ]
    }
  ],
  "metadata": {
    "accelerator": "GPU",
    "colab": {
      "gpuType": "A100",
      "machine_shape": "hm",
      "provenance": []
    },
    "kernelspec": {
      "display_name": "Python 3",
      "name": "python3"
    },
    "language_info": {
      "codemirror_mode": {
        "name": "ipython",
        "version": 3
      },
      "file_extension": ".py",
      "mimetype": "text/x-python",
      "name": "python",
      "nbconvert_exporter": "python",
      "pygments_lexer": "ipython3",
      "version": "3.11.5"
    }
  },
  "nbformat": 4,
  "nbformat_minor": 0
}
