{
 "cells": [
  {
   "cell_type": "code",
   "execution_count": 62,
   "metadata": {},
   "outputs": [],
   "source": [
    "import pandas as pd\n",
    "import glob\n",
    "import torch, os\n",
    "from transformers import pipeline, BertForSequenceClassification, BertTokenizerFast, TrainingArguments, Trainer, DistilBertForSequenceClassification, DistilBertTokenizerFast\n",
    "from torch.utils.data import Dataset, DataLoader\n",
    "from sklearn.metrics import accuracy_score, precision_recall_fscore_support, classification_report"
   ]
  },
  {
   "cell_type": "code",
   "execution_count": 63,
   "metadata": {},
   "outputs": [
    {
     "name": "stdout",
     "output_type": "stream",
     "text": [
      "GPU\n"
     ]
    }
   ],
   "source": [
    "if torch.cuda.is_available():\n",
    "    device = torch.device(\"cuda\")\n",
    "    print('GPU')\n",
    "else:\n",
    "    device = torch.device(\"cpu\")\n",
    "    print('CPU')"
   ]
  },
  {
   "cell_type": "code",
   "execution_count": 64,
   "metadata": {},
   "outputs": [],
   "source": [
    "train_paths = ['./content/train/california_wildfires_2018_train.tsv',\n",
    "               './content/train/canada_wildfires_2016_train.tsv',\n",
    "               './content/train/cyclone_idai_2019_train.tsv',\n",
    "               './content/train/ecuador_earthquake_2016_train.tsv',\n",
    "               './content/train/greece_wildfires_2018_train.tsv',\n",
    "               './content/train/hurricane_dorian_2019_train.tsv',\n",
    "               './content/train/hurricane_florence_2018_train.tsv',\n",
    "               './content/train/hurricane_harvey_2017_train.tsv',\n",
    "               './content/train/hurricane_irma_2017_train.tsv',\n",
    "               './content/train/hurricane_maria_2017_train.tsv',\n",
    "               './content/train/hurricane_matthew_2016_train.tsv',\n",
    "               './content/train/italy_earthquake_aug_2016_train.tsv',\n",
    "               './content/train/kaikoura_earthquake_2016_train.tsv',\n",
    "               './content/train/kerala_floods_2018_train.tsv',\n",
    "               './content/train/maryland_floods_2018_train.tsv',\n",
    "               './content/train/midwestern_us_floods_2019_train.tsv',\n",
    "               './content/train/pakistan_earthquake_2019_train.tsv',\n",
    "               './content/train/puebla_mexico_earthquake_2017_train.tsv',\n",
    "               './content/train/srilanka_floods_2017_train.tsv']\n",
    "\n",
    "val_paths = ['./content/dev/california_wildfires_2018_dev.tsv',\n",
    "             './content/dev/canada_wildfires_2016_dev.tsv',\n",
    "             './content/dev/cyclone_idai_2019_dev.tsv',\n",
    "             './content/dev/ecuador_earthquake_2016_dev.tsv',\n",
    "             './content/dev/greece_wildfires_2018_dev.tsv',\n",
    "             './content/dev/hurricane_dorian_2019_dev.tsv',\n",
    "             './content/dev/hurricane_florence_2018_dev.tsv',\n",
    "             './content/dev/hurricane_harvey_2017_dev.tsv',\n",
    "             './content/dev/hurricane_irma_2017_dev.tsv',\n",
    "             './content/dev/hurricane_maria_2017_dev.tsv',\n",
    "             './content/dev/hurricane_matthew_2016_dev.tsv',\n",
    "             './content/dev/italy_earthquake_aug_2016_dev.tsv',\n",
    "             './content/dev/kaikoura_earthquake_2016_dev.tsv',\n",
    "             './content/dev/kerala_floods_2018_dev.tsv',\n",
    "             './content/dev/maryland_floods_2018_dev.tsv',\n",
    "             './content/dev/midwestern_us_floods_2019_dev.tsv',\n",
    "             './content/dev/pakistan_earthquake_2019_dev.tsv',\n",
    "             './content/dev/puebla_mexico_earthquake_2017_dev.tsv',\n",
    "             './content/dev/srilanka_floods_2017_dev.tsv']\n",
    "\n",
    "test_paths = ['./content/test/california_wildfires_2018_test.tsv',\n",
    "              './content/test/canada_wildfires_2016_test.tsv',\n",
    "              './content/test/cyclone_idai_2019_test.tsv',\n",
    "              './content/test/ecuador_earthquake_2016_test.tsv',\n",
    "              './content/test/greece_wildfires_2018_test.tsv',\n",
    "              './content/test/hurricane_dorian_2019_test.tsv',\n",
    "              './content/test/hurricane_florence_2018_test.tsv',\n",
    "              './content/test/hurricane_harvey_2017_test.tsv',\n",
    "              './content/test/hurricane_irma_2017_test.tsv',\n",
    "              './content/test/hurricane_maria_2017_test.tsv',\n",
    "              './content/test/hurricane_matthew_2016_test.tsv',\n",
    "              './content/test/italy_earthquake_aug_2016_test.tsv',\n",
    "              './content/test/kaikoura_earthquake_2016_test.tsv',\n",
    "              './content/test/kerala_floods_2018_test.tsv',\n",
    "              './content/test/maryland_floods_2018_test.tsv',\n",
    "              './content/test/midwestern_us_floods_2019_test.tsv',\n",
    "              './content/test/pakistan_earthquake_2019_test.tsv',\n",
    "              './content/test/puebla_mexico_earthquake_2017_test.tsv',\n",
    "              './content/test/srilanka_floods_2017_test.tsv']\n",
    "\n",
    "train_file_paths = []\n",
    "\n",
    "for path in train_paths:\n",
    "    files = glob.glob(path)\n",
    "    train_file_paths.extend(files)\n",
    "\n",
    "val_file_paths = []\n",
    "\n",
    "for path in val_paths:\n",
    "    files = glob.glob(path)\n",
    "    val_file_paths.extend(files)\n",
    "\n",
    "test_file_paths = []\n",
    "\n",
    "for path in test_paths:\n",
    "    files = glob.glob(path)\n",
    "    test_file_paths.extend(files)"
   ]
  },
  {
   "cell_type": "code",
   "execution_count": 65,
   "metadata": {},
   "outputs": [],
   "source": [
    "train_dfs = []\n",
    "\n",
    "for file in train_file_paths:\n",
    "    df = pd.read_csv(file, sep='\\t')\n",
    "    df = df.iloc[:, 1:] # removing tweet ids\n",
    "    df = df[df['class_label'] != 'missing_or_found_people']\n",
    "    train_dfs.append(df)\n",
    "\n",
    "train_df = pd.concat(train_dfs, ignore_index=True)\n",
    "\n",
    "val_dfs = [] # dataframes\n",
    "\n",
    "for file in val_file_paths:\n",
    "    df = pd.read_csv(file, sep='\\t')\n",
    "    df = df.iloc[:, 1:] # removing tweet ids\n",
    "    df = df[df['class_label'] != 'missing_or_found_people']\n",
    "    val_dfs.append(df)\n",
    "\n",
    "val_df = pd.concat(val_dfs, ignore_index=True)\n",
    "\n",
    "test_dfs = [] # dataframes\n",
    "\n",
    "for file in test_file_paths:\n",
    "    df = pd.read_csv(file, sep='\\t')\n",
    "    df = df.iloc[:, 1:] # removing tweet ids\n",
    "    df = df[df['class_label'] != 'missing_or_found_people']\n",
    "    test_dfs.append(df)\n",
    "\n",
    "test_df = pd.concat(test_dfs, ignore_index=True)"
   ]
  },
  {
   "cell_type": "code",
   "execution_count": 66,
   "metadata": {},
   "outputs": [],
   "source": [
    "\n",
    "class_labels = train_df['class_label'].unique().tolist()\n",
    "class_counts = train_df['class_label'].value_counts()"
   ]
  },
  {
   "cell_type": "code",
   "execution_count": 67,
   "metadata": {},
   "outputs": [],
   "source": [
    "# brute force balance\n",
    "class_labels = train_df['class_label'].unique().tolist()\n",
    "class_counts = train_df['class_label'].value_counts()\n",
    "# Minimum class size\n",
    "min_class_size = 3000 #min(class_counts)\n",
    "\n",
    "balanced_dfs = []  # List to hold balanced DataFrames for each class\n",
    "for class_label in class_labels:\n",
    "    class_df = train_df[train_df['class_label'] == class_label]\n",
    "    # Sample the minimum class size, if sample size is greater than the class size, then sample with replacement\n",
    "    sampled_df = class_df.sample(min_class_size, replace=min_class_size > class_df.shape[0])\n",
    "    balanced_dfs.append(sampled_df)\n",
    "\n",
    "train_df = pd.concat(balanced_dfs, ignore_index=True)\n",
    "# Optional: Shuffle the balanced DataFrame\n",
    "train_df = train_df.sample(frac=1, random_state=42).reset_index(drop=True)\n",
    "\n",
    "class_labels = [s.strip() for s in class_labels]"
   ]
  },
  {
   "cell_type": "code",
   "execution_count": 68,
   "metadata": {},
   "outputs": [
    {
     "data": {
      "text/plain": [
       "class_label\n",
       "other_relevant_information                3000\n",
       "displaced_people_and_evacuations          3000\n",
       "sympathy_and_support                      3000\n",
       "infrastructure_and_utility_damage         3000\n",
       "not_humanitarian                          3000\n",
       "caution_and_advice                        3000\n",
       "requests_or_urgent_needs                  3000\n",
       "rescue_volunteering_or_donation_effort    3000\n",
       "injured_or_dead_people                    3000\n",
       "Name: count, dtype: int64"
      ]
     },
     "execution_count": 68,
     "metadata": {},
     "output_type": "execute_result"
    }
   ],
   "source": [
    "class_labels = train_df['class_label'].unique().tolist()\n",
    "class_counts = train_df['class_label'].value_counts()\n",
    "class_counts"
   ]
  },
  {
   "cell_type": "code",
   "execution_count": 69,
   "metadata": {},
   "outputs": [
    {
     "data": {
      "text/plain": [
       "<Axes: ylabel='count'>"
      ]
     },
     "execution_count": 69,
     "metadata": {},
     "output_type": "execute_result"
    },
    {
     "data": {
      "image/png": "[encoded data removed]",
      "text/plain": [
       "<Figure size 1000x1000 with 1 Axes>"
      ]
     },
     "metadata": {},
     "output_type": "display_data"
    }
   ],
   "source": [
    "train_df.class_label.value_counts().plot(kind='pie', figsize=(10,10))"
   ]
  },
  {
   "cell_type": "code",
   "execution_count": 70,
   "metadata": {},
   "outputs": [],
   "source": [
    "from sklearn.preprocessing import LabelEncoder\n",
    "\n",
    "# Step 0: Ensure class labels are encoded numerically if not already\n",
    "label_encoder = LabelEncoder()\n",
    "train_df['class_label_num'] = label_encoder.fit_transform(train_df['class_label'])\n",
    "val_df['class_label_num'] = label_encoder.transform(val_df['class_label'])\n",
    "test_df['class_label_num'] = label_encoder.transform(test_df['class_label'])\n",
    "\n",
    "\n",
    "train_tweets = list(train_df.tweet_text)\n",
    "train_labels = list(train_df.class_label_num)\n",
    "\n",
    "val_tweets = list(val_df.tweet_text)\n",
    "val_labels = list(val_df.class_label_num)\n",
    "\n",
    "test_tweets = list(test_df.tweet_text)\n",
    "test_labels = list(test_df.class_label_num)"
   ]
  },
  {
   "cell_type": "code",
   "execution_count": 44,
   "metadata": {},
   "outputs": [
    {
     "data": {
      "text/plain": [
       "array([3, 5, 8, 4, 7, 2, 1, 0, 6])"
      ]
     },
     "execution_count": 44,
     "metadata": {},
     "output_type": "execute_result"
    }
   ],
   "source": [
    "train_df['class_label_num'].unique()"
   ]
  },
  {
   "cell_type": "code",
   "execution_count": 56,
   "metadata": {},
   "outputs": [],
   "source": [
    "from sklearn.utils.class_weight import compute_class_weight\n",
    "\n",
    "# compute class weights\n",
    "class_weights = compute_class_weight('balanced', classes=train_df['class_label_num'].unique(), y=train_df['class_label_num'])\n",
    "class_weights = torch.tensor(class_weights, dtype=torch.float32).to(device)"
   ]
  },
  {
   "cell_type": "code",
   "execution_count": 71,
   "metadata": {},
   "outputs": [],
   "source": [
    "tokenizer = BertTokenizerFast.from_pretrained('bert-base-uncased')\n",
    "\n",
    "def tokenize_data(text, tokenizer, max_len=256):\n",
    "    return tokenizer(text, padding='max_length', truncation=True, max_length=max_len, return_tensors=\"pt\")"
   ]
  },
  {
   "cell_type": "code",
   "execution_count": 72,
   "metadata": {},
   "outputs": [],
   "source": [
    "class TweetDataset(Dataset):\n",
    "    def __init__(self, texts, labels, tokenizer, max_len):\n",
    "        self.tokenizer = tokenizer\n",
    "        self.texts = texts\n",
    "        self.labels = labels\n",
    "        self.max_len = max_len\n",
    "        \n",
    "    def __len__(self):\n",
    "        return len(self.texts)\n",
    "    \n",
    "    def __getitem__(self, idx):\n",
    "        text = self.texts[idx]\n",
    "        inputs = tokenize_data(text, self.tokenizer, self.max_len)\n",
    "        text_length = torch.tensor([min(len(text), self.max_len) for text in self.texts])\n",
    "        return {\n",
    "            'input_ids': inputs['input_ids'].squeeze(0),  # Remove batch dimension\n",
    "            'attention_mask': inputs['attention_mask'].squeeze(0),\n",
    "            'labels': torch.tensor(self.labels[idx], dtype=torch.long),\n",
    "        }"
   ]
  },
  {
   "cell_type": "code",
   "execution_count": 73,
   "metadata": {},
   "outputs": [],
   "source": [
    "\n",
    "train_dataset = TweetDataset(train_tweets, train_labels, tokenizer, max_len=512)\n",
    "val_dataset = TweetDataset(val_tweets, val_labels, tokenizer, max_len=512)\n",
    "test_dataset = TweetDataset(test_tweets, test_labels, tokenizer, max_len=512)\n",
    "\n",
    "train_loader = DataLoader(train_dataset, batch_size=64, shuffle=True)\n",
    "val_loader = DataLoader(val_dataset, batch_size=32, shuffle=False)\n",
    "test_loader = DataLoader(test_dataset, batch_size=32, shuffle=False)"
   ]
  },
  {
   "cell_type": "code",
   "execution_count": 74,
   "metadata": {},
   "outputs": [],
   "source": [
    "import torch.nn as nn\n",
    "import torch.nn.functional as F\n",
    "\n",
    "class DeepTextCNN(nn.Module):\n",
    "    def __init__(self, vocab_size, embed_dim, num_classes, filter_sizes, num_filters, dropout=0.5):\n",
    "        super(DeepTextCNN, self).__init__()\n",
    "        self.embedding = nn.Embedding(vocab_size, embed_dim)\n",
    "        self.convs = nn.ModuleList([\n",
    "            nn.Sequential(nn.Conv2d(1, num_filters, (k, embed_dim)),\n",
    "                          nn.ReLU(),\n",
    "                          nn.MaxPool2d((2, 1))) for k in filter_sizes\n",
    "        ])\n",
    "        self.dropout = nn.Dropout(dropout)\n",
    "        # Adjust the size below according to your filter_sizes and the number of conv layers\n",
    "        self.fc1 = nn.Linear(num_filters * len(filter_sizes), num_filters) \n",
    "        self.fc2 = nn.Linear(num_filters, num_classes)\n",
    "        \n",
    "    def forward(self, x):\n",
    "        x = self.embedding(x).unsqueeze(1)  # Add channel dim\n",
    "        x = [conv(x).squeeze(3) for conv in self.convs]\n",
    "        x = [F.max_pool1d(i, i.size(2)).squeeze(2) for i in x]\n",
    "        x = torch.cat(x, 1)\n",
    "        x = self.dropout(x)\n",
    "        x = F.relu(self.fc1(x))\n",
    "        x = self.fc2(x)\n",
    "        return x"
   ]
  },
  {
   "cell_type": "code",
   "execution_count": 89,
   "metadata": {},
   "outputs": [
    {
     "name": "stderr",
     "output_type": "stream",
     "text": [
      "d:\\AI_Dev_Vault\\Anaconda\\Lib\\site-packages\\transformers\\optimization.py:411: FutureWarning: This implementation of AdamW is deprecated and will be removed in a future version. Use the PyTorch implementation torch.optim.AdamW instead, or set `no_deprecation_warning=True` to disable this warning\n",
      "  warnings.warn(\n",
      "Training Epoch 1: 100%|██████████| 422/422 [04:35<00:00,  1.53it/s]\n"
     ]
    },
    {
     "name": "stdout",
     "output_type": "stream",
     "text": [
      "\n",
      "Epoch 1, Loss: 2.0425\n",
      "Validation Metrics: Accuracy: 0.4395, Precision: 0.5635, Recall: 0.4395, F1: 0.4433\n",
      "\n"
     ]
    },
    {
     "name": "stderr",
     "output_type": "stream",
     "text": [
      "Training Epoch 2: 100%|██████████| 422/422 [04:30<00:00,  1.56it/s]\n"
     ]
    },
    {
     "name": "stdout",
     "output_type": "stream",
     "text": [
      "\n",
      "Epoch 2, Loss: 1.5070\n",
      "Validation Metrics: Accuracy: 0.5395, Precision: 0.6273, Recall: 0.5395, F1: 0.5559\n",
      "\n"
     ]
    },
    {
     "name": "stderr",
     "output_type": "stream",
     "text": [
      "Training Epoch 3: 100%|██████████| 422/422 [04:09<00:00,  1.69it/s]\n"
     ]
    },
    {
     "name": "stdout",
     "output_type": "stream",
     "text": [
      "\n",
      "Epoch 3, Loss: 1.2429\n",
      "Validation Metrics: Accuracy: 0.6233, Precision: 0.6589, Recall: 0.6233, F1: 0.6306\n",
      "\n"
     ]
    },
    {
     "name": "stderr",
     "output_type": "stream",
     "text": [
      "Training Epoch 4: 100%|██████████| 422/422 [04:11<00:00,  1.68it/s]\n"
     ]
    },
    {
     "name": "stdout",
     "output_type": "stream",
     "text": [
      "\n",
      "Epoch 4, Loss: 1.0924\n",
      "Validation Metrics: Accuracy: 0.6424, Precision: 0.6788, Recall: 0.6424, F1: 0.6454\n",
      "\n"
     ]
    },
    {
     "name": "stderr",
     "output_type": "stream",
     "text": [
      "Training Epoch 5: 100%|██████████| 422/422 [04:11<00:00,  1.68it/s]\n"
     ]
    },
    {
     "name": "stdout",
     "output_type": "stream",
     "text": [
      "\n",
      "Epoch 5, Loss: 1.0038\n",
      "Validation Metrics: Accuracy: 0.6821, Precision: 0.6978, Recall: 0.6821, F1: 0.6828\n",
      "\n"
     ]
    },
    {
     "name": "stderr",
     "output_type": "stream",
     "text": [
      "Training Epoch 6: 100%|██████████| 422/422 [04:22<00:00,  1.61it/s]\n"
     ]
    },
    {
     "name": "stdout",
     "output_type": "stream",
     "text": [
      "\n",
      "Epoch 6, Loss: 0.9424\n",
      "Validation Metrics: Accuracy: 0.6860, Precision: 0.7070, Recall: 0.6860, F1: 0.6912\n",
      "\n"
     ]
    },
    {
     "name": "stderr",
     "output_type": "stream",
     "text": [
      "Training Epoch 7: 100%|██████████| 422/422 [04:28<00:00,  1.57it/s]\n"
     ]
    },
    {
     "name": "stdout",
     "output_type": "stream",
     "text": [
      "\n",
      "Epoch 7, Loss: 0.8889\n",
      "Validation Metrics: Accuracy: 0.6817, Precision: 0.7104, Recall: 0.6817, F1: 0.6860\n",
      "\n"
     ]
    },
    {
     "name": "stderr",
     "output_type": "stream",
     "text": [
      "Training Epoch 8: 100%|██████████| 422/422 [04:25<00:00,  1.59it/s]\n"
     ]
    },
    {
     "name": "stdout",
     "output_type": "stream",
     "text": [
      "\n",
      "Epoch 8, Loss: 0.8539\n",
      "Validation Metrics: Accuracy: 0.6983, Precision: 0.7136, Recall: 0.6983, F1: 0.6989\n",
      "\n"
     ]
    }
   ],
   "source": [
    "from transformers import AdamW\n",
    "from tqdm import tqdm\n",
    "from sklearn.metrics import accuracy_score, precision_recall_fscore_support\n",
    "\n",
    "def evaluate(model, data_loader, device):\n",
    "    model.eval()\n",
    "    final_targets = []\n",
    "    final_outputs = []\n",
    "\n",
    "    with torch.no_grad():\n",
    "        for batch in data_loader:\n",
    "            input_ids = batch['input_ids'].to(device)\n",
    "            attention_mask = batch['attention_mask'].to(device)\n",
    "            labels = batch['labels'].to(device)\n",
    "            outputs = model(input_ids)\n",
    "            _, preds = torch.max(outputs, dim=1)\n",
    "\n",
    "            final_targets.extend(labels.cpu().detach().numpy())\n",
    "            final_outputs.extend(preds.cpu().detach().numpy())\n",
    "    \n",
    "    accuracy = accuracy_score(final_targets, final_outputs)\n",
    "    precision, recall, f1, _ = precision_recall_fscore_support(final_targets, final_outputs, average='weighted')\n",
    "    return accuracy, precision, recall, f1, final_targets, final_outputs\n",
    "\n",
    "\n",
    "model = DeepTextCNN(vocab_size=tokenizer.vocab_size, embed_dim=512, num_classes=len(set(class_labels)), filter_sizes=[2, 3, 4], num_filters=128)\n",
    "model.to(device)\n",
    "optimizer = AdamW(model.parameters(), lr=5e-5)\n",
    "\n",
    "num_epochs = 8\n",
    "for epoch in range(num_epochs):\n",
    "    model.train()\n",
    "    total_loss = 0\n",
    "    for batch in tqdm(train_loader, desc=f\"Training Epoch {epoch + 1}\"):\n",
    "        optimizer.zero_grad()\n",
    "        input_ids = batch['input_ids'].to(device)\n",
    "        attention_mask = batch['attention_mask'].to(device)\n",
    "        labels = batch['labels'].to(device)\n",
    "        outputs = model(input_ids)\n",
    "        loss = F.cross_entropy(outputs, labels)\n",
    "        loss.backward()\n",
    "        optimizer.step()\n",
    "        total_loss += loss.item()\n",
    "    \n",
    "    avg_train_loss = total_loss / len(train_loader)\n",
    "    print(f\"\\nEpoch {epoch + 1}, Loss: {avg_train_loss:.4f}\")\n",
    "\n",
    "    # Validation\n",
    "    accuracy, precision, recall, f1,y,y_pred = evaluate(model, val_loader, device)\n",
    "    print(f\"Validation Metrics: Accuracy: {accuracy:.4f}, Precision: {precision:.4f}, Recall: {recall:.4f}, F1: {f1:.4f}\\n\")\n",
    "    "
   ]
  },
  {
   "cell_type": "code",
   "execution_count": 94,
   "metadata": {},
   "outputs": [],
   "source": [
    "def class_report(model, data_loader, device): \n",
    "    model.eval()\n",
    "    final_targets = []\n",
    "    final_outputs = []\n",
    "\n",
    "    with torch.no_grad():\n",
    "        for batch in data_loader:\n",
    "            input_ids = batch['input_ids'].to(device)\n",
    "            labels = batch['labels'].to(device)\n",
    "            outputs = model(input_ids)\n",
    "            _, preds = torch.max(outputs, dim=1)\n",
    "\n",
    "            final_targets.extend(labels.cpu().detach().numpy())\n",
    "            final_outputs.extend(preds.cpu().detach().numpy())\n",
    "    \n",
    "    print(classification_report(final_targets, final_outputs, target_names=class_labels))"
   ]
  },
  {
   "cell_type": "code",
   "execution_count": 91,
   "metadata": {},
   "outputs": [
    {
     "name": "stdout",
     "output_type": "stream",
     "text": [
      "                                        precision    recall  f1-score   support\n",
      "\n",
      "            other_relevant_information       0.52      0.68      0.59      1070\n",
      "      displaced_people_and_evacuations       0.81      0.91      0.86       790\n",
      "                  sympathy_and_support       0.75      0.82      0.78      1617\n",
      "     infrastructure_and_utility_damage       0.87      0.92      0.89      1447\n",
      "                      not_humanitarian       0.46      0.54      0.50      1245\n",
      "                    caution_and_advice       0.52      0.37      0.43      2407\n",
      "              requests_or_urgent_needs       0.37      0.72      0.48       521\n",
      "rescue_volunteering_or_donation_effort       0.82      0.75      0.78      4219\n",
      "                injured_or_dead_people       0.87      0.72      0.78      1772\n",
      "\n",
      "                              accuracy                           0.69     15088\n",
      "                             macro avg       0.67      0.71      0.68     15088\n",
      "                          weighted avg       0.71      0.69      0.69     15088\n",
      "\n"
     ]
    }
   ],
   "source": [
    "class_report(model, test_loader, device)"
   ]
  },
  {
   "cell_type": "markdown",
   "metadata": {},
   "source": [
    "RNN (LSTM) performance"
   ]
  },
  {
   "cell_type": "code",
   "execution_count": 92,
   "metadata": {},
   "outputs": [],
   "source": [
    "class LSTMClassifier(nn.Module):\n",
    "    def __init__(self, vocab_size, embedding_dim, hidden_dim, output_dim, n_layers, bidirectional, dropout):\n",
    "        super().__init__()\n",
    "        self.embedding = nn.Embedding(vocab_size, embedding_dim)\n",
    "        self.lstm = nn.LSTM(embedding_dim, \n",
    "                            hidden_dim, \n",
    "                            num_layers=n_layers, \n",
    "                            bidirectional=bidirectional, \n",
    "                            dropout=dropout, \n",
    "                            batch_first=True)\n",
    "        self.fc = nn.Linear(hidden_dim * 2 if bidirectional else hidden_dim, output_dim)\n",
    "        self.dropout = nn.Dropout(dropout)\n",
    "        \n",
    "    def forward(self, text):\n",
    "        # text = [batch size, sent len]\n",
    "        embedded = self.dropout(self.embedding(text))\n",
    "        # embedded = [batch size, sent len, emb dim]\n",
    "        lstm_out, (hidden, cell) = self.lstm(embedded)\n",
    "        # hidden = [num layers * num directions, batch size, hid dim]\n",
    "        if self.lstm.bidirectional:\n",
    "            hidden = torch.cat((hidden[-2,:,:], hidden[-1,:,:]), dim=1)\n",
    "        else:\n",
    "            hidden = hidden[-1,:,:]\n",
    "        # hidden = [batch size, hid dim * num directions]\n",
    "        hidden = self.dropout(hidden)\n",
    "        return self.fc(hidden)"
   ]
  },
  {
   "cell_type": "code",
   "execution_count": 93,
   "metadata": {},
   "outputs": [
    {
     "name": "stderr",
     "output_type": "stream",
     "text": [
      "d:\\AI_Dev_Vault\\Anaconda\\Lib\\site-packages\\transformers\\optimization.py:411: FutureWarning: This implementation of AdamW is deprecated and will be removed in a future version. Use the PyTorch implementation torch.optim.AdamW instead, or set `no_deprecation_warning=True` to disable this warning\n",
      "  warnings.warn(\n",
      "Training: 100%|██████████| 422/422 [04:28<00:00,  1.57it/s]\n"
     ]
    },
    {
     "name": "stdout",
     "output_type": "stream",
     "text": [
      "Epoch 1, Train Loss: 1.5751\n",
      "Validation Metrics: Accuracy: 0.5787, Precision: 0.6507, Recall: 0.5787, F1: 0.5570\n",
      "\n"
     ]
    },
    {
     "name": "stderr",
     "output_type": "stream",
     "text": [
      "Training: 100%|██████████| 422/422 [04:30<00:00,  1.56it/s]\n"
     ]
    },
    {
     "name": "stdout",
     "output_type": "stream",
     "text": [
      "Epoch 2, Train Loss: 0.9015\n",
      "Validation Metrics: Accuracy: 0.6755, Precision: 0.6826, Recall: 0.6755, F1: 0.6645\n",
      "\n"
     ]
    },
    {
     "name": "stderr",
     "output_type": "stream",
     "text": [
      "Training: 100%|██████████| 422/422 [04:29<00:00,  1.57it/s]\n"
     ]
    },
    {
     "name": "stdout",
     "output_type": "stream",
     "text": [
      "Epoch 3, Train Loss: 0.7116\n",
      "Validation Metrics: Accuracy: 0.6989, Precision: 0.7174, Recall: 0.6989, F1: 0.7012\n",
      "\n"
     ]
    },
    {
     "name": "stderr",
     "output_type": "stream",
     "text": [
      "Training: 100%|██████████| 422/422 [04:27<00:00,  1.58it/s]\n"
     ]
    },
    {
     "name": "stdout",
     "output_type": "stream",
     "text": [
      "Epoch 4, Train Loss: 0.5941\n",
      "Validation Metrics: Accuracy: 0.7004, Precision: 0.7093, Recall: 0.7004, F1: 0.6925\n",
      "\n",
      "                                        precision    recall  f1-score   support\n",
      "\n",
      "            other_relevant_information     0.6082    0.7055    0.6532       550\n",
      "      displaced_people_and_evacuations     0.8528    0.8924    0.8722       409\n",
      "                  sympathy_and_support     0.7235    0.8123    0.7653       831\n",
      "     infrastructure_and_utility_damage     0.9000    0.9169    0.9084       746\n",
      "                      not_humanitarian     0.4301    0.6304    0.5113       644\n",
      "                    caution_and_advice     0.5578    0.2694    0.3633      1236\n",
      "              requests_or_urgent_needs     0.3931    0.6477    0.4893       264\n",
      "rescue_volunteering_or_donation_effort     0.8401    0.7588    0.7974      2168\n",
      "                injured_or_dead_people     0.7199    0.8427    0.7765       909\n",
      "\n",
      "                              accuracy                         0.7004      7757\n",
      "                             macro avg     0.6695    0.7196    0.6819      7757\n",
      "                          weighted avg     0.7093    0.7004    0.6925      7757\n",
      "\n"
     ]
    }
   ],
   "source": [
    "def train(model, train_loader, optimizer, device):\n",
    "    model.train()\n",
    "    total_loss = 0\n",
    "    for batch in tqdm(train_loader, desc=\"Training\"):\n",
    "        input_ids = batch['input_ids'].to(device)\n",
    "        labels = batch['labels'].to(device)\n",
    "        model.zero_grad()\n",
    "        outputs = model(input_ids)\n",
    "        loss = F.cross_entropy(outputs, labels)\n",
    "        loss.backward()\n",
    "        optimizer.step()\n",
    "        total_loss += loss.item()\n",
    "    return total_loss / len(train_loader)\n",
    "\n",
    "\n",
    "# Initialize the mode\n",
    "model = LSTMClassifier(vocab_size=tokenizer.vocab_size, embedding_dim=256, hidden_dim=128, output_dim=len(set(labels)), n_layers=2, bidirectional=True, dropout=0.2)\n",
    "model.to(device)\n",
    "optimizer = AdamW(model.parameters(), lr=1e-3)\n",
    "\n",
    "# Training and validation loop\n",
    "num_epochs = 4\n",
    "for epoch in range(num_epochs):\n",
    "    train_loss = train(model, train_loader, optimizer, device)\n",
    "    print(f\"Epoch {epoch+1}, Train Loss: {train_loss:.4f}\")\n",
    "    \n",
    "    accuracy, precision, recall, f1,y,y_pred = evaluate(model, val_loader, device)\n",
    "    print(f\"Validation Metrics: Accuracy: {accuracy:.4f}, Precision: {precision:.4f}, Recall: {recall:.4f}, F1: {f1:.4f}\\n\")\n",
    "    \n",
    "\n",
    "# Test\n",
    "print(classification_report(y, y_pred, target_names=class_labels, digits=4))"
   ]
  },
  {
   "cell_type": "code",
   "execution_count": 95,
   "metadata": {},
   "outputs": [
    {
     "name": "stdout",
     "output_type": "stream",
     "text": [
      "                                        precision    recall  f1-score   support\n",
      "\n",
      "            other_relevant_information       0.61      0.66      0.64      1070\n",
      "      displaced_people_and_evacuations       0.82      0.90      0.86       790\n",
      "                  sympathy_and_support       0.75      0.82      0.78      1617\n",
      "     infrastructure_and_utility_damage       0.90      0.92      0.91      1447\n",
      "                      not_humanitarian       0.43      0.68      0.53      1245\n",
      "                    caution_and_advice       0.58      0.27      0.36      2407\n",
      "              requests_or_urgent_needs       0.40      0.68      0.50       521\n",
      "rescue_volunteering_or_donation_effort       0.84      0.77      0.80      4219\n",
      "                injured_or_dead_people       0.72      0.83      0.77      1772\n",
      "\n",
      "                              accuracy                           0.70     15088\n",
      "                             macro avg       0.67      0.72      0.68     15088\n",
      "                          weighted avg       0.72      0.70      0.70     15088\n",
      "\n"
     ]
    }
   ],
   "source": [
    "class_report(model, test_loader, device)"
   ]
  }
 ],
 "metadata": {
  "kernelspec": {
   "display_name": "base",
   "language": "python",
   "name": "python3"
  },
  "language_info": {
   "codemirror_mode": {
    "name": "ipython",
    "version": 3
   },
   "file_extension": ".py",
   "mimetype": "text/x-python",
   "name": "python",
   "nbconvert_exporter": "python",
   "pygments_lexer": "ipython3",
   "version": "3.11.5"
  }
 },
 "nbformat": 4,
 "nbformat_minor": 2
}
