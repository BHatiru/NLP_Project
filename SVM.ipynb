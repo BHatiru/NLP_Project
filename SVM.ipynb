{
  "cells": [
    {
      "cell_type": "code",
      "execution_count": null,
      "metadata": {
        "id": "YuX53zAZywvM"
      },
      "outputs": [],
      "source": [
        "from sklearn.feature_extraction.text import TfidfVectorizer\n",
        "from sklearn.svm import SVC\n",
        "from sklearn.pipeline import Pipeline\n",
        "from sklearn.model_selection import train_test_split, GridSearchCV\n",
        "from sklearn.metrics import classification_report, accuracy_score\n",
        "import glob\n",
        "import torch\n",
        "import pandas as pd"
      ]
    },
    {
      "cell_type": "code",
      "execution_count": null,
      "metadata": {
        "id": "n_BAN-PizxLg"
      },
      "outputs": [],
      "source": [
        "train_paths = ['train/california_wildfires_2018_train.tsv',\n",
        "               'train/canada_wildfires_2016_train.tsv',\n",
        "               'train/cyclone_idai_2019_train.tsv',\n",
        "               'train/ecuador_earthquake_2016_train.tsv',\n",
        "               'train/greece_wildfires_2018_train.tsv',\n",
        "               'train/hurricane_dorian_2019_train.tsv',\n",
        "               'train/hurricane_florence_2018_train.tsv',\n",
        "               'train/hurricane_harvey_2017_train.tsv',\n",
        "               'train/hurricane_irma_2017_train.tsv',\n",
        "               'train/hurricane_maria_2017_train.tsv',\n",
        "               'train/hurricane_matthew_2016_train.tsv',\n",
        "               'train/italy_earthquake_aug_2016_train.tsv',\n",
        "               'train/kaikoura_earthquake_2016_train.tsv',\n",
        "               'train/kerala_floods_2018_train.tsv',\n",
        "               'train/maryland_floods_2018_train.tsv',\n",
        "               'train/midwestern_us_floods_2019_train.tsv',\n",
        "               'train/pakistan_earthquake_2019_train.tsv',\n",
        "               'train/puebla_mexico_earthquake_2017_train.tsv',\n",
        "               'train/srilanka_floods_2017_train.tsv',\n",
        "               'dev/california_wildfires_2018_dev.tsv',\n",
        "               'dev/canada_wildfires_2016_dev.tsv',\n",
        "               'dev/cyclone_idai_2019_dev.tsv',\n",
        "               'dev/ecuador_earthquake_2016_dev.tsv',\n",
        "               'dev/greece_wildfires_2018_dev.tsv',\n",
        "               'dev/hurricane_dorian_2019_dev.tsv',\n",
        "               'dev/hurricane_florence_2018_dev.tsv',\n",
        "               'dev/hurricane_harvey_2017_dev.tsv',\n",
        "               'dev/hurricane_irma_2017_dev.tsv',\n",
        "               'dev/hurricane_maria_2017_dev.tsv',\n",
        "               'dev/hurricane_matthew_2016_dev.tsv',\n",
        "               'dev/italy_earthquake_aug_2016_dev.tsv',\n",
        "               'dev/kaikoura_earthquake_2016_dev.tsv',\n",
        "               'dev/kerala_floods_2018_dev.tsv',\n",
        "               'dev/maryland_floods_2018_dev.tsv',\n",
        "               'dev/midwestern_us_floods_2019_dev.tsv',\n",
        "               'dev/pakistan_earthquake_2019_dev.tsv',\n",
        "               'dev/puebla_mexico_earthquake_2017_dev.tsv',\n",
        "               'dev/srilanka_floods_2017_dev.tsv']\n",
        "\n",
        "test_paths = ['test/california_wildfires_2018_test.tsv',\n",
        "              'test/canada_wildfires_2016_test.tsv',\n",
        "              'test/cyclone_idai_2019_test.tsv',\n",
        "              'test/ecuador_earthquake_2016_test.tsv',\n",
        "              'test/greece_wildfires_2018_test.tsv',\n",
        "              'test/hurricane_dorian_2019_test.tsv',\n",
        "              'test/hurricane_florence_2018_test.tsv',\n",
        "              'test/hurricane_harvey_2017_test.tsv',\n",
        "              'test/hurricane_irma_2017_test.tsv',\n",
        "              'test/hurricane_maria_2017_test.tsv',\n",
        "              'test/hurricane_matthew_2016_test.tsv',\n",
        "              'test/italy_earthquake_aug_2016_test.tsv',\n",
        "              'test/kaikoura_earthquake_2016_test.tsv',\n",
        "              'test/kerala_floods_2018_test.tsv',\n",
        "              'test/maryland_floods_2018_test.tsv',\n",
        "              'test/midwestern_us_floods_2019_test.tsv',\n",
        "              'test/pakistan_earthquake_2019_test.tsv',\n",
        "              'test/puebla_mexico_earthquake_2017_test.tsv',\n",
        "              'test/srilanka_floods_2017_test.tsv']\n",
        "\n",
        "train_file_paths = []\n",
        "\n",
        "for path in train_paths:\n",
        "    files = glob.glob(path)\n",
        "    train_file_paths.extend(files)\n",
        "\n",
        "test_file_paths = []\n",
        "\n",
        "for path in test_paths:\n",
        "    files = glob.glob(path)\n",
        "    test_file_paths.extend(files)"
      ]
    },
    {
      "cell_type": "code",
      "execution_count": null,
      "metadata": {
        "id": "8l7B7Ahm2J4c"
      },
      "outputs": [],
      "source": [
        "train_dfs = []\n",
        "\n",
        "for file in train_file_paths:\n",
        "    df = pd.read_csv(file, sep='\\t')\n",
        "    df = df.iloc[:, 1:] # removing tweet ids\n",
        "    df = df[df['class_label'] != 'missing_or_found_people']\n",
        "    train_dfs.append(df)\n",
        "\n",
        "train_df = pd.concat(train_dfs, ignore_index=True)\n",
        "\n",
        "test_dfs = []\n",
        "\n",
        "for file in test_file_paths:\n",
        "    df = pd.read_csv(file, sep='\\t')\n",
        "    df = df.iloc[:, 1:] # removing tweet ids\n",
        "    df = df[df['class_label'] != 'missing_or_found_people']\n",
        "    test_dfs.append(df)\n",
        "\n",
        "test_df = pd.concat(test_dfs, ignore_index=True)"
      ]
    },
    {
      "cell_type": "code",
      "source": [
        "print(len(train_df))"
      ],
      "metadata": {
        "colab": {
          "base_uri": "https://localhost:8080/"
        },
        "id": "0QA9teCxLQ_S",
        "outputId": "19b20305-fc0b-4afb-b94a-8b8a191ea6f8"
      },
      "execution_count": null,
      "outputs": [
        {
          "output_type": "stream",
          "name": "stdout",
          "text": [
            "61038\n"
          ]
        }
      ]
    },
    {
      "cell_type": "code",
      "source": [
        "def reduce_class_size(df, max_samples_per_class=3000):\n",
        "    return df.groupby('class_label').apply(lambda x: x.sample(min(len(x), max_samples_per_class))).reset_index(drop=True)\n",
        "\n",
        "train_df = reduce_class_size(train_df)"
      ],
      "metadata": {
        "id": "bGtZZqWeK0bL"
      },
      "execution_count": null,
      "outputs": []
    },
    {
      "cell_type": "code",
      "source": [
        "print(len(train_df))"
      ],
      "metadata": {
        "colab": {
          "base_uri": "https://localhost:8080/"
        },
        "id": "En1SFcQILLQz",
        "outputId": "5d720923-1bc5-48c9-df2f-7e71fb97b4b0"
      },
      "execution_count": null,
      "outputs": [
        {
          "output_type": "stream",
          "name": "stdout",
          "text": [
            "26097\n"
          ]
        }
      ]
    },
    {
      "cell_type": "code",
      "execution_count": null,
      "metadata": {
        "id": "PcNyc2u94N90"
      },
      "outputs": [],
      "source": [
        "all_labels = pd.concat([train_df['class_label'], test_df['class_label']]).unique()\n",
        "\n",
        "label_to_num = {label: num for num, label in enumerate(all_labels)}\n",
        "\n",
        "train_df['class_label_num'] = train_df['class_label'].map(label_to_num)\n",
        "test_df['class_label_num'] = test_df['class_label'].map(label_to_num)"
      ]
    },
    {
      "cell_type": "code",
      "execution_count": null,
      "metadata": {
        "id": "uvT9M4XC4b2q"
      },
      "outputs": [],
      "source": [
        "train_tweets = list(train_df.tweet_text)\n",
        "train_labels = list(train_df.class_label_num)\n",
        "\n",
        "test_tweets = list(test_df.tweet_text)\n",
        "test_labels = list(test_df.class_label_num)"
      ]
    },
    {
      "cell_type": "code",
      "execution_count": null,
      "metadata": {
        "id": "KkxBuaoV15rM"
      },
      "outputs": [],
      "source": [
        "tfidf_vectorizer = TfidfVectorizer(max_features=1000, stop_words='english')"
      ]
    },
    {
      "cell_type": "code",
      "execution_count": null,
      "metadata": {
        "id": "vfow4Azv15rM"
      },
      "outputs": [],
      "source": [
        "pipeline = Pipeline([\n",
        "    ('tfidf', TfidfVectorizer(stop_words='english', max_features=5000, ngram_range=(1, 1), use_idf=True)),\n",
        "    ('svc', SVC(probability=True, class_weight='balanced', kernel='rbf', C=100, gamma='scale'))\n",
        "])"
      ]
    },
    {
      "cell_type": "code",
      "execution_count": null,
      "metadata": {
        "id": "vvBZnSjL5XpA"
      },
      "outputs": [],
      "source": [
        "param_grid = {\n",
        "    # 'svc__C': [0.1, 1, 10, 100],\n",
        "    # 'svc__gamma': ['scale', 'auto']\n",
        "}"
      ]
    },
    {
      "cell_type": "code",
      "execution_count": null,
      "metadata": {
        "id": "4Yqv1EKX15rM"
      },
      "outputs": [],
      "source": [
        "grid_search = GridSearchCV(pipeline, param_grid, cv=3, verbose=3, n_jobs=-1)"
      ]
    },
    {
      "cell_type": "code",
      "execution_count": null,
      "metadata": {
        "colab": {
          "base_uri": "https://localhost:8080/",
          "height": 167
        },
        "id": "_Cr1A8rg5dF9",
        "outputId": "ebbc289e-bf43-4960-ac2e-f7dff98167ee"
      },
      "outputs": [
        {
          "output_type": "stream",
          "name": "stdout",
          "text": [
            "Fitting 3 folds for each of 1 candidates, totalling 3 fits\n"
          ]
        },
        {
          "output_type": "execute_result",
          "data": {
            "text/plain": [
              "GridSearchCV(cv=3,\n",
              "             estimator=Pipeline(steps=[('tfidf',\n",
              "                                        TfidfVectorizer(max_features=5000,\n",
              "                                                        stop_words='english')),\n",
              "                                       ('svc',\n",
              "                                        SVC(C=100, class_weight='balanced',\n",
              "                                            probability=True))]),\n",
              "             n_jobs=-1, param_grid={}, verbose=3)"
            ],
            "text/html": [
              "<style>#sk-container-id-1 {color: black;background-color: white;}#sk-container-id-1 pre{padding: 0;}#sk-container-id-1 div.sk-toggleable {background-color: white;}#sk-container-id-1 label.sk-toggleable__label {cursor: pointer;display: block;width: 100%;margin-bottom: 0;padding: 0.3em;box-sizing: border-box;text-align: center;}#sk-container-id-1 label.sk-toggleable__label-arrow:before {content: \"▸\";float: left;margin-right: 0.25em;color: #696969;}#sk-container-id-1 label.sk-toggleable__label-arrow:hover:before {color: black;}#sk-container-id-1 div.sk-estimator:hover label.sk-toggleable__label-arrow:before {color: black;}#sk-container-id-1 div.sk-toggleable__content {max-height: 0;max-width: 0;overflow: hidden;text-align: left;background-color: #f0f8ff;}#sk-container-id-1 div.sk-toggleable__content pre {margin: 0.2em;color: black;border-radius: 0.25em;background-color: #f0f8ff;}#sk-container-id-1 input.sk-toggleable__control:checked~div.sk-toggleable__content {max-height: 200px;max-width: 100%;overflow: auto;}#sk-container-id-1 input.sk-toggleable__control:checked~label.sk-toggleable__label-arrow:before {content: \"▾\";}#sk-container-id-1 div.sk-estimator input.sk-toggleable__control:checked~label.sk-toggleable__label {background-color: #d4ebff;}#sk-container-id-1 div.sk-label input.sk-toggleable__control:checked~label.sk-toggleable__label {background-color: #d4ebff;}#sk-container-id-1 input.sk-hidden--visually {border: 0;clip: rect(1px 1px 1px 1px);clip: rect(1px, 1px, 1px, 1px);height: 1px;margin: -1px;overflow: hidden;padding: 0;position: absolute;width: 1px;}#sk-container-id-1 div.sk-estimator {font-family: monospace;background-color: #f0f8ff;border: 1px dotted black;border-radius: 0.25em;box-sizing: border-box;margin-bottom: 0.5em;}#sk-container-id-1 div.sk-estimator:hover {background-color: #d4ebff;}#sk-container-id-1 div.sk-parallel-item::after {content: \"\";width: 100%;border-bottom: 1px solid gray;flex-grow: 1;}#sk-container-id-1 div.sk-label:hover label.sk-toggleable__label {background-color: #d4ebff;}#sk-container-id-1 div.sk-serial::before {content: \"\";position: absolute;border-left: 1px solid gray;box-sizing: border-box;top: 0;bottom: 0;left: 50%;z-index: 0;}#sk-container-id-1 div.sk-serial {display: flex;flex-direction: column;align-items: center;background-color: white;padding-right: 0.2em;padding-left: 0.2em;position: relative;}#sk-container-id-1 div.sk-item {position: relative;z-index: 1;}#sk-container-id-1 div.sk-parallel {display: flex;align-items: stretch;justify-content: center;background-color: white;position: relative;}#sk-container-id-1 div.sk-item::before, #sk-container-id-1 div.sk-parallel-item::before {content: \"\";position: absolute;border-left: 1px solid gray;box-sizing: border-box;top: 0;bottom: 0;left: 50%;z-index: -1;}#sk-container-id-1 div.sk-parallel-item {display: flex;flex-direction: column;z-index: 1;position: relative;background-color: white;}#sk-container-id-1 div.sk-parallel-item:first-child::after {align-self: flex-end;width: 50%;}#sk-container-id-1 div.sk-parallel-item:last-child::after {align-self: flex-start;width: 50%;}#sk-container-id-1 div.sk-parallel-item:only-child::after {width: 0;}#sk-container-id-1 div.sk-dashed-wrapped {border: 1px dashed gray;margin: 0 0.4em 0.5em 0.4em;box-sizing: border-box;padding-bottom: 0.4em;background-color: white;}#sk-container-id-1 div.sk-label label {font-family: monospace;font-weight: bold;display: inline-block;line-height: 1.2em;}#sk-container-id-1 div.sk-label-container {text-align: center;}#sk-container-id-1 div.sk-container {/* jupyter's `normalize.less` sets `[hidden] { display: none; }` but bootstrap.min.css set `[hidden] { display: none !important; }` so we also need the `!important` here to be able to override the default hidden behavior on the sphinx rendered scikit-learn.org. See: https://github.com/scikit-learn/scikit-learn/issues/21755 */display: inline-block !important;position: relative;}#sk-container-id-1 div.sk-text-repr-fallback {display: none;}</style><div id=\"sk-container-id-1\" class=\"sk-top-container\"><div class=\"sk-text-repr-fallback\"><pre>GridSearchCV(cv=3,\n",
              "             estimator=Pipeline(steps=[(&#x27;tfidf&#x27;,\n",
              "                                        TfidfVectorizer(max_features=5000,\n",
              "                                                        stop_words=&#x27;english&#x27;)),\n",
              "                                       (&#x27;svc&#x27;,\n",
              "                                        SVC(C=100, class_weight=&#x27;balanced&#x27;,\n",
              "                                            probability=True))]),\n",
              "             n_jobs=-1, param_grid={}, verbose=3)</pre><b>In a Jupyter environment, please rerun this cell to show the HTML representation or trust the notebook. <br />On GitHub, the HTML representation is unable to render, please try loading this page with nbviewer.org.</b></div><div class=\"sk-container\" hidden><div class=\"sk-item sk-dashed-wrapped\"><div class=\"sk-label-container\"><div class=\"sk-label sk-toggleable\"><input class=\"sk-toggleable__control sk-hidden--visually\" id=\"sk-estimator-id-1\" type=\"checkbox\" ><label for=\"sk-estimator-id-1\" class=\"sk-toggleable__label sk-toggleable__label-arrow\">GridSearchCV</label><div class=\"sk-toggleable__content\"><pre>GridSearchCV(cv=3,\n",
              "             estimator=Pipeline(steps=[(&#x27;tfidf&#x27;,\n",
              "                                        TfidfVectorizer(max_features=5000,\n",
              "                                                        stop_words=&#x27;english&#x27;)),\n",
              "                                       (&#x27;svc&#x27;,\n",
              "                                        SVC(C=100, class_weight=&#x27;balanced&#x27;,\n",
              "                                            probability=True))]),\n",
              "             n_jobs=-1, param_grid={}, verbose=3)</pre></div></div></div><div class=\"sk-parallel\"><div class=\"sk-parallel-item\"><div class=\"sk-item\"><div class=\"sk-label-container\"><div class=\"sk-label sk-toggleable\"><input class=\"sk-toggleable__control sk-hidden--visually\" id=\"sk-estimator-id-2\" type=\"checkbox\" ><label for=\"sk-estimator-id-2\" class=\"sk-toggleable__label sk-toggleable__label-arrow\">estimator: Pipeline</label><div class=\"sk-toggleable__content\"><pre>Pipeline(steps=[(&#x27;tfidf&#x27;,\n",
              "                 TfidfVectorizer(max_features=5000, stop_words=&#x27;english&#x27;)),\n",
              "                (&#x27;svc&#x27;, SVC(C=100, class_weight=&#x27;balanced&#x27;, probability=True))])</pre></div></div></div><div class=\"sk-serial\"><div class=\"sk-item\"><div class=\"sk-serial\"><div class=\"sk-item\"><div class=\"sk-estimator sk-toggleable\"><input class=\"sk-toggleable__control sk-hidden--visually\" id=\"sk-estimator-id-3\" type=\"checkbox\" ><label for=\"sk-estimator-id-3\" class=\"sk-toggleable__label sk-toggleable__label-arrow\">TfidfVectorizer</label><div class=\"sk-toggleable__content\"><pre>TfidfVectorizer(max_features=5000, stop_words=&#x27;english&#x27;)</pre></div></div></div><div class=\"sk-item\"><div class=\"sk-estimator sk-toggleable\"><input class=\"sk-toggleable__control sk-hidden--visually\" id=\"sk-estimator-id-4\" type=\"checkbox\" ><label for=\"sk-estimator-id-4\" class=\"sk-toggleable__label sk-toggleable__label-arrow\">SVC</label><div class=\"sk-toggleable__content\"><pre>SVC(C=100, class_weight=&#x27;balanced&#x27;, probability=True)</pre></div></div></div></div></div></div></div></div></div></div></div></div>"
            ]
          },
          "metadata": {},
          "execution_count": 18
        }
      ],
      "source": [
        "grid_search.fit(train_tweets, train_labels)"
      ]
    },
    {
      "cell_type": "code",
      "execution_count": null,
      "metadata": {
        "id": "HAzX0_y015rN",
        "colab": {
          "base_uri": "https://localhost:8080/"
        },
        "outputId": "c7d9a15c-0dc0-4e0b-a11a-a8a36bc4aec3"
      },
      "outputs": [
        {
          "output_type": "stream",
          "name": "stdout",
          "text": [
            "Best Parameters: {}\n",
            "Best Score: 0.7196995823274706\n"
          ]
        }
      ],
      "source": [
        "print(\"Best Parameters:\", grid_search.best_params_)\n",
        "print(\"Best Score:\", grid_search.best_score_)"
      ]
    },
    {
      "cell_type": "code",
      "execution_count": null,
      "metadata": {
        "id": "AX4KbEPP7AeU",
        "colab": {
          "base_uri": "https://localhost:8080/"
        },
        "outputId": "04fe6920-75ac-45bf-b451-916c9aa0879e"
      },
      "outputs": [
        {
          "output_type": "stream",
          "name": "stdout",
          "text": [
            "0.7060577942735949\n"
          ]
        }
      ],
      "source": [
        "test_preds = grid_search.predict(test_tweets)\n",
        "print(accuracy_score(test_labels, test_preds))"
      ]
    },
    {
      "cell_type": "code",
      "execution_count": null,
      "metadata": {
        "id": "uF6GRWFw7L9H",
        "colab": {
          "base_uri": "https://localhost:8080/"
        },
        "outputId": "eb57f392-7134-4bbb-8c0d-6fddc044003c"
      },
      "outputs": [
        {
          "output_type": "stream",
          "name": "stdout",
          "text": [
            "0.9997700885159214\n"
          ]
        }
      ],
      "source": [
        "trains_preds = grid_search.predict(train_tweets)\n",
        "print(accuracy_score(train_labels, trains_preds))"
      ]
    },
    {
      "cell_type": "code",
      "execution_count": null,
      "metadata": {
        "id": "DT7bqPDo15rN",
        "colab": {
          "base_uri": "https://localhost:8080/"
        },
        "outputId": "b9ed474b-5e1f-4708-c354-6c878179f1c1"
      },
      "outputs": [
        {
          "output_type": "stream",
          "name": "stdout",
          "text": [
            "              precision    recall  f1-score   support\n",
            "\n",
            "           0       0.58      0.71      0.64      1070\n",
            "           1       0.81      0.90      0.86       790\n",
            "           2       0.78      0.81      0.79      1617\n",
            "           3       0.89      0.93      0.91      1447\n",
            "           4       0.47      0.60      0.52      1245\n",
            "           5       0.52      0.45      0.48      2407\n",
            "           6       0.37      0.65      0.47       521\n",
            "           7       0.87      0.72      0.79      4219\n",
            "           8       0.81      0.74      0.77      1772\n",
            "\n",
            "    accuracy                           0.71     15088\n",
            "   macro avg       0.68      0.72      0.69     15088\n",
            "weighted avg       0.73      0.71      0.71     15088\n",
            "\n"
          ]
        }
      ],
      "source": [
        "print(classification_report(test_labels, test_preds))"
      ]
    },
    {
      "cell_type": "code",
      "source": [],
      "metadata": {
        "id": "_i6kydmfLgW_"
      },
      "execution_count": null,
      "outputs": []
    }
  ],
  "metadata": {
    "accelerator": "GPU",
    "colab": {
      "gpuType": "T4",
      "machine_shape": "hm",
      "provenance": []
    },
    "kernelspec": {
      "display_name": "Python 3 (ipykernel)",
      "language": "python",
      "name": "python3"
    },
    "language_info": {
      "codemirror_mode": {
        "name": "ipython",
        "version": 3
      },
      "file_extension": ".py",
      "mimetype": "text/x-python",
      "name": "python",
      "nbconvert_exporter": "python",
      "pygments_lexer": "ipython3",
      "version": "3.12.2"
    }
  },
  "nbformat": 4,
  "nbformat_minor": 0
}