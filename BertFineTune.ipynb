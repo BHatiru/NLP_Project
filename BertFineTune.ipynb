{
  "cells": [
    {
      "cell_type": "code",
      "execution_count": 33,
      "metadata": {
        "id": "YXfJ10EsVseC"
      },
      "outputs": [],
      "source": [
        "import pandas as pd\n",
        "import glob\n",
        "import torch, os\n",
        "from transformers import pipeline, BertForSequenceClassification, BertTokenizerFast, TrainingArguments, Trainer, DistilBertForSequenceClassification, DistilBertTokenizerFast\n",
        "from torch.utils.data import Dataset\n",
        "from torch.utils.data import DataLoader as TorchDataLoader\n",
        "from sklearn.metrics import accuracy_score, precision_recall_fscore_support"
      ]
    },
    {
      "cell_type": "code",
      "source": [
        "!pip install transformers[torch]"
      ],
      "metadata": {
        "id": "38lz938-EAA0",
        "outputId": "e817adf8-b88a-4935-91e5-e876f2de4f00",
        "colab": {
          "base_uri": "https://localhost:8080/"
        }
      },
      "execution_count": 2,
      "outputs": [
        {
          "output_type": "stream",
          "name": "stdout",
          "text": [
            "Requirement already satisfied: transformers[torch] in /usr/local/lib/python3.10/dist-packages (4.38.2)\n",
            "Requirement already satisfied: filelock in /usr/local/lib/python3.10/dist-packages (from transformers[torch]) (3.13.3)\n",
            "Requirement already satisfied: huggingface-hub<1.0,>=0.19.3 in /usr/local/lib/python3.10/dist-packages (from transformers[torch]) (0.20.3)\n",
            "Requirement already satisfied: numpy>=1.17 in /usr/local/lib/python3.10/dist-packages (from transformers[torch]) (1.25.2)\n",
            "Requirement already satisfied: packaging>=20.0 in /usr/local/lib/python3.10/dist-packages (from transformers[torch]) (24.0)\n",
            "Requirement already satisfied: pyyaml>=5.1 in /usr/local/lib/python3.10/dist-packages (from transformers[torch]) (6.0.1)\n",
            "Requirement already satisfied: regex!=2019.12.17 in /usr/local/lib/python3.10/dist-packages (from transformers[torch]) (2023.12.25)\n",
            "Requirement already satisfied: requests in /usr/local/lib/python3.10/dist-packages (from transformers[torch]) (2.31.0)\n",
            "Requirement already satisfied: tokenizers<0.19,>=0.14 in /usr/local/lib/python3.10/dist-packages (from transformers[torch]) (0.15.2)\n",
            "Requirement already satisfied: safetensors>=0.4.1 in /usr/local/lib/python3.10/dist-packages (from transformers[torch]) (0.4.2)\n",
            "Requirement already satisfied: tqdm>=4.27 in /usr/local/lib/python3.10/dist-packages (from transformers[torch]) (4.66.2)\n",
            "Requirement already satisfied: torch in /usr/local/lib/python3.10/dist-packages (from transformers[torch]) (2.2.1+cu121)\n",
            "Collecting accelerate>=0.21.0 (from transformers[torch])\n",
            "  Downloading accelerate-0.29.2-py3-none-any.whl (297 kB)\n",
            "\u001b[2K     \u001b[90m━━━━━━━━━━━━━━━━━━━━━━━━━━━━━━━━━━━━━━━━\u001b[0m \u001b[32m297.4/297.4 kB\u001b[0m \u001b[31m7.1 MB/s\u001b[0m eta \u001b[36m0:00:00\u001b[0m\n",
            "\u001b[?25hRequirement already satisfied: psutil in /usr/local/lib/python3.10/dist-packages (from accelerate>=0.21.0->transformers[torch]) (5.9.5)\n",
            "Requirement already satisfied: fsspec>=2023.5.0 in /usr/local/lib/python3.10/dist-packages (from huggingface-hub<1.0,>=0.19.3->transformers[torch]) (2023.6.0)\n",
            "Requirement already satisfied: typing-extensions>=3.7.4.3 in /usr/local/lib/python3.10/dist-packages (from huggingface-hub<1.0,>=0.19.3->transformers[torch]) (4.10.0)\n",
            "Requirement already satisfied: sympy in /usr/local/lib/python3.10/dist-packages (from torch->transformers[torch]) (1.12)\n",
            "Requirement already satisfied: networkx in /usr/local/lib/python3.10/dist-packages (from torch->transformers[torch]) (3.2.1)\n",
            "Requirement already satisfied: jinja2 in /usr/local/lib/python3.10/dist-packages (from torch->transformers[torch]) (3.1.3)\n",
            "Collecting nvidia-cuda-nvrtc-cu12==12.1.105 (from torch->transformers[torch])\n",
            "  Downloading nvidia_cuda_nvrtc_cu12-12.1.105-py3-none-manylinux1_x86_64.whl (23.7 MB)\n",
            "\u001b[2K     \u001b[90m━━━━━━━━━━━━━━━━━━━━━━━━━━━━━━━━━━━━━━━━\u001b[0m \u001b[32m23.7/23.7 MB\u001b[0m \u001b[31m70.4 MB/s\u001b[0m eta \u001b[36m0:00:00\u001b[0m\n",
            "\u001b[?25hCollecting nvidia-cuda-runtime-cu12==12.1.105 (from torch->transformers[torch])\n",
            "  Downloading nvidia_cuda_runtime_cu12-12.1.105-py3-none-manylinux1_x86_64.whl (823 kB)\n",
            "\u001b[2K     \u001b[90m━━━━━━━━━━━━━━━━━━━━━━━━━━━━━━━━━━━━━━━━\u001b[0m \u001b[32m823.6/823.6 kB\u001b[0m \u001b[31m69.7 MB/s\u001b[0m eta \u001b[36m0:00:00\u001b[0m\n",
            "\u001b[?25hCollecting nvidia-cuda-cupti-cu12==12.1.105 (from torch->transformers[torch])\n",
            "  Downloading nvidia_cuda_cupti_cu12-12.1.105-py3-none-manylinux1_x86_64.whl (14.1 MB)\n",
            "\u001b[2K     \u001b[90m━━━━━━━━━━━━━━━━━━━━━━━━━━━━━━━━━━━━━━━━\u001b[0m \u001b[32m14.1/14.1 MB\u001b[0m \u001b[31m99.8 MB/s\u001b[0m eta \u001b[36m0:00:00\u001b[0m\n",
            "\u001b[?25hCollecting nvidia-cudnn-cu12==8.9.2.26 (from torch->transformers[torch])\n",
            "  Downloading nvidia_cudnn_cu12-8.9.2.26-py3-none-manylinux1_x86_64.whl (731.7 MB)\n",
            "\u001b[2K     \u001b[90m━━━━━━━━━━━━━━━━━━━━━━━━━━━━━━━━━━━━━━━━\u001b[0m \u001b[32m731.7/731.7 MB\u001b[0m \u001b[31m2.3 MB/s\u001b[0m eta \u001b[36m0:00:00\u001b[0m\n",
            "\u001b[?25hCollecting nvidia-cublas-cu12==12.1.3.1 (from torch->transformers[torch])\n",
            "  Downloading nvidia_cublas_cu12-12.1.3.1-py3-none-manylinux1_x86_64.whl (410.6 MB)\n",
            "\u001b[2K     \u001b[90m━━━━━━━━━━━━━━━━━━━━━━━━━━━━━━━━━━━━━━━━\u001b[0m \u001b[32m410.6/410.6 MB\u001b[0m \u001b[31m3.2 MB/s\u001b[0m eta \u001b[36m0:00:00\u001b[0m\n",
            "\u001b[?25hCollecting nvidia-cufft-cu12==11.0.2.54 (from torch->transformers[torch])\n",
            "  Downloading nvidia_cufft_cu12-11.0.2.54-py3-none-manylinux1_x86_64.whl (121.6 MB)\n",
            "\u001b[2K     \u001b[90m━━━━━━━━━━━━━━━━━━━━━━━━━━━━━━━━━━━━━━━━\u001b[0m \u001b[32m121.6/121.6 MB\u001b[0m \u001b[31m14.1 MB/s\u001b[0m eta \u001b[36m0:00:00\u001b[0m\n",
            "\u001b[?25hCollecting nvidia-curand-cu12==10.3.2.106 (from torch->transformers[torch])\n",
            "  Downloading nvidia_curand_cu12-10.3.2.106-py3-none-manylinux1_x86_64.whl (56.5 MB)\n",
            "\u001b[2K     \u001b[90m━━━━━━━━━━━━━━━━━━━━━━━━━━━━━━━━━━━━━━━━\u001b[0m \u001b[32m56.5/56.5 MB\u001b[0m \u001b[31m30.5 MB/s\u001b[0m eta \u001b[36m0:00:00\u001b[0m\n",
            "\u001b[?25hCollecting nvidia-cusolver-cu12==11.4.5.107 (from torch->transformers[torch])\n",
            "  Downloading nvidia_cusolver_cu12-11.4.5.107-py3-none-manylinux1_x86_64.whl (124.2 MB)\n",
            "\u001b[2K     \u001b[90m━━━━━━━━━━━━━━━━━━━━━━━━━━━━━━━━━━━━━━━━\u001b[0m \u001b[32m124.2/124.2 MB\u001b[0m \u001b[31m7.6 MB/s\u001b[0m eta \u001b[36m0:00:00\u001b[0m\n",
            "\u001b[?25hCollecting nvidia-cusparse-cu12==12.1.0.106 (from torch->transformers[torch])\n",
            "  Downloading nvidia_cusparse_cu12-12.1.0.106-py3-none-manylinux1_x86_64.whl (196.0 MB)\n",
            "\u001b[2K     \u001b[90m━━━━━━━━━━━━━━━━━━━━━━━━━━━━━━━━━━━━━━━━\u001b[0m \u001b[32m196.0/196.0 MB\u001b[0m \u001b[31m4.1 MB/s\u001b[0m eta \u001b[36m0:00:00\u001b[0m\n",
            "\u001b[?25hCollecting nvidia-nccl-cu12==2.19.3 (from torch->transformers[torch])\n",
            "  Downloading nvidia_nccl_cu12-2.19.3-py3-none-manylinux1_x86_64.whl (166.0 MB)\n",
            "\u001b[2K     \u001b[90m━━━━━━━━━━━━━━━━━━━━━━━━━━━━━━━━━━━━━━━━\u001b[0m \u001b[32m166.0/166.0 MB\u001b[0m \u001b[31m10.5 MB/s\u001b[0m eta \u001b[36m0:00:00\u001b[0m\n",
            "\u001b[?25hCollecting nvidia-nvtx-cu12==12.1.105 (from torch->transformers[torch])\n",
            "  Downloading nvidia_nvtx_cu12-12.1.105-py3-none-manylinux1_x86_64.whl (99 kB)\n",
            "\u001b[2K     \u001b[90m━━━━━━━━━━━━━━━━━━━━━━━━━━━━━━━━━━━━━━━━\u001b[0m \u001b[32m99.1/99.1 kB\u001b[0m \u001b[31m13.3 MB/s\u001b[0m eta \u001b[36m0:00:00\u001b[0m\n",
            "\u001b[?25hRequirement already satisfied: triton==2.2.0 in /usr/local/lib/python3.10/dist-packages (from torch->transformers[torch]) (2.2.0)\n",
            "Collecting nvidia-nvjitlink-cu12 (from nvidia-cusolver-cu12==11.4.5.107->torch->transformers[torch])\n",
            "  Downloading nvidia_nvjitlink_cu12-12.4.127-py3-none-manylinux2014_x86_64.whl (21.1 MB)\n",
            "\u001b[2K     \u001b[90m━━━━━━━━━━━━━━━━━━━━━━━━━━━━━━━━━━━━━━━━\u001b[0m \u001b[32m21.1/21.1 MB\u001b[0m \u001b[31m85.7 MB/s\u001b[0m eta \u001b[36m0:00:00\u001b[0m\n",
            "\u001b[?25hRequirement already satisfied: charset-normalizer<4,>=2 in /usr/local/lib/python3.10/dist-packages (from requests->transformers[torch]) (3.3.2)\n",
            "Requirement already satisfied: idna<4,>=2.5 in /usr/local/lib/python3.10/dist-packages (from requests->transformers[torch]) (3.6)\n",
            "Requirement already satisfied: urllib3<3,>=1.21.1 in /usr/local/lib/python3.10/dist-packages (from requests->transformers[torch]) (2.0.7)\n",
            "Requirement already satisfied: certifi>=2017.4.17 in /usr/local/lib/python3.10/dist-packages (from requests->transformers[torch]) (2024.2.2)\n",
            "Requirement already satisfied: MarkupSafe>=2.0 in /usr/local/lib/python3.10/dist-packages (from jinja2->torch->transformers[torch]) (2.1.5)\n",
            "Requirement already satisfied: mpmath>=0.19 in /usr/local/lib/python3.10/dist-packages (from sympy->torch->transformers[torch]) (1.3.0)\n",
            "Installing collected packages: nvidia-nvtx-cu12, nvidia-nvjitlink-cu12, nvidia-nccl-cu12, nvidia-curand-cu12, nvidia-cufft-cu12, nvidia-cuda-runtime-cu12, nvidia-cuda-nvrtc-cu12, nvidia-cuda-cupti-cu12, nvidia-cublas-cu12, nvidia-cusparse-cu12, nvidia-cudnn-cu12, nvidia-cusolver-cu12, accelerate\n",
            "Successfully installed accelerate-0.29.2 nvidia-cublas-cu12-12.1.3.1 nvidia-cuda-cupti-cu12-12.1.105 nvidia-cuda-nvrtc-cu12-12.1.105 nvidia-cuda-runtime-cu12-12.1.105 nvidia-cudnn-cu12-8.9.2.26 nvidia-cufft-cu12-11.0.2.54 nvidia-curand-cu12-10.3.2.106 nvidia-cusolver-cu12-11.4.5.107 nvidia-cusparse-cu12-12.1.0.106 nvidia-nccl-cu12-2.19.3 nvidia-nvjitlink-cu12-12.4.127 nvidia-nvtx-cu12-12.1.105\n"
          ]
        }
      ]
    },
    {
      "cell_type": "code",
      "source": [
        "!pip install accelerate -U"
      ],
      "metadata": {
        "id": "mvskuFhrEBed",
        "outputId": "a3eafc9e-0dec-460d-e2a2-24f58f32d073",
        "colab": {
          "base_uri": "https://localhost:8080/"
        }
      },
      "execution_count": 3,
      "outputs": [
        {
          "output_type": "stream",
          "name": "stdout",
          "text": [
            "Requirement already satisfied: accelerate in /usr/local/lib/python3.10/dist-packages (0.29.2)\n",
            "Requirement already satisfied: numpy>=1.17 in /usr/local/lib/python3.10/dist-packages (from accelerate) (1.25.2)\n",
            "Requirement already satisfied: packaging>=20.0 in /usr/local/lib/python3.10/dist-packages (from accelerate) (24.0)\n",
            "Requirement already satisfied: psutil in /usr/local/lib/python3.10/dist-packages (from accelerate) (5.9.5)\n",
            "Requirement already satisfied: pyyaml in /usr/local/lib/python3.10/dist-packages (from accelerate) (6.0.1)\n",
            "Requirement already satisfied: torch>=1.10.0 in /usr/local/lib/python3.10/dist-packages (from accelerate) (2.2.1+cu121)\n",
            "Requirement already satisfied: huggingface-hub in /usr/local/lib/python3.10/dist-packages (from accelerate) (0.20.3)\n",
            "Requirement already satisfied: safetensors>=0.3.1 in /usr/local/lib/python3.10/dist-packages (from accelerate) (0.4.2)\n",
            "Requirement already satisfied: filelock in /usr/local/lib/python3.10/dist-packages (from torch>=1.10.0->accelerate) (3.13.3)\n",
            "Requirement already satisfied: typing-extensions>=4.8.0 in /usr/local/lib/python3.10/dist-packages (from torch>=1.10.0->accelerate) (4.10.0)\n",
            "Requirement already satisfied: sympy in /usr/local/lib/python3.10/dist-packages (from torch>=1.10.0->accelerate) (1.12)\n",
            "Requirement already satisfied: networkx in /usr/local/lib/python3.10/dist-packages (from torch>=1.10.0->accelerate) (3.2.1)\n",
            "Requirement already satisfied: jinja2 in /usr/local/lib/python3.10/dist-packages (from torch>=1.10.0->accelerate) (3.1.3)\n",
            "Requirement already satisfied: fsspec in /usr/local/lib/python3.10/dist-packages (from torch>=1.10.0->accelerate) (2023.6.0)\n",
            "Requirement already satisfied: nvidia-cuda-nvrtc-cu12==12.1.105 in /usr/local/lib/python3.10/dist-packages (from torch>=1.10.0->accelerate) (12.1.105)\n",
            "Requirement already satisfied: nvidia-cuda-runtime-cu12==12.1.105 in /usr/local/lib/python3.10/dist-packages (from torch>=1.10.0->accelerate) (12.1.105)\n",
            "Requirement already satisfied: nvidia-cuda-cupti-cu12==12.1.105 in /usr/local/lib/python3.10/dist-packages (from torch>=1.10.0->accelerate) (12.1.105)\n",
            "Requirement already satisfied: nvidia-cudnn-cu12==8.9.2.26 in /usr/local/lib/python3.10/dist-packages (from torch>=1.10.0->accelerate) (8.9.2.26)\n",
            "Requirement already satisfied: nvidia-cublas-cu12==12.1.3.1 in /usr/local/lib/python3.10/dist-packages (from torch>=1.10.0->accelerate) (12.1.3.1)\n",
            "Requirement already satisfied: nvidia-cufft-cu12==11.0.2.54 in /usr/local/lib/python3.10/dist-packages (from torch>=1.10.0->accelerate) (11.0.2.54)\n",
            "Requirement already satisfied: nvidia-curand-cu12==10.3.2.106 in /usr/local/lib/python3.10/dist-packages (from torch>=1.10.0->accelerate) (10.3.2.106)\n",
            "Requirement already satisfied: nvidia-cusolver-cu12==11.4.5.107 in /usr/local/lib/python3.10/dist-packages (from torch>=1.10.0->accelerate) (11.4.5.107)\n",
            "Requirement already satisfied: nvidia-cusparse-cu12==12.1.0.106 in /usr/local/lib/python3.10/dist-packages (from torch>=1.10.0->accelerate) (12.1.0.106)\n",
            "Requirement already satisfied: nvidia-nccl-cu12==2.19.3 in /usr/local/lib/python3.10/dist-packages (from torch>=1.10.0->accelerate) (2.19.3)\n",
            "Requirement already satisfied: nvidia-nvtx-cu12==12.1.105 in /usr/local/lib/python3.10/dist-packages (from torch>=1.10.0->accelerate) (12.1.105)\n",
            "Requirement already satisfied: triton==2.2.0 in /usr/local/lib/python3.10/dist-packages (from torch>=1.10.0->accelerate) (2.2.0)\n",
            "Requirement already satisfied: nvidia-nvjitlink-cu12 in /usr/local/lib/python3.10/dist-packages (from nvidia-cusolver-cu12==11.4.5.107->torch>=1.10.0->accelerate) (12.4.127)\n",
            "Requirement already satisfied: requests in /usr/local/lib/python3.10/dist-packages (from huggingface-hub->accelerate) (2.31.0)\n",
            "Requirement already satisfied: tqdm>=4.42.1 in /usr/local/lib/python3.10/dist-packages (from huggingface-hub->accelerate) (4.66.2)\n",
            "Requirement already satisfied: MarkupSafe>=2.0 in /usr/local/lib/python3.10/dist-packages (from jinja2->torch>=1.10.0->accelerate) (2.1.5)\n",
            "Requirement already satisfied: charset-normalizer<4,>=2 in /usr/local/lib/python3.10/dist-packages (from requests->huggingface-hub->accelerate) (3.3.2)\n",
            "Requirement already satisfied: idna<4,>=2.5 in /usr/local/lib/python3.10/dist-packages (from requests->huggingface-hub->accelerate) (3.6)\n",
            "Requirement already satisfied: urllib3<3,>=1.21.1 in /usr/local/lib/python3.10/dist-packages (from requests->huggingface-hub->accelerate) (2.0.7)\n",
            "Requirement already satisfied: certifi>=2017.4.17 in /usr/local/lib/python3.10/dist-packages (from requests->huggingface-hub->accelerate) (2024.2.2)\n",
            "Requirement already satisfied: mpmath>=0.19 in /usr/local/lib/python3.10/dist-packages (from sympy->torch>=1.10.0->accelerate) (1.3.0)\n"
          ]
        }
      ]
    },
    {
      "cell_type": "code",
      "execution_count": 34,
      "metadata": {
        "colab": {
          "base_uri": "https://localhost:8080/"
        },
        "id": "hMPsihmGt5vi",
        "outputId": "7f841c8e-82a0-4b97-ac73-667c744b1a5e"
      },
      "outputs": [
        {
          "output_type": "stream",
          "name": "stdout",
          "text": [
            "GPU\n"
          ]
        }
      ],
      "source": [
        "if torch.cuda.is_available():\n",
        "    device = torch.device(\"cuda\")\n",
        "    print('GPU')\n",
        "else:\n",
        "    device = torch.device(\"cpu\")\n",
        "    print('CPU')"
      ]
    },
    {
      "cell_type": "code",
      "execution_count": 35,
      "metadata": {
        "id": "y1Fld25-kpot"
      },
      "outputs": [],
      "source": [
        "train_paths = ['/content/train/california_wildfires_2018_train.tsv',\n",
        "               '/content/train/canada_wildfires_2016_train.tsv',\n",
        "               '/content/train/cyclone_idai_2019_train.tsv',\n",
        "               '/content/train/ecuador_earthquake_2016_train.tsv',\n",
        "               '/content/train/greece_wildfires_2018_train.tsv',\n",
        "               '/content/train/hurricane_dorian_2019_train.tsv',\n",
        "               '/content/train/hurricane_florence_2018_train.tsv',\n",
        "               '/content/train/hurricane_harvey_2017_train.tsv',\n",
        "               '/content/train/hurricane_irma_2017_train.tsv',\n",
        "               '/content/train/hurricane_maria_2017_train.tsv',\n",
        "               '/content/train/hurricane_matthew_2016_train.tsv',\n",
        "               '/content/train/italy_earthquake_aug_2016_train.tsv',\n",
        "               '/content/train/kaikoura_earthquake_2016_train.tsv',\n",
        "               '/content/train/kerala_floods_2018_train.tsv',\n",
        "               '/content/train/maryland_floods_2018_train.tsv',\n",
        "               '/content/train/midwestern_us_floods_2019_train.tsv',\n",
        "               '/content/train/pakistan_earthquake_2019_train.tsv',\n",
        "               '/content/train/puebla_mexico_earthquake_2017_train.tsv',\n",
        "               '/content/train/srilanka_floods_2017_train.tsv']\n",
        "\n",
        "val_paths = ['/content/dev/california_wildfires_2018_dev.tsv',\n",
        "             '/content/dev/canada_wildfires_2016_dev.tsv',\n",
        "             '/content/dev/cyclone_idai_2019_dev.tsv',\n",
        "             '/content/dev/ecuador_earthquake_2016_dev.tsv',\n",
        "             '/content/dev/greece_wildfires_2018_dev.tsv',\n",
        "             '/content/dev/hurricane_dorian_2019_dev.tsv',\n",
        "             '/content/dev/hurricane_florence_2018_dev.tsv',\n",
        "             '/content/dev/hurricane_harvey_2017_dev.tsv',\n",
        "             '/content/dev/hurricane_irma_2017_dev.tsv',\n",
        "             '/content/dev/hurricane_maria_2017_dev.tsv',\n",
        "             '/content/dev/hurricane_matthew_2016_dev.tsv',\n",
        "             '/content/dev/italy_earthquake_aug_2016_dev.tsv',\n",
        "             '/content/dev/kaikoura_earthquake_2016_dev.tsv',\n",
        "             '/content/dev/kerala_floods_2018_dev.tsv',\n",
        "             '/content/dev/maryland_floods_2018_dev.tsv',\n",
        "             '/content/dev/midwestern_us_floods_2019_dev.tsv',\n",
        "             '/content/dev/pakistan_earthquake_2019_dev.tsv',\n",
        "             '/content/dev/puebla_mexico_earthquake_2017_dev.tsv',\n",
        "             '/content/dev/srilanka_floods_2017_dev.tsv']\n",
        "\n",
        "test_paths = ['/content/test/california_wildfires_2018_test.tsv',\n",
        "              '/content/test/canada_wildfires_2016_test.tsv',\n",
        "              '/content/test/cyclone_idai_2019_test.tsv',\n",
        "              '/content/test/ecuador_earthquake_2016_test.tsv',\n",
        "              '/content/test/greece_wildfires_2018_test.tsv',\n",
        "              '/content/test/hurricane_dorian_2019_test.tsv',\n",
        "              '/content/test/hurricane_florence_2018_test.tsv',\n",
        "              '/content/test/hurricane_harvey_2017_test.tsv',\n",
        "              '/content/test/hurricane_irma_2017_test.tsv',\n",
        "              '/content/test/hurricane_maria_2017_test.tsv',\n",
        "              '/content/test/hurricane_matthew_2016_test.tsv',\n",
        "              '/content/test/italy_earthquake_aug_2016_test.tsv',\n",
        "              '/content/test/kaikoura_earthquake_2016_test.tsv',\n",
        "              '/content/test/kerala_floods_2018_test.tsv',\n",
        "              '/content/test/maryland_floods_2018_test.tsv',\n",
        "              '/content/test/midwestern_us_floods_2019_test.tsv',\n",
        "              '/content/test/pakistan_earthquake_2019_test.tsv',\n",
        "              '/content/test/puebla_mexico_earthquake_2017_test.tsv',\n",
        "              '/content/test/srilanka_floods_2017_test.tsv']\n",
        "\n",
        "train_file_paths = []\n",
        "\n",
        "for path in train_paths:\n",
        "    files = glob.glob(path)\n",
        "    train_file_paths.extend(files)\n",
        "\n",
        "val_file_paths = []\n",
        "\n",
        "for path in val_paths:\n",
        "    files = glob.glob(path)\n",
        "    val_file_paths.extend(files)\n",
        "\n",
        "test_file_paths = []\n",
        "\n",
        "for path in test_paths:\n",
        "    files = glob.glob(path)\n",
        "    test_file_paths.extend(files)"
      ]
    },
    {
      "cell_type": "code",
      "execution_count": 36,
      "metadata": {
        "id": "fH8nhW9qkrhF"
      },
      "outputs": [],
      "source": [
        "train_dfs = []\n",
        "\n",
        "for file in train_file_paths:\n",
        "    df = pd.read_csv(file, sep='\\t')\n",
        "    df = df.iloc[:, 1:] # removing tweet ids\n",
        "    df = df[df['class_label'] != 'missing_or_found_people']\n",
        "    train_dfs.append(df)\n",
        "\n",
        "train_df = pd.concat(train_dfs, ignore_index=True)\n",
        "\n",
        "val_dfs = [] # dataframes\n",
        "\n",
        "for file in val_file_paths:\n",
        "    df = pd.read_csv(file, sep='\\t')\n",
        "    df = df.iloc[:, 1:] # removing tweet ids\n",
        "    df = df[df['class_label'] != 'missing_or_found_people']\n",
        "    val_dfs.append(df)\n",
        "\n",
        "val_df = pd.concat(val_dfs, ignore_index=True)\n",
        "\n",
        "test_dfs = [] # dataframes\n",
        "\n",
        "for file in test_file_paths:\n",
        "    df = pd.read_csv(file, sep='\\t')\n",
        "    df = df.iloc[:, 1:] # removing tweet ids\n",
        "    df = df[df['class_label'] != 'missing_or_found_people']\n",
        "    test_dfs.append(df)\n",
        "\n",
        "test_df = pd.concat(test_dfs, ignore_index=True)"
      ]
    },
    {
      "cell_type": "code",
      "execution_count": 37,
      "metadata": {
        "id": "hSWapyUNmWag"
      },
      "outputs": [],
      "source": [
        "class_labels = train_df['class_label'].unique().tolist()\n",
        "class_counts = train_df['class_label'].value_counts()\n",
        "min_class_size = class_counts.min()  # Size of the smallest class\n",
        "\n",
        "balanced_dfs = []  # List to hold balanced DataFrames for each class\n",
        "for class_label in class_labels:\n",
        "    class_df = train_df[train_df['class_label'] == class_label]\n",
        "    sampled_df = class_df.sample(n=min_class_size, random_state=42)  # Randomly sample to match smallest class size\n",
        "    balanced_dfs.append(sampled_df)\n",
        "\n",
        "train_df = pd.concat(balanced_dfs, ignore_index=True)\n",
        "# Optional: Shuffle the balanced DataFrame\n",
        "train_df = train_df.sample(frac=1, random_state=42).reset_index(drop=True)\n",
        "\n",
        "class_labels = [s.strip() for s in class_labels]"
      ]
    },
    {
      "cell_type": "code",
      "execution_count": 38,
      "metadata": {
        "id": "O_UF9J1Bnqn1"
      },
      "outputs": [],
      "source": [
        "id2label = {id:label for id, label in enumerate(class_labels)}\n",
        "label2id = {label:id for id, label in enumerate(class_labels)}"
      ]
    },
    {
      "cell_type": "code",
      "execution_count": 39,
      "metadata": {
        "id": "91GZgvsHofrU"
      },
      "outputs": [],
      "source": [
        "all_labels = pd.concat([train_df['class_label'], val_df['class_label'], test_df['class_label']]).unique()\n",
        "\n",
        "# Create a mapping from class labels to numbers\n",
        "label_to_num = {label: num for num, label in enumerate(all_labels)}\n",
        "\n",
        "# Step 2: Apply this mapping to each dataset\n",
        "train_df['class_label_num'] = train_df['class_label'].map(label_to_num)\n",
        "val_df['class_label_num'] = val_df['class_label'].map(label_to_num)\n",
        "test_df['class_label_num'] = test_df['class_label'].map(label_to_num)"
      ]
    },
    {
      "cell_type": "code",
      "execution_count": 40,
      "metadata": {
        "id": "a7bujVwOzZh_",
        "outputId": "aa1c6769-9637-4d48-e418-9e3295f916e2",
        "colab": {
          "base_uri": "https://localhost:8080/",
          "height": 664
        }
      },
      "outputs": [
        {
          "output_type": "execute_result",
          "data": {
            "text/plain": [
              "<Axes: ylabel='count'>"
            ]
          },
          "metadata": {},
          "execution_count": 40
        },
        {
          "output_type": "display_data",
          "data": {
            "text/plain": [
              "<Figure size 1000x1000 with 1 Axes>"
            ],
            "image/png": "[encoded data removed]"
          },
          "metadata": {}
        }
      ],
      "source": [
        "train_df.class_label.value_counts().plot(kind='pie', figsize=(10,10))"
      ]
    },
    {
      "cell_type": "code",
      "source": [
        "model_name = 'bert-base-uncased'\n",
        "tokenizer = BertTokenizerFast.from_pretrained(model_name)"
      ],
      "metadata": {
        "id": "1GS48fCuGWtG"
      },
      "execution_count": 41,
      "outputs": []
    },
    {
      "cell_type": "code",
      "source": [
        "train_tweets = list(train_df.tweet_text)\n",
        "train_labels = list(train_df.class_label_num)\n",
        "\n",
        "val_tweets = list(val_df.tweet_text)\n",
        "val_labels = list(val_df.class_label_num)\n",
        "\n",
        "test_tweets = list(test_df.tweet_text)\n",
        "test_labels = list(test_df.class_label_num)"
      ],
      "metadata": {
        "id": "VXC8FIc7LPrA"
      },
      "execution_count": 42,
      "outputs": []
    },
    {
      "cell_type": "code",
      "source": [
        "train_encodings = tokenizer(train_tweets, truncation=True, padding=True, max_length=512)\n",
        "val_encodings = tokenizer(val_tweets, truncation=True, padding=True, max_length=512)\n",
        "test_encodings = tokenizer(test_tweets, truncation=True, padding=True, max_length=512)"
      ],
      "metadata": {
        "id": "d53JfrbfLJkG"
      },
      "execution_count": 43,
      "outputs": []
    },
    {
      "cell_type": "code",
      "source": [
        "class TweetDataset(Dataset):\n",
        "    def __init__(self, encodings, labels):\n",
        "        self.encodings = encodings\n",
        "        self.labels = labels\n",
        "\n",
        "    def __getitem__(self, idx):\n",
        "        item = {key: torch.tensor(val[idx]) for key, val in self.encodings.items()}\n",
        "        item['labels'] = torch.tensor(self.labels[idx], dtype=torch.long)\n",
        "        return item\n",
        "\n",
        "    def __len__(self):\n",
        "        return len(self.labels)\n"
      ],
      "metadata": {
        "id": "wqnoeiIxF9fJ"
      },
      "execution_count": 44,
      "outputs": []
    },
    {
      "cell_type": "code",
      "source": [
        "train_dataset = TweetDataset(train_encodings, train_labels)\n",
        "val_dataset = TweetDataset(val_encodings, val_labels)\n",
        "test_dataset = TweetDataset(test_encodings, test_labels)"
      ],
      "metadata": {
        "id": "bzrannIoLa78"
      },
      "execution_count": 45,
      "outputs": []
    },
    {
      "cell_type": "code",
      "source": [
        "model = BertForSequenceClassification.from_pretrained(model_name, num_labels=len(label_to_num))\n",
        "model.to(device)"
      ],
      "metadata": {
        "id": "zkT-Na7fGcr-",
        "outputId": "ab0f4ab8-24c2-4672-a6f4-eae7023f6747",
        "colab": {
          "base_uri": "https://localhost:8080/"
        }
      },
      "execution_count": 46,
      "outputs": [
        {
          "output_type": "stream",
          "name": "stderr",
          "text": [
            "Some weights of BertForSequenceClassification were not initialized from the model checkpoint at bert-base-uncased and are newly initialized: ['classifier.bias', 'classifier.weight']\n",
            "You should probably TRAIN this model on a down-stream task to be able to use it for predictions and inference.\n"
          ]
        },
        {
          "output_type": "execute_result",
          "data": {
            "text/plain": [
              "BertForSequenceClassification(\n",
              "  (bert): BertModel(\n",
              "    (embeddings): BertEmbeddings(\n",
              "      (word_embeddings): Embedding(30522, 768, padding_idx=0)\n",
              "      (position_embeddings): Embedding(512, 768)\n",
              "      (token_type_embeddings): Embedding(2, 768)\n",
              "      (LayerNorm): LayerNorm((768,), eps=1e-12, elementwise_affine=True)\n",
              "      (dropout): Dropout(p=0.1, inplace=False)\n",
              "    )\n",
              "    (encoder): BertEncoder(\n",
              "      (layer): ModuleList(\n",
              "        (0-11): 12 x BertLayer(\n",
              "          (attention): BertAttention(\n",
              "            (self): BertSelfAttention(\n",
              "              (query): Linear(in_features=768, out_features=768, bias=True)\n",
              "              (key): Linear(in_features=768, out_features=768, bias=True)\n",
              "              (value): Linear(in_features=768, out_features=768, bias=True)\n",
              "              (dropout): Dropout(p=0.1, inplace=False)\n",
              "            )\n",
              "            (output): BertSelfOutput(\n",
              "              (dense): Linear(in_features=768, out_features=768, bias=True)\n",
              "              (LayerNorm): LayerNorm((768,), eps=1e-12, elementwise_affine=True)\n",
              "              (dropout): Dropout(p=0.1, inplace=False)\n",
              "            )\n",
              "          )\n",
              "          (intermediate): BertIntermediate(\n",
              "            (dense): Linear(in_features=768, out_features=3072, bias=True)\n",
              "            (intermediate_act_fn): GELUActivation()\n",
              "          )\n",
              "          (output): BertOutput(\n",
              "            (dense): Linear(in_features=3072, out_features=768, bias=True)\n",
              "            (LayerNorm): LayerNorm((768,), eps=1e-12, elementwise_affine=True)\n",
              "            (dropout): Dropout(p=0.1, inplace=False)\n",
              "          )\n",
              "        )\n",
              "      )\n",
              "    )\n",
              "    (pooler): BertPooler(\n",
              "      (dense): Linear(in_features=768, out_features=768, bias=True)\n",
              "      (activation): Tanh()\n",
              "    )\n",
              "  )\n",
              "  (dropout): Dropout(p=0.1, inplace=False)\n",
              "  (classifier): Linear(in_features=768, out_features=9, bias=True)\n",
              ")"
            ]
          },
          "metadata": {},
          "execution_count": 46
        }
      ]
    },
    {
      "cell_type": "code",
      "source": [
        "training_args = TrainingArguments(\n",
        "    output_dir='/content/bert_model_output',\n",
        "    do_train=True,\n",
        "    do_eval=True,\n",
        "    num_train_epochs=3,\n",
        "    per_device_train_batch_size=16,\n",
        "    per_device_eval_batch_size=16,\n",
        "    fp16=True,\n",
        "    warmup_steps=200,\n",
        "    weight_decay=0.01,\n",
        "    logging_strategy='steps',\n",
        "    logging_dir='/content/logs',\n",
        "    logging_steps=100,\n",
        "    evaluation_strategy=\"steps\",\n",
        "    eval_steps=100,\n",
        "    save_strategy=\"steps\",\n",
        "    save_steps=500,\n",
        "    load_best_model_at_end=True,\n",
        ")\n",
        "\n",
        "def compute_metrics(pred):\n",
        "    labels = pred.label_ids\n",
        "    preds = pred.predictions.argmax(-1)\n",
        "    precision, recall, f1, _ = precision_recall_fscore_support(labels, preds, average='weighted')\n",
        "    acc = accuracy_score(labels, preds)\n",
        "    return {\n",
        "        'accuracy': acc,\n",
        "        'f1': f1,\n",
        "        'precision': precision,\n",
        "        'recall': recall\n",
        "    }\n",
        "\n",
        "trainer = Trainer(\n",
        "    model=model,\n",
        "    args=training_args,\n",
        "    train_dataset=train_dataset,\n",
        "    eval_dataset=val_dataset,\n",
        "    compute_metrics=compute_metrics\n",
        ")"
      ],
      "metadata": {
        "id": "MLREy3O6Gpxh",
        "outputId": "325b8cbd-ea23-4ce3-9f11-363905c4b237",
        "colab": {
          "base_uri": "https://localhost:8080/"
        }
      },
      "execution_count": 47,
      "outputs": [
        {
          "output_type": "stream",
          "name": "stderr",
          "text": [
            "/usr/local/lib/python3.10/dist-packages/accelerate/accelerator.py:436: FutureWarning: Passing the following arguments to `Accelerator` is deprecated and will be removed in version 1.0 of Accelerate: dict_keys(['dispatch_batches', 'split_batches', 'even_batches', 'use_seedable_sampler']). Please pass an `accelerate.DataLoaderConfiguration` instead: \n",
            "dataloader_config = DataLoaderConfiguration(dispatch_batches=None, split_batches=False, even_batches=True, use_seedable_sampler=True)\n",
            "  warnings.warn(\n"
          ]
        }
      ]
    },
    {
      "cell_type": "code",
      "source": [
        "# Train the model\n",
        "trainer.train()"
      ],
      "metadata": {
        "id": "xq1n6Qr0GvyS",
        "outputId": "435520bd-c9fe-463c-9d9c-756b6d75d9ae",
        "colab": {
          "base_uri": "https://localhost:8080/",
          "height": 1000
        }
      },
      "execution_count": 48,
      "outputs": [
        {
          "output_type": "display_data",
          "data": {
            "text/plain": [
              "<IPython.core.display.HTML object>"
            ],
            "text/html": [
              "\n",
              "    <div>\n",
              "      \n",
              "      <progress value='3096' max='3096' style='width:300px; height:20px; vertical-align: middle;'></progress>\n",
              "      [3096/3096 14:11, Epoch 3/3]\n",
              "    </div>\n",
              "    <table border=\"1\" class=\"dataframe\">\n",
              "  <thead>\n",
              " <tr style=\"text-align: left;\">\n",
              "      <th>Step</th>\n",
              "      <th>Training Loss</th>\n",
              "      <th>Validation Loss</th>\n",
              "      <th>Accuracy</th>\n",
              "      <th>F1</th>\n",
              "      <th>Precision</th>\n",
              "      <th>Recall</th>\n",
              "    </tr>\n",
              "  </thead>\n",
              "  <tbody>\n",
              "    <tr>\n",
              "      <td>100</td>\n",
              "      <td>2.147200</td>\n",
              "      <td>1.869404</td>\n",
              "      <td>0.439087</td>\n",
              "      <td>0.394769</td>\n",
              "      <td>0.430421</td>\n",
              "      <td>0.439087</td>\n",
              "    </tr>\n",
              "    <tr>\n",
              "      <td>200</td>\n",
              "      <td>1.401300</td>\n",
              "      <td>1.030972</td>\n",
              "      <td>0.677324</td>\n",
              "      <td>0.635082</td>\n",
              "      <td>0.676264</td>\n",
              "      <td>0.677324</td>\n",
              "    </tr>\n",
              "    <tr>\n",
              "      <td>300</td>\n",
              "      <td>0.924900</td>\n",
              "      <td>0.878638</td>\n",
              "      <td>0.710713</td>\n",
              "      <td>0.694313</td>\n",
              "      <td>0.732271</td>\n",
              "      <td>0.710713</td>\n",
              "    </tr>\n",
              "    <tr>\n",
              "      <td>400</td>\n",
              "      <td>0.862200</td>\n",
              "      <td>0.964604</td>\n",
              "      <td>0.687379</td>\n",
              "      <td>0.675825</td>\n",
              "      <td>0.707928</td>\n",
              "      <td>0.687379</td>\n",
              "    </tr>\n",
              "    <tr>\n",
              "      <td>500</td>\n",
              "      <td>0.800300</td>\n",
              "      <td>0.932131</td>\n",
              "      <td>0.683254</td>\n",
              "      <td>0.669486</td>\n",
              "      <td>0.734899</td>\n",
              "      <td>0.683254</td>\n",
              "    </tr>\n",
              "    <tr>\n",
              "      <td>600</td>\n",
              "      <td>0.752700</td>\n",
              "      <td>0.796548</td>\n",
              "      <td>0.734047</td>\n",
              "      <td>0.723389</td>\n",
              "      <td>0.739847</td>\n",
              "      <td>0.734047</td>\n",
              "    </tr>\n",
              "    <tr>\n",
              "      <td>700</td>\n",
              "      <td>0.782100</td>\n",
              "      <td>0.951934</td>\n",
              "      <td>0.671136</td>\n",
              "      <td>0.679896</td>\n",
              "      <td>0.743871</td>\n",
              "      <td>0.671136</td>\n",
              "    </tr>\n",
              "    <tr>\n",
              "      <td>800</td>\n",
              "      <td>0.764600</td>\n",
              "      <td>0.829334</td>\n",
              "      <td>0.722186</td>\n",
              "      <td>0.729222</td>\n",
              "      <td>0.756421</td>\n",
              "      <td>0.722186</td>\n",
              "    </tr>\n",
              "    <tr>\n",
              "      <td>900</td>\n",
              "      <td>0.767400</td>\n",
              "      <td>0.762836</td>\n",
              "      <td>0.734433</td>\n",
              "      <td>0.720668</td>\n",
              "      <td>0.746867</td>\n",
              "      <td>0.734433</td>\n",
              "    </tr>\n",
              "    <tr>\n",
              "      <td>1000</td>\n",
              "      <td>0.733600</td>\n",
              "      <td>0.754819</td>\n",
              "      <td>0.744231</td>\n",
              "      <td>0.738968</td>\n",
              "      <td>0.748165</td>\n",
              "      <td>0.744231</td>\n",
              "    </tr>\n",
              "    <tr>\n",
              "      <td>1100</td>\n",
              "      <td>0.659300</td>\n",
              "      <td>0.831616</td>\n",
              "      <td>0.723218</td>\n",
              "      <td>0.722432</td>\n",
              "      <td>0.747970</td>\n",
              "      <td>0.723218</td>\n",
              "    </tr>\n",
              "    <tr>\n",
              "      <td>1200</td>\n",
              "      <td>0.542800</td>\n",
              "      <td>0.744388</td>\n",
              "      <td>0.753642</td>\n",
              "      <td>0.747223</td>\n",
              "      <td>0.752829</td>\n",
              "      <td>0.753642</td>\n",
              "    </tr>\n",
              "    <tr>\n",
              "      <td>1300</td>\n",
              "      <td>0.529300</td>\n",
              "      <td>0.797249</td>\n",
              "      <td>0.730179</td>\n",
              "      <td>0.728927</td>\n",
              "      <td>0.739543</td>\n",
              "      <td>0.730179</td>\n",
              "    </tr>\n",
              "    <tr>\n",
              "      <td>1400</td>\n",
              "      <td>0.531800</td>\n",
              "      <td>0.845658</td>\n",
              "      <td>0.721671</td>\n",
              "      <td>0.721926</td>\n",
              "      <td>0.745328</td>\n",
              "      <td>0.721671</td>\n",
              "    </tr>\n",
              "    <tr>\n",
              "      <td>1500</td>\n",
              "      <td>0.501300</td>\n",
              "      <td>0.773525</td>\n",
              "      <td>0.743458</td>\n",
              "      <td>0.739407</td>\n",
              "      <td>0.751370</td>\n",
              "      <td>0.743458</td>\n",
              "    </tr>\n",
              "    <tr>\n",
              "      <td>1600</td>\n",
              "      <td>0.522500</td>\n",
              "      <td>0.799157</td>\n",
              "      <td>0.730566</td>\n",
              "      <td>0.726343</td>\n",
              "      <td>0.746192</td>\n",
              "      <td>0.730566</td>\n",
              "    </tr>\n",
              "    <tr>\n",
              "      <td>1700</td>\n",
              "      <td>0.503900</td>\n",
              "      <td>0.844384</td>\n",
              "      <td>0.721671</td>\n",
              "      <td>0.721405</td>\n",
              "      <td>0.744038</td>\n",
              "      <td>0.721671</td>\n",
              "    </tr>\n",
              "    <tr>\n",
              "      <td>1800</td>\n",
              "      <td>0.502100</td>\n",
              "      <td>0.806901</td>\n",
              "      <td>0.736883</td>\n",
              "      <td>0.733590</td>\n",
              "      <td>0.750167</td>\n",
              "      <td>0.736883</td>\n",
              "    </tr>\n",
              "    <tr>\n",
              "      <td>1900</td>\n",
              "      <td>0.479000</td>\n",
              "      <td>0.805880</td>\n",
              "      <td>0.735078</td>\n",
              "      <td>0.734142</td>\n",
              "      <td>0.752186</td>\n",
              "      <td>0.735078</td>\n",
              "    </tr>\n",
              "    <tr>\n",
              "      <td>2000</td>\n",
              "      <td>0.502800</td>\n",
              "      <td>0.841025</td>\n",
              "      <td>0.721026</td>\n",
              "      <td>0.708990</td>\n",
              "      <td>0.746711</td>\n",
              "      <td>0.721026</td>\n",
              "    </tr>\n",
              "    <tr>\n",
              "      <td>2100</td>\n",
              "      <td>0.407900</td>\n",
              "      <td>0.855689</td>\n",
              "      <td>0.722831</td>\n",
              "      <td>0.723930</td>\n",
              "      <td>0.748859</td>\n",
              "      <td>0.722831</td>\n",
              "    </tr>\n",
              "    <tr>\n",
              "      <td>2200</td>\n",
              "      <td>0.315200</td>\n",
              "      <td>0.843677</td>\n",
              "      <td>0.737012</td>\n",
              "      <td>0.740535</td>\n",
              "      <td>0.760289</td>\n",
              "      <td>0.737012</td>\n",
              "    </tr>\n",
              "    <tr>\n",
              "      <td>2300</td>\n",
              "      <td>0.273900</td>\n",
              "      <td>0.917487</td>\n",
              "      <td>0.726956</td>\n",
              "      <td>0.727898</td>\n",
              "      <td>0.749716</td>\n",
              "      <td>0.726956</td>\n",
              "    </tr>\n",
              "    <tr>\n",
              "      <td>2400</td>\n",
              "      <td>0.280900</td>\n",
              "      <td>0.912001</td>\n",
              "      <td>0.735594</td>\n",
              "      <td>0.735754</td>\n",
              "      <td>0.755041</td>\n",
              "      <td>0.735594</td>\n",
              "    </tr>\n",
              "    <tr>\n",
              "      <td>2500</td>\n",
              "      <td>0.267800</td>\n",
              "      <td>0.972800</td>\n",
              "      <td>0.722444</td>\n",
              "      <td>0.723513</td>\n",
              "      <td>0.749842</td>\n",
              "      <td>0.722444</td>\n",
              "    </tr>\n",
              "    <tr>\n",
              "      <td>2600</td>\n",
              "      <td>0.219100</td>\n",
              "      <td>0.906896</td>\n",
              "      <td>0.742168</td>\n",
              "      <td>0.742617</td>\n",
              "      <td>0.754029</td>\n",
              "      <td>0.742168</td>\n",
              "    </tr>\n",
              "    <tr>\n",
              "      <td>2700</td>\n",
              "      <td>0.244000</td>\n",
              "      <td>0.899604</td>\n",
              "      <td>0.745005</td>\n",
              "      <td>0.744594</td>\n",
              "      <td>0.756598</td>\n",
              "      <td>0.745005</td>\n",
              "    </tr>\n",
              "    <tr>\n",
              "      <td>2800</td>\n",
              "      <td>0.280600</td>\n",
              "      <td>0.932664</td>\n",
              "      <td>0.736625</td>\n",
              "      <td>0.736369</td>\n",
              "      <td>0.752202</td>\n",
              "      <td>0.736625</td>\n",
              "    </tr>\n",
              "    <tr>\n",
              "      <td>2900</td>\n",
              "      <td>0.256800</td>\n",
              "      <td>0.933309</td>\n",
              "      <td>0.734949</td>\n",
              "      <td>0.734117</td>\n",
              "      <td>0.751554</td>\n",
              "      <td>0.734949</td>\n",
              "    </tr>\n",
              "    <tr>\n",
              "      <td>3000</td>\n",
              "      <td>0.262900</td>\n",
              "      <td>0.902656</td>\n",
              "      <td>0.743715</td>\n",
              "      <td>0.743679</td>\n",
              "      <td>0.755225</td>\n",
              "      <td>0.743715</td>\n",
              "    </tr>\n",
              "  </tbody>\n",
              "</table><p>"
            ]
          },
          "metadata": {}
        },
        {
          "output_type": "execute_result",
          "data": {
            "text/plain": [
              "TrainOutput(global_step=3096, training_loss=0.5901627133983051, metrics={'train_runtime': 851.5558, 'train_samples_per_second': 58.118, 'train_steps_per_second': 3.636, 'total_flos': 8520546803884830.0, 'train_loss': 0.5901627133983051, 'epoch': 3.0})"
            ]
          },
          "metadata": {},
          "execution_count": 48
        }
      ]
    },
    {
      "cell_type": "code",
      "source": [
        "trainer.evaluate(eval_dataset=test_dataset)"
      ],
      "metadata": {
        "id": "UEEuHlT1OjVS",
        "outputId": "98654ea7-18b3-4543-95cd-6ec9c1184970",
        "colab": {
          "base_uri": "https://localhost:8080/",
          "height": 193
        }
      },
      "execution_count": 49,
      "outputs": [
        {
          "output_type": "display_data",
          "data": {
            "text/plain": [
              "<IPython.core.display.HTML object>"
            ],
            "text/html": [
              "\n",
              "    <div>\n",
              "      \n",
              "      <progress value='943' max='943' style='width:300px; height:20px; vertical-align: middle;'></progress>\n",
              "      [943/943 00:35]\n",
              "    </div>\n",
              "    "
            ]
          },
          "metadata": {}
        },
        {
          "output_type": "execute_result",
          "data": {
            "text/plain": [
              "{'eval_loss': 0.7546403408050537,\n",
              " 'eval_accuracy': 0.7472826086956522,\n",
              " 'eval_f1': 0.7426876481284017,\n",
              " 'eval_precision': 0.7524647794295112,\n",
              " 'eval_recall': 0.7472826086956522,\n",
              " 'eval_runtime': 35.9172,\n",
              " 'eval_samples_per_second': 420.077,\n",
              " 'eval_steps_per_second': 26.255,\n",
              " 'epoch': 3.0}"
            ]
          },
          "metadata": {},
          "execution_count": 49
        }
      ]
    }
  ],
  "metadata": {
    "accelerator": "GPU",
    "colab": {
      "gpuType": "V100",
      "machine_shape": "hm",
      "provenance": []
    },
    "kernelspec": {
      "display_name": "Python 3",
      "name": "python3"
    },
    "language_info": {
      "codemirror_mode": {
        "name": "ipython",
        "version": 3
      },
      "file_extension": ".py",
      "mimetype": "text/x-python",
      "name": "python",
      "nbconvert_exporter": "python",
      "pygments_lexer": "ipython3",
      "version": "3.9.16"
    }
  },
  "nbformat": 4,
  "nbformat_minor": 0
}